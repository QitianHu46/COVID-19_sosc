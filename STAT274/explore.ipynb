{
 "cells": [
  {
   "cell_type": "code",
   "execution_count": 106,
   "metadata": {},
   "outputs": [
    {
     "data": {
      "text/plain": [
       "Index(['Unnamed: 0', 'Unnamed: 0.1', 'ct_shortname', 'prov', 'citycode',\n",
       "       'ctnm', 'centlon', 'centlat', 'locked_down', 'lockdown_date',\n",
       "       'bdidx_19m20', 'xc_lockdown', 'xc_closed', 'daySinceFirstCase',\n",
       "       'sub_prov_ct', 'gdp2018', '自治州-盟-地区', 'in_291', 'pdensity', 'gdp_p',\n",
       "       'hospital_d', 'popHR18_all', 'Log_popHR18_all', 'gdp_per_10k',\n",
       "       'primary_ind', 'second_ind', 'third_ind', 'prov_leader_rank',\n",
       "       'num_hospital_total', 'num_doctors_total', 'num_firm_total',\n",
       "       'non_domestic_firms_total', 'pct_of_non_domestic_firm',\n",
       "       'primary_emp_share_total', 'secondary_emp_share_total',\n",
       "       'tertiary_emp_share_total', 'inaug_time', 'birthmonth', 'is_female',\n",
       "       'age_feb20', 'party_age', 'work_age', 'tenure', 'majorchara',\n",
       "       'is_STEM_major', 'rule_in_native_prov', 'is_BA', 'is_MA', 'is_PhD',\n",
       "       'cumulative_case', 'log_cumulative_case', 'bdidx_19m20_feb1_10',\n",
       "       'lockdown_datenum', 'xc_lockdown_datenum', 'xc_closed_datenum',\n",
       "       'hu_liao_jiang_nei', 'mayor', 'mayor_age', 'mayor_work_age', 'xunshi',\n",
       "       'tenure_bi'],\n",
       "      dtype='object')"
      ]
     },
     "execution_count": 106,
     "metadata": {},
     "output_type": "execute_result"
    }
   ],
   "source": [
    "import pandas as pd \n",
    "d = pd.read_csv('/Users/qitianhu/Documents/Research/Explore/COVID-19_sosc/Data/276城_3source_by_ct_V3.1.csv')\n",
    "d['xunshi'] = d.prov.apply(lambda x: 1 if x in ['福建省', '河南省', '四川省', '贵州省', '辽宁省', '黑龙江省', '江苏省', '山东省', '湖南省', '宁夏回族自治区', '广东省', '海南省', '河北省', '山西省'] else 0)\n",
    "d['tenure_bi'] = d.tenure.apply(lambda a: int(a >= 3))\n",
    "d.columns"
   ]
  },
  {
   "cell_type": "code",
   "execution_count": null,
   "metadata": {},
   "outputs": [
    {
     "data": {
      "text/plain": [
       "xunshi\n",
       "1    1.566265\n",
       "0    2.438776\n",
       "Name: tenure, dtype: float64"
      ]
     },
     "execution_count": 4,
     "metadata": {},
     "output_type": "execute_result"
    }
   ],
   "source": [
    "d.groupby('xunshi').mean()['tenure'].sort_values()"
   ]
  },
  {
   "cell_type": "code",
   "execution_count": 4,
   "metadata": {},
   "outputs": [
    {
     "data": {
      "text/plain": [
       "xunshi0\n",
       "0    1.696429\n",
       "1    2.975000\n",
       "Name: tenure, dtype: float64"
      ]
     },
     "execution_count": 4,
     "metadata": {},
     "output_type": "execute_result"
    }
   ],
   "source": [
    "# 看第十一轮和第十二轮的影响\n",
    "d['xunshi0'] = d.prov.apply(lambda x: 1 if x in ['甘肃省', '广西壮族自治区', '云南省', '陕西省'] else 0)\n",
    "d.groupby('xunshi0').mean()['tenure'].sort_values()"
   ]
  },
  {
   "cell_type": "markdown",
   "metadata": {},
   "source": [
    "## IV assumptions"
   ]
  },
  {
   "cell_type": "code",
   "execution_count": 13,
   "metadata": {},
   "outputs": [
    {
     "ename": "ValueError",
     "evalue": "wrong shape for coefs",
     "output_type": "error",
     "traceback": [
      "\u001b[0;31m---------------------------------------------------------------------------\u001b[0m",
      "\u001b[0;31mValueError\u001b[0m                                Traceback (most recent call last)",
      "\u001b[0;32m<ipython-input-13-0b0b90889bdc>\u001b[0m in \u001b[0;36m<module>\u001b[0;34m\u001b[0m\n\u001b[1;32m      4\u001b[0m \u001b[0mmodel\u001b[0m \u001b[0;34m=\u001b[0m \u001b[0msm\u001b[0m\u001b[0;34m.\u001b[0m\u001b[0mOLS\u001b[0m\u001b[0;34m(\u001b[0m\u001b[0md\u001b[0m\u001b[0;34m.\u001b[0m\u001b[0mtenure\u001b[0m\u001b[0;34m,\u001b[0m \u001b[0md\u001b[0m\u001b[0;34m[\u001b[0m\u001b[0;34m[\u001b[0m\u001b[0;34m'xunshi'\u001b[0m \u001b[0;34m,\u001b[0m\u001b[0;34m'gdp_per_10k'\u001b[0m\u001b[0;34m,\u001b[0m \u001b[0;34m'prov_leader_rank'\u001b[0m\u001b[0;34m]\u001b[0m\u001b[0;34m]\u001b[0m\u001b[0;34m)\u001b[0m\u001b[0;34m\u001b[0m\u001b[0;34m\u001b[0m\u001b[0m\n\u001b[1;32m      5\u001b[0m \u001b[0mres\u001b[0m \u001b[0;34m=\u001b[0m \u001b[0mmodel\u001b[0m\u001b[0;34m.\u001b[0m\u001b[0mfit\u001b[0m\u001b[0;34m(\u001b[0m\u001b[0;34m)\u001b[0m\u001b[0;34m\u001b[0m\u001b[0;34m\u001b[0m\u001b[0m\n\u001b[0;32m----> 6\u001b[0;31m \u001b[0mres\u001b[0m\u001b[0;34m.\u001b[0m\u001b[0mt_test\u001b[0m\u001b[0;34m(\u001b[0m\u001b[0;34m[\u001b[0m\u001b[0;36m1\u001b[0m\u001b[0;34m,\u001b[0m \u001b[0;36m0\u001b[0m\u001b[0;34m]\u001b[0m\u001b[0;34m)\u001b[0m\u001b[0;34m\u001b[0m\u001b[0;34m\u001b[0m\u001b[0m\n\u001b[0m",
      "\u001b[0;32m/Library/Frameworks/Python.framework/Versions/3.6/lib/python3.6/site-packages/statsmodels/base/model.py\u001b[0m in \u001b[0;36mt_test\u001b[0;34m(self, r_matrix, cov_p, scale, use_t)\u001b[0m\n\u001b[1;32m   1569\u001b[0m         \u001b[0;32mfrom\u001b[0m \u001b[0mpatsy\u001b[0m \u001b[0;32mimport\u001b[0m \u001b[0mDesignInfo\u001b[0m\u001b[0;34m\u001b[0m\u001b[0;34m\u001b[0m\u001b[0m\n\u001b[1;32m   1570\u001b[0m         \u001b[0mnames\u001b[0m \u001b[0;34m=\u001b[0m \u001b[0mself\u001b[0m\u001b[0;34m.\u001b[0m\u001b[0mmodel\u001b[0m\u001b[0;34m.\u001b[0m\u001b[0mdata\u001b[0m\u001b[0;34m.\u001b[0m\u001b[0mcov_names\u001b[0m\u001b[0;34m\u001b[0m\u001b[0;34m\u001b[0m\u001b[0m\n\u001b[0;32m-> 1571\u001b[0;31m         \u001b[0mLC\u001b[0m \u001b[0;34m=\u001b[0m \u001b[0mDesignInfo\u001b[0m\u001b[0;34m(\u001b[0m\u001b[0mnames\u001b[0m\u001b[0;34m)\u001b[0m\u001b[0;34m.\u001b[0m\u001b[0mlinear_constraint\u001b[0m\u001b[0;34m(\u001b[0m\u001b[0mr_matrix\u001b[0m\u001b[0;34m)\u001b[0m\u001b[0;34m\u001b[0m\u001b[0;34m\u001b[0m\u001b[0m\n\u001b[0m\u001b[1;32m   1572\u001b[0m         \u001b[0mr_matrix\u001b[0m\u001b[0;34m,\u001b[0m \u001b[0mq_matrix\u001b[0m \u001b[0;34m=\u001b[0m \u001b[0mLC\u001b[0m\u001b[0;34m.\u001b[0m\u001b[0mcoefs\u001b[0m\u001b[0;34m,\u001b[0m \u001b[0mLC\u001b[0m\u001b[0;34m.\u001b[0m\u001b[0mconstants\u001b[0m\u001b[0;34m\u001b[0m\u001b[0;34m\u001b[0m\u001b[0m\n\u001b[1;32m   1573\u001b[0m         \u001b[0mnum_ttests\u001b[0m \u001b[0;34m=\u001b[0m \u001b[0mr_matrix\u001b[0m\u001b[0;34m.\u001b[0m\u001b[0mshape\u001b[0m\u001b[0;34m[\u001b[0m\u001b[0;36m0\u001b[0m\u001b[0;34m]\u001b[0m\u001b[0;34m\u001b[0m\u001b[0;34m\u001b[0m\u001b[0m\n",
      "\u001b[0;32m/Library/Frameworks/Python.framework/Versions/3.6/lib/python3.6/site-packages/patsy/design_info.py\u001b[0m in \u001b[0;36mlinear_constraint\u001b[0;34m(self, constraint_likes)\u001b[0m\n\u001b[1;32m    534\u001b[0m           \u001b[0mdi\u001b[0m\u001b[0;34m.\u001b[0m\u001b[0mlinear_constraint\u001b[0m\u001b[0;34m(\u001b[0m\u001b[0;34m\"x1 = x2 = 3\"\u001b[0m\u001b[0;34m)\u001b[0m\u001b[0;34m\u001b[0m\u001b[0;34m\u001b[0m\u001b[0m\n\u001b[1;32m    535\u001b[0m         \"\"\"\n\u001b[0;32m--> 536\u001b[0;31m         \u001b[0;32mreturn\u001b[0m \u001b[0mlinear_constraint\u001b[0m\u001b[0;34m(\u001b[0m\u001b[0mconstraint_likes\u001b[0m\u001b[0;34m,\u001b[0m \u001b[0mself\u001b[0m\u001b[0;34m.\u001b[0m\u001b[0mcolumn_names\u001b[0m\u001b[0;34m)\u001b[0m\u001b[0;34m\u001b[0m\u001b[0;34m\u001b[0m\u001b[0m\n\u001b[0m\u001b[1;32m    537\u001b[0m \u001b[0;34m\u001b[0m\u001b[0m\n\u001b[1;32m    538\u001b[0m     \u001b[0;32mdef\u001b[0m \u001b[0mdescribe\u001b[0m\u001b[0;34m(\u001b[0m\u001b[0mself\u001b[0m\u001b[0;34m)\u001b[0m\u001b[0;34m:\u001b[0m\u001b[0;34m\u001b[0m\u001b[0;34m\u001b[0m\u001b[0m\n",
      "\u001b[0;32m/Library/Frameworks/Python.framework/Versions/3.6/lib/python3.6/site-packages/patsy/constraint.py\u001b[0m in \u001b[0;36mlinear_constraint\u001b[0;34m(constraint_like, variable_names)\u001b[0m\n\u001b[1;32m    414\u001b[0m     \u001b[0;31m# assume a raw ndarray\u001b[0m\u001b[0;34m\u001b[0m\u001b[0;34m\u001b[0m\u001b[0;34m\u001b[0m\u001b[0m\n\u001b[1;32m    415\u001b[0m     \u001b[0mcoefs\u001b[0m \u001b[0;34m=\u001b[0m \u001b[0mnp\u001b[0m\u001b[0;34m.\u001b[0m\u001b[0masarray\u001b[0m\u001b[0;34m(\u001b[0m\u001b[0mconstraint_like\u001b[0m\u001b[0;34m,\u001b[0m \u001b[0mdtype\u001b[0m\u001b[0;34m=\u001b[0m\u001b[0mfloat\u001b[0m\u001b[0;34m)\u001b[0m\u001b[0;34m\u001b[0m\u001b[0;34m\u001b[0m\u001b[0m\n\u001b[0;32m--> 416\u001b[0;31m     \u001b[0;32mreturn\u001b[0m \u001b[0mLinearConstraint\u001b[0m\u001b[0;34m(\u001b[0m\u001b[0mvariable_names\u001b[0m\u001b[0;34m,\u001b[0m \u001b[0mcoefs\u001b[0m\u001b[0;34m)\u001b[0m\u001b[0;34m\u001b[0m\u001b[0;34m\u001b[0m\u001b[0m\n\u001b[0m\u001b[1;32m    417\u001b[0m \u001b[0;34m\u001b[0m\u001b[0m\n\u001b[1;32m    418\u001b[0m \u001b[0;34m\u001b[0m\u001b[0m\n",
      "\u001b[0;32m/Library/Frameworks/Python.framework/Versions/3.6/lib/python3.6/site-packages/patsy/constraint.py\u001b[0m in \u001b[0;36m__init__\u001b[0;34m(self, variable_names, coefs, constants)\u001b[0m\n\u001b[1;32m     55\u001b[0m             \u001b[0;32mraise\u001b[0m \u001b[0mValueError\u001b[0m\u001b[0;34m(\u001b[0m\u001b[0;34m\"constants is not (convertible to) a column matrix\"\u001b[0m\u001b[0;34m)\u001b[0m\u001b[0;34m\u001b[0m\u001b[0;34m\u001b[0m\u001b[0m\n\u001b[1;32m     56\u001b[0m         \u001b[0;32mif\u001b[0m \u001b[0mself\u001b[0m\u001b[0;34m.\u001b[0m\u001b[0mcoefs\u001b[0m\u001b[0;34m.\u001b[0m\u001b[0mndim\u001b[0m \u001b[0;34m!=\u001b[0m \u001b[0;36m2\u001b[0m \u001b[0;32mor\u001b[0m \u001b[0mself\u001b[0m\u001b[0;34m.\u001b[0m\u001b[0mcoefs\u001b[0m\u001b[0;34m.\u001b[0m\u001b[0mshape\u001b[0m\u001b[0;34m[\u001b[0m\u001b[0;36m1\u001b[0m\u001b[0;34m]\u001b[0m \u001b[0;34m!=\u001b[0m \u001b[0mlen\u001b[0m\u001b[0;34m(\u001b[0m\u001b[0mvariable_names\u001b[0m\u001b[0;34m)\u001b[0m\u001b[0;34m:\u001b[0m\u001b[0;34m\u001b[0m\u001b[0;34m\u001b[0m\u001b[0m\n\u001b[0;32m---> 57\u001b[0;31m             \u001b[0;32mraise\u001b[0m \u001b[0mValueError\u001b[0m\u001b[0;34m(\u001b[0m\u001b[0;34m\"wrong shape for coefs\"\u001b[0m\u001b[0;34m)\u001b[0m\u001b[0;34m\u001b[0m\u001b[0;34m\u001b[0m\u001b[0m\n\u001b[0m\u001b[1;32m     58\u001b[0m         \u001b[0;32mif\u001b[0m \u001b[0mself\u001b[0m\u001b[0;34m.\u001b[0m\u001b[0mcoefs\u001b[0m\u001b[0;34m.\u001b[0m\u001b[0mshape\u001b[0m\u001b[0;34m[\u001b[0m\u001b[0;36m0\u001b[0m\u001b[0;34m]\u001b[0m \u001b[0;34m==\u001b[0m \u001b[0;36m0\u001b[0m\u001b[0;34m:\u001b[0m\u001b[0;34m\u001b[0m\u001b[0;34m\u001b[0m\u001b[0m\n\u001b[1;32m     59\u001b[0m             \u001b[0;32mraise\u001b[0m \u001b[0mValueError\u001b[0m\u001b[0;34m(\u001b[0m\u001b[0;34m\"must have at least one row in constraint matrix\"\u001b[0m\u001b[0;34m)\u001b[0m\u001b[0;34m\u001b[0m\u001b[0;34m\u001b[0m\u001b[0m\n",
      "\u001b[0;31mValueError\u001b[0m: wrong shape for coefs"
     ]
    }
   ],
   "source": [
    "import statsmodels.api as sm\n",
    "import numpy as np \n",
    "\n",
    "model = sm.OLS(d.tenure, d[['xunshi' ,'gdp_per_10k', 'prov_leader_rank']])\n",
    "res = model.fit()\n",
    "res.t_test([1, 0])"
   ]
  },
  {
   "cell_type": "markdown",
   "metadata": {},
   "source": [
    "import statsmodels.api as sm\n",
    "import numpy as np\n",
    "\n",
    "<!-- duncan_prestige = sm.datasets.get_rdataset(\"Duncan\", \"carData\")\n",
    "Y = duncan_prestige.data['income']\n",
    "X = duncan_prestige.data['education'] -->\n",
    "X = sm.add_constant(X)\n",
    "model = sm.OLS(Y,X)\n",
    "results = model.fit()\n",
    "results.params\n",
    "const        10.603498\n",
    "education     0.594859\n",
    "dtype: float64"
   ]
  },
  {
   "cell_type": "markdown",
   "metadata": {},
   "source": [
    "# select good vars"
   ]
  },
  {
   "cell_type": "code",
   "execution_count": 14,
   "metadata": {},
   "outputs": [],
   "source": [
    "# import json \n",
    "# json.load\n",
    "# with open('/Users/qitianhu/Documents/Research/Explore/COVID-19_sosc/STAT274/sensitivity_analysis/var_groups.json', 'r') as json_file:\n",
    "#     dct = json.load(json_file)\n",
    "dct = {\n",
    "    \"lockdown\":[\"locked_down\", \"lockdown_date\", \"bdidx_19m20\", \"xc_lockdown\", \"xc_closed\"],\n",
    "    \"economic\": [\"sub_prov_ct\", \"gdp2018\",\n",
    "        \"pdensity\", \"gdp_p\", \"hospital_d\", \"popHR18_all\", \"Log_popHR18_all\",\n",
    "        \"gdp_per_10k\", \"primary_ind\", \"second_ind\", \"third_ind\",\n",
    "        \"prov_leader_rank\", \"num_hospital_total\", \"num_doctors_total\",\"pct_of_non_domestic_firm\", \"primary_emp_share_total\",\n",
    "        \"secondary_emp_share_total\", \"tertiary_emp_share_total\"],\n",
    "    \"personal\": [\"inaug_time\",\n",
    "        \"birthmonth\", \"is_female\", \"age_feb20\", \"party_age\", \"work_age\",\n",
    "        \"tenure\", \"majorchara\", \"is_STEM_major\", \"rule_in_native_prov\", \"is_BA\",\n",
    "        \"is_MA\", \"is_PhD\"],\n",
    "    \"covid\": [\"cumulative_case\", \"log_cumulative_case\"]\n",
    "}\n",
    "\n"
   ]
  },
  {
   "cell_type": "code",
   "execution_count": 15,
   "metadata": {},
   "outputs": [],
   "source": [
    "import statsmodels.api as sm\n",
    "import numpy as np\n",
    "\n"
   ]
  },
  {
   "cell_type": "code",
   "execution_count": 16,
   "metadata": {},
   "outputs": [
    {
     "data": {
      "text/plain": [
       "['sub_prov_ct', 'gdp2018', 'in_291']"
      ]
     },
     "execution_count": 16,
     "metadata": {},
     "output_type": "execute_result"
    }
   ],
   "source": [
    "[c1,c2,c3]"
   ]
  },
  {
   "cell_type": "markdown",
   "metadata": {},
   "source": [
    "### pure linear regression coef selection"
   ]
  },
  {
   "cell_type": "code",
   "execution_count": 62,
   "metadata": {},
   "outputs": [
    {
     "name": "stdout",
     "output_type": "stream",
     "text": [
      "['sub_prov_ct', 'gdp2018', 'pdensity']\n",
      "['sub_prov_ct', 'gdp2018', 'gdp_p']\n",
      "['sub_prov_ct', 'gdp2018', 'hospital_d']\n",
      "['sub_prov_ct', 'gdp2018', 'gdp_per_10k']\n",
      "['sub_prov_ct', 'gdp2018', 'primary_ind']\n",
      "['sub_prov_ct', 'gdp2018', 'prov_leader_rank']\n",
      "['sub_prov_ct', 'gdp2018', 'num_hospital_total']\n",
      "['sub_prov_ct', 'gdp2018', 'num_doctors_total']\n",
      "['sub_prov_ct', 'gdp2018', 'pct_of_non_domestic_firm']\n",
      "['sub_prov_ct', 'gdp2018', 'primary_emp_share_total']\n",
      "['sub_prov_ct', 'pdensity', 'gdp_p']\n",
      "['sub_prov_ct', 'pdensity', 'hospital_d']\n",
      "['sub_prov_ct', 'pdensity', 'gdp_per_10k']\n",
      "['sub_prov_ct', 'pdensity', 'primary_ind']\n",
      "['sub_prov_ct', 'pdensity', 'prov_leader_rank']\n",
      "['sub_prov_ct', 'pdensity', 'num_hospital_total']\n",
      "['sub_prov_ct', 'pdensity', 'num_doctors_total']\n",
      "['sub_prov_ct', 'pdensity', 'pct_of_non_domestic_firm']\n",
      "['sub_prov_ct', 'pdensity', 'primary_emp_share_total']\n",
      "['sub_prov_ct', 'gdp_p', 'hospital_d']\n",
      "['sub_prov_ct', 'gdp_p', 'gdp_per_10k']\n",
      "['sub_prov_ct', 'gdp_p', 'prov_leader_rank']\n",
      "['sub_prov_ct', 'gdp_p', 'num_hospital_total']\n",
      "['sub_prov_ct', 'gdp_p', 'num_doctors_total']\n",
      "['sub_prov_ct', 'gdp_p', 'pct_of_non_domestic_firm']\n",
      "['sub_prov_ct', 'gdp_p', 'primary_emp_share_total']\n",
      "['sub_prov_ct', 'hospital_d', 'gdp_per_10k']\n",
      "['sub_prov_ct', 'hospital_d', 'prov_leader_rank']\n",
      "['sub_prov_ct', 'hospital_d', 'num_hospital_total']\n",
      "['sub_prov_ct', 'hospital_d', 'num_doctors_total']\n",
      "['sub_prov_ct', 'hospital_d', 'pct_of_non_domestic_firm']\n",
      "['sub_prov_ct', 'hospital_d', 'primary_emp_share_total']\n",
      "['sub_prov_ct', 'gdp_per_10k', 'primary_ind']\n",
      "['sub_prov_ct', 'gdp_per_10k', 'prov_leader_rank']\n",
      "['sub_prov_ct', 'gdp_per_10k', 'num_hospital_total']\n",
      "['sub_prov_ct', 'gdp_per_10k', 'num_doctors_total']\n",
      "['sub_prov_ct', 'gdp_per_10k', 'pct_of_non_domestic_firm']\n",
      "['sub_prov_ct', 'gdp_per_10k', 'primary_emp_share_total']\n",
      "['sub_prov_ct', 'primary_ind', 'prov_leader_rank']\n",
      "['sub_prov_ct', 'primary_ind', 'num_hospital_total']\n",
      "['sub_prov_ct', 'primary_ind', 'pct_of_non_domestic_firm']\n",
      "['sub_prov_ct', 'primary_ind', 'primary_emp_share_total']\n",
      "['sub_prov_ct', 'prov_leader_rank', 'num_hospital_total']\n",
      "['sub_prov_ct', 'prov_leader_rank', 'num_doctors_total']\n",
      "['sub_prov_ct', 'prov_leader_rank', 'pct_of_non_domestic_firm']\n",
      "['sub_prov_ct', 'prov_leader_rank', 'primary_emp_share_total']\n",
      "['sub_prov_ct', 'num_hospital_total', 'num_doctors_total']\n",
      "['sub_prov_ct', 'num_hospital_total', 'pct_of_non_domestic_firm']\n",
      "['sub_prov_ct', 'num_hospital_total', 'primary_emp_share_total']\n",
      "['sub_prov_ct', 'num_doctors_total', 'pct_of_non_domestic_firm']\n",
      "['sub_prov_ct', 'num_doctors_total', 'primary_emp_share_total']\n",
      "['sub_prov_ct', 'pct_of_non_domestic_firm', 'primary_emp_share_total']\n",
      "['gdp2018', 'pdensity', 'gdp_p']\n",
      "['gdp2018', 'pdensity', 'hospital_d']\n",
      "['gdp2018', 'pdensity', 'gdp_per_10k']\n",
      "['gdp2018', 'pdensity', 'primary_ind']\n",
      "['gdp2018', 'pdensity', 'prov_leader_rank']\n",
      "['gdp2018', 'pdensity', 'num_hospital_total']\n",
      "['gdp2018', 'pdensity', 'num_doctors_total']\n",
      "['gdp2018', 'pdensity', 'pct_of_non_domestic_firm']\n",
      "['gdp2018', 'pdensity', 'primary_emp_share_total']\n",
      "['gdp2018', 'gdp_p', 'gdp_per_10k']\n",
      "['gdp2018', 'gdp_p', 'prov_leader_rank']\n",
      "['gdp2018', 'gdp_p', 'pct_of_non_domestic_firm']\n",
      "['gdp2018', 'gdp_p', 'primary_emp_share_total']\n",
      "['gdp2018', 'hospital_d', 'num_hospital_total']\n",
      "['gdp2018', 'hospital_d', 'num_doctors_total']\n",
      "['gdp2018', 'hospital_d', 'pct_of_non_domestic_firm']\n",
      "['gdp2018', 'hospital_d', 'primary_emp_share_total']\n",
      "['gdp2018', 'gdp_per_10k', 'primary_ind']\n",
      "['gdp2018', 'gdp_per_10k', 'prov_leader_rank']\n",
      "['gdp2018', 'gdp_per_10k', 'num_hospital_total']\n",
      "['gdp2018', 'gdp_per_10k', 'pct_of_non_domestic_firm']\n",
      "['gdp2018', 'gdp_per_10k', 'primary_emp_share_total']\n",
      "['gdp2018', 'primary_ind', 'prov_leader_rank']\n",
      "['gdp2018', 'primary_ind', 'num_hospital_total']\n",
      "['gdp2018', 'primary_ind', 'pct_of_non_domestic_firm']\n",
      "['gdp2018', 'primary_ind', 'primary_emp_share_total']\n",
      "['gdp2018', 'prov_leader_rank', 'num_hospital_total']\n",
      "['gdp2018', 'prov_leader_rank', 'pct_of_non_domestic_firm']\n",
      "['gdp2018', 'prov_leader_rank', 'primary_emp_share_total']\n",
      "['gdp2018', 'num_hospital_total', 'num_doctors_total']\n",
      "['gdp2018', 'num_hospital_total', 'pct_of_non_domestic_firm']\n",
      "['gdp2018', 'num_hospital_total', 'primary_emp_share_total']\n",
      "['gdp2018', 'num_doctors_total', 'pct_of_non_domestic_firm']\n",
      "['gdp2018', 'num_doctors_total', 'primary_emp_share_total']\n",
      "['gdp2018', 'pct_of_non_domestic_firm', 'primary_emp_share_total']\n",
      "['pdensity', 'gdp_p', 'hospital_d']\n",
      "['pdensity', 'gdp_p', 'gdp_per_10k']\n",
      "['pdensity', 'gdp_p', 'prov_leader_rank']\n",
      "['pdensity', 'gdp_p', 'num_hospital_total']\n",
      "['pdensity', 'gdp_p', 'num_doctors_total']\n",
      "['pdensity', 'gdp_p', 'pct_of_non_domestic_firm']\n",
      "['pdensity', 'gdp_p', 'primary_emp_share_total']\n",
      "['pdensity', 'hospital_d', 'gdp_per_10k']\n",
      "['pdensity', 'hospital_d', 'prov_leader_rank']\n",
      "['pdensity', 'hospital_d', 'num_hospital_total']\n",
      "['pdensity', 'hospital_d', 'num_doctors_total']\n",
      "['pdensity', 'hospital_d', 'pct_of_non_domestic_firm']\n",
      "['pdensity', 'hospital_d', 'primary_emp_share_total']\n",
      "['pdensity', 'gdp_per_10k', 'primary_ind']\n",
      "['pdensity', 'gdp_per_10k', 'prov_leader_rank']\n",
      "['pdensity', 'gdp_per_10k', 'num_hospital_total']\n",
      "['pdensity', 'gdp_per_10k', 'num_doctors_total']\n",
      "['pdensity', 'gdp_per_10k', 'pct_of_non_domestic_firm']\n",
      "['pdensity', 'gdp_per_10k', 'primary_emp_share_total']\n",
      "['pdensity', 'primary_ind', 'prov_leader_rank']\n",
      "['pdensity', 'primary_ind', 'pct_of_non_domestic_firm']\n",
      "['pdensity', 'primary_ind', 'primary_emp_share_total']\n",
      "['pdensity', 'prov_leader_rank', 'num_hospital_total']\n",
      "['pdensity', 'prov_leader_rank', 'num_doctors_total']\n",
      "['pdensity', 'prov_leader_rank', 'pct_of_non_domestic_firm']\n",
      "['pdensity', 'prov_leader_rank', 'primary_emp_share_total']\n",
      "['pdensity', 'num_hospital_total', 'num_doctors_total']\n",
      "['pdensity', 'num_hospital_total', 'pct_of_non_domestic_firm']\n",
      "['pdensity', 'num_hospital_total', 'primary_emp_share_total']\n",
      "['pdensity', 'num_doctors_total', 'pct_of_non_domestic_firm']\n",
      "['pdensity', 'num_doctors_total', 'primary_emp_share_total']\n",
      "['pdensity', 'pct_of_non_domestic_firm', 'primary_emp_share_total']\n",
      "['gdp_p', 'hospital_d', 'gdp_per_10k']\n",
      "['gdp_p', 'hospital_d', 'prov_leader_rank']\n",
      "['gdp_p', 'hospital_d', 'num_hospital_total']\n",
      "['gdp_p', 'hospital_d', 'num_doctors_total']\n",
      "['gdp_p', 'hospital_d', 'pct_of_non_domestic_firm']\n",
      "['gdp_p', 'hospital_d', 'primary_emp_share_total']\n",
      "['gdp_p', 'gdp_per_10k', 'prov_leader_rank']\n",
      "['gdp_p', 'gdp_per_10k', 'num_hospital_total']\n",
      "['gdp_p', 'gdp_per_10k', 'num_doctors_total']\n",
      "['gdp_p', 'gdp_per_10k', 'pct_of_non_domestic_firm']\n",
      "['gdp_p', 'gdp_per_10k', 'primary_emp_share_total']\n",
      "['gdp_p', 'prov_leader_rank', 'num_hospital_total']\n",
      "['gdp_p', 'prov_leader_rank', 'num_doctors_total']\n",
      "['gdp_p', 'prov_leader_rank', 'pct_of_non_domestic_firm']\n",
      "['gdp_p', 'prov_leader_rank', 'primary_emp_share_total']\n",
      "['gdp_p', 'num_hospital_total', 'num_doctors_total']\n",
      "['gdp_p', 'num_hospital_total', 'pct_of_non_domestic_firm']\n",
      "['gdp_p', 'num_hospital_total', 'primary_emp_share_total']\n",
      "['gdp_p', 'num_doctors_total', 'pct_of_non_domestic_firm']\n",
      "['gdp_p', 'num_doctors_total', 'primary_emp_share_total']\n",
      "['gdp_p', 'pct_of_non_domestic_firm', 'primary_emp_share_total']\n",
      "['hospital_d', 'gdp_per_10k', 'prov_leader_rank']\n",
      "['hospital_d', 'gdp_per_10k', 'num_hospital_total']\n",
      "['hospital_d', 'gdp_per_10k', 'num_doctors_total']\n",
      "['hospital_d', 'gdp_per_10k', 'pct_of_non_domestic_firm']\n",
      "['hospital_d', 'gdp_per_10k', 'primary_emp_share_total']\n",
      "['hospital_d', 'prov_leader_rank', 'num_hospital_total']\n",
      "['hospital_d', 'prov_leader_rank', 'num_doctors_total']\n",
      "['hospital_d', 'prov_leader_rank', 'pct_of_non_domestic_firm']\n",
      "['hospital_d', 'prov_leader_rank', 'primary_emp_share_total']\n",
      "['hospital_d', 'num_hospital_total', 'num_doctors_total']\n",
      "['hospital_d', 'num_hospital_total', 'pct_of_non_domestic_firm']\n",
      "['hospital_d', 'num_hospital_total', 'primary_emp_share_total']\n",
      "['hospital_d', 'num_doctors_total', 'pct_of_non_domestic_firm']\n",
      "['hospital_d', 'num_doctors_total', 'primary_emp_share_total']\n",
      "['hospital_d', 'pct_of_non_domestic_firm', 'primary_emp_share_total']\n",
      "['gdp_per_10k', 'primary_ind', 'prov_leader_rank']\n",
      "['gdp_per_10k', 'primary_ind', 'num_hospital_total']\n",
      "['gdp_per_10k', 'primary_ind', 'pct_of_non_domestic_firm']\n",
      "['gdp_per_10k', 'primary_ind', 'primary_emp_share_total']\n",
      "['gdp_per_10k', 'prov_leader_rank', 'num_hospital_total']\n",
      "['gdp_per_10k', 'prov_leader_rank', 'num_doctors_total']\n",
      "['gdp_per_10k', 'prov_leader_rank', 'pct_of_non_domestic_firm']\n",
      "['gdp_per_10k', 'prov_leader_rank', 'primary_emp_share_total']\n",
      "['gdp_per_10k', 'num_hospital_total', 'num_doctors_total']\n",
      "['gdp_per_10k', 'num_hospital_total', 'pct_of_non_domestic_firm']\n",
      "['gdp_per_10k', 'num_hospital_total', 'primary_emp_share_total']\n",
      "['gdp_per_10k', 'num_doctors_total', 'pct_of_non_domestic_firm']\n",
      "['gdp_per_10k', 'num_doctors_total', 'primary_emp_share_total']\n",
      "['gdp_per_10k', 'pct_of_non_domestic_firm', 'primary_emp_share_total']\n",
      "['primary_ind', 'prov_leader_rank', 'pct_of_non_domestic_firm']\n",
      "['primary_ind', 'prov_leader_rank', 'primary_emp_share_total']\n",
      "['primary_ind', 'num_hospital_total', 'pct_of_non_domestic_firm']\n",
      "['primary_ind', 'num_hospital_total', 'primary_emp_share_total']\n",
      "['primary_ind', 'pct_of_non_domestic_firm', 'primary_emp_share_total']\n",
      "['prov_leader_rank', 'num_hospital_total', 'num_doctors_total']\n",
      "['prov_leader_rank', 'num_hospital_total', 'pct_of_non_domestic_firm']\n",
      "['prov_leader_rank', 'num_hospital_total', 'primary_emp_share_total']\n",
      "['prov_leader_rank', 'num_doctors_total', 'pct_of_non_domestic_firm']\n",
      "['prov_leader_rank', 'num_doctors_total', 'primary_emp_share_total']\n",
      "['prov_leader_rank', 'pct_of_non_domestic_firm', 'primary_emp_share_total']\n",
      "['num_hospital_total', 'num_doctors_total', 'pct_of_non_domestic_firm']\n",
      "['num_hospital_total', 'num_doctors_total', 'primary_emp_share_total']\n",
      "['num_hospital_total', 'pct_of_non_domestic_firm', 'primary_emp_share_total']\n",
      "['num_doctors_total', 'pct_of_non_domestic_firm', 'primary_emp_share_total']\n"
     ]
    }
   ],
   "source": [
    "dct1 = dct['economic']\n",
    "done_pair = []\n",
    "# s = set()\n",
    "for c1i in range(len(dct1)):\n",
    "    for c2i in range(c1i, len(dct1)):\n",
    "        for c3i in range(c2i, len(dct1)):\n",
    "            c1,c2,c3 = dct1[c1i], dct1[c2i],dct1[c3i]\n",
    "            if c1 != c2 and c2!= c3 and c3!= c1:\n",
    "                mod = sm.OLS(d['xc_lockdown'], d[['tenure']+[c1,c2,c3]] )\n",
    "                res = mod.fit()\n",
    "                if float(res.f_test('tenure = 0').summary().split(',')[1][3:]) < .01:\n",
    "                    print([c1, c2, c3])\n",
    "                # s.add(set([c1,c2,c3]))\n",
    "                \n"
   ]
  },
  {
   "cell_type": "code",
   "execution_count": 42,
   "metadata": {},
   "outputs": [
    {
     "data": {
      "text/html": [
       "<table class=\"simpletable\">\n",
       "<tr>\n",
       "        <td>Model:</td>               <td>OLS</td>         <td>Adj. R-squared:</td>    <td>-0.006</td> \n",
       "</tr>\n",
       "<tr>\n",
       "  <td>Dependent Variable:</td>    <td>xc_lockdown</td>          <td>AIC:</td>         <td>376.5809</td>\n",
       "</tr>\n",
       "<tr>\n",
       "         <td>Date:</td>        <td>2021-12-05 15:13</td>        <td>BIC:</td>         <td>390.8847</td>\n",
       "</tr>\n",
       "<tr>\n",
       "   <td>No. Observations:</td>         <td>264</td>         <td>Log-Likelihood:</td>    <td>-184.29</td>\n",
       "</tr>\n",
       "<tr>\n",
       "       <td>Df Model:</td>              <td>3</td>           <td>F-statistic:</td>      <td>0.5192</td> \n",
       "</tr>\n",
       "<tr>\n",
       "     <td>Df Residuals:</td>           <td>260</td>       <td>Prob (F-statistic):</td>   <td>0.669</td> \n",
       "</tr>\n",
       "<tr>\n",
       "      <td>R-squared:</td>            <td>0.006</td>            <td>Scale:</td>         <td>0.24016</td>\n",
       "</tr>\n",
       "</table>\n",
       "<table class=\"simpletable\">\n",
       "<tr>\n",
       "              <td></td>               <th>Coef.</th> <th>Std.Err.</th>    <th>t</th>    <th>P>|t|</th> <th>[0.025</th>  <th>0.975]</th>\n",
       "</tr>\n",
       "<tr>\n",
       "  <th>tenure</th>                    <td>0.0069</td>  <td>0.0200</td>  <td>0.3455</td> <td>0.7300</td> <td>-0.0324</td> <td>0.0462</td>\n",
       "</tr>\n",
       "<tr>\n",
       "  <th>tertiary_emp_share_total</th>  <td>0.0025</td>  <td>0.0012</td>  <td>2.0312</td> <td>0.0433</td> <td>0.0001</td>  <td>0.0050</td>\n",
       "</tr>\n",
       "<tr>\n",
       "  <th>secondary_emp_share_total</th> <td>0.0053</td>  <td>0.0013</td>  <td>4.2172</td> <td>0.0000</td> <td>0.0028</td>  <td>0.0078</td>\n",
       "</tr>\n",
       "<tr>\n",
       "  <th>primary_emp_share_total</th>   <td>0.0036</td>  <td>0.0045</td>  <td>0.7906</td> <td>0.4299</td> <td>-0.0053</td> <td>0.0124</td>\n",
       "</tr>\n",
       "</table>\n",
       "<table class=\"simpletable\">\n",
       "<tr>\n",
       "     <td>Omnibus:</td>    <td>1591.697</td>  <td>Durbin-Watson:</td>    <td>2.110</td>\n",
       "</tr>\n",
       "<tr>\n",
       "  <td>Prob(Omnibus):</td>   <td>0.000</td>  <td>Jarque-Bera (JB):</td> <td>43.461</td>\n",
       "</tr>\n",
       "<tr>\n",
       "       <td>Skew:</td>       <td>0.447</td>      <td>Prob(JB):</td>      <td>0.000</td>\n",
       "</tr>\n",
       "<tr>\n",
       "     <td>Kurtosis:</td>     <td>1.225</td>   <td>Condition No.:</td>     <td>46</td>  \n",
       "</tr>\n",
       "</table>"
      ],
      "text/plain": [
       "<class 'statsmodels.iolib.summary2.Summary'>\n",
       "\"\"\"\n",
       "                   Results: Ordinary least squares\n",
       "======================================================================\n",
       "Model:                 OLS               Adj. R-squared:      -0.006  \n",
       "Dependent Variable:    xc_lockdown       AIC:                 376.5809\n",
       "Date:                  2021-12-05 15:13  BIC:                 390.8847\n",
       "No. Observations:      264               Log-Likelihood:      -184.29 \n",
       "Df Model:              3                 F-statistic:         0.5192  \n",
       "Df Residuals:          260               Prob (F-statistic):  0.669   \n",
       "R-squared:             0.006             Scale:               0.24016 \n",
       "----------------------------------------------------------------------\n",
       "                          Coef.  Std.Err.   t    P>|t|   [0.025 0.975]\n",
       "----------------------------------------------------------------------\n",
       "tenure                    0.0069   0.0200 0.3455 0.7300 -0.0324 0.0462\n",
       "tertiary_emp_share_total  0.0025   0.0012 2.0312 0.0433  0.0001 0.0050\n",
       "secondary_emp_share_total 0.0053   0.0013 4.2172 0.0000  0.0028 0.0078\n",
       "primary_emp_share_total   0.0036   0.0045 0.7906 0.4299 -0.0053 0.0124\n",
       "----------------------------------------------------------------------\n",
       "Omnibus:               1591.697        Durbin-Watson:           2.110 \n",
       "Prob(Omnibus):         0.000           Jarque-Bera (JB):        43.461\n",
       "Skew:                  0.447           Prob(JB):                0.000 \n",
       "Kurtosis:              1.225           Condition No.:           46    \n",
       "======================================================================\n",
       "\n",
       "\"\"\""
      ]
     },
     "execution_count": 42,
     "metadata": {},
     "output_type": "execute_result"
    }
   ],
   "source": [
    "res = mod.fit()\n",
    "res.summary2()"
   ]
  },
  {
   "cell_type": "code",
   "execution_count": 56,
   "metadata": {},
   "outputs": [
    {
     "data": {
      "text/plain": [
       "False"
      ]
     },
     "execution_count": 56,
     "metadata": {},
     "output_type": "execute_result"
    }
   ],
   "source": [
    "# res.params\n",
    "float(res.f_test('tenure = 0').summary().split(',')[1][3:]) < .05"
   ]
  },
  {
   "cell_type": "markdown",
   "metadata": {},
   "source": [
    "### IV selection "
   ]
  },
  {
   "cell_type": "code",
   "execution_count": 113,
   "metadata": {},
   "outputs": [
    {
     "name": "stdout",
     "output_type": "stream",
     "text": [
      "['sub_prov_ct', 'gdp2018', 'gdp_per_10k']\n",
      "['sub_prov_ct', 'gdp2018', 'pct_of_non_domestic_firm']\n",
      "['sub_prov_ct', 'gdp2018', 'primary_emp_share_total']\n",
      "['sub_prov_ct', 'gdp_per_10k', 'pct_of_non_domestic_firm']\n",
      "['sub_prov_ct', 'gdp_per_10k', 'primary_emp_share_total']\n",
      "['gdp2018', 'gdp_per_10k', 'pct_of_non_domestic_firm']\n",
      "['gdp2018', 'gdp_per_10k', 'primary_emp_share_total']\n"
     ]
    }
   ],
   "source": [
    "from statsmodels.sandbox.regression.gmm import IV2SLS\n",
    "# endog is the dependent variable, y\n",
    "# exog is the x matrix that has the endogenous information in it. Include the endogenous variables in it.\n",
    "# instrument is the z matrix. Include all the variables that are not endogenous and replace the endogenous variables from the exog matrix (above) with what ever instruments you choose for them.\n",
    "\n",
    "\n",
    "# no_endog_results = IV2SLS(endog, exog_constant, instrument = instr_constant).fit()\n",
    "dct1 = dct['economic'] + ['log_cumulative_case']\n",
    "done_pair = []\n",
    "# s = set()\n",
    "for c1i in range(len(dct1)):\n",
    "    for c2i in range(c1i, len(dct1)):\n",
    "        for c3i in range(c2i, len(dct1)):\n",
    "            c1,c2,c3 = dct1[c1i], dct1[c2i], dct1[c3i]\n",
    "            if c1 != c2 and c2!= c3 and c3!= c1:\n",
    "                res = IV2SLS(d['xc_lockdown'], d[['tenure_bi']+[c1,c2,c3]], instrument= d[['xunshi']+[c1,c2,c3]]).fit() \n",
    "                if float(res.f_test('tenure_bi = 0').summary().split(',')[1][3:]) < .001:\n",
    "                    print([c1, c2, c3])\n",
    "                # s.add(set([c1,c2,c3]))\n",
    "                \n"
   ]
  },
  {
   "cell_type": "code",
   "execution_count": 110,
   "metadata": {},
   "outputs": [
    {
     "name": "stdout",
     "output_type": "stream",
     "text": [
      "['sub_prov_ct', 'gdp2018', 'gdp_per_10k'] 1.3325741463438256\n",
      "['sub_prov_ct', 'gdp2018', 'pct_of_non_domestic_firm'] 1.0572005456292333\n",
      "['sub_prov_ct', 'gdp2018', 'primary_emp_share_total'] 1.3454640967668023\n",
      "['sub_prov_ct', 'gdp_per_10k', 'pct_of_non_domestic_firm'] 1.041462150002561\n",
      "['sub_prov_ct', 'gdp_per_10k', 'primary_emp_share_total'] 1.374792644294527\n",
      "['sub_prov_ct', 'pct_of_non_domestic_firm', 'primary_emp_share_total'] 1.0266520004343076\n",
      "['gdp2018', 'gdp_per_10k', 'pct_of_non_domestic_firm'] 0.9765090020444052\n",
      "['gdp2018', 'gdp_per_10k', 'primary_emp_share_total'] 1.2962766614144055\n",
      "['gdp2018', 'pct_of_non_domestic_firm', 'primary_emp_share_total'] 1.0055648808052962\n",
      "['gdp_per_10k', 'pct_of_non_domestic_firm', 'primary_emp_share_total'] 1.015057498181365\n"
     ]
    }
   ],
   "source": [
    "possible_pairs =[['sub_prov_ct', 'gdp2018', 'gdp_per_10k'],\n",
    "    ['sub_prov_ct', 'gdp2018', 'pct_of_non_domestic_firm'],\n",
    "    ['sub_prov_ct', 'gdp2018', 'primary_emp_share_total'],\n",
    "    ['sub_prov_ct', 'gdp_per_10k', 'pct_of_non_domestic_firm'],\n",
    "    ['sub_prov_ct', 'gdp_per_10k', 'primary_emp_share_total'],\n",
    "    ['sub_prov_ct', 'pct_of_non_domestic_firm', 'primary_emp_share_total'],\n",
    "    ['gdp2018', 'gdp_per_10k', 'pct_of_non_domestic_firm'],\n",
    "    ['gdp2018', 'gdp_per_10k', 'primary_emp_share_total'],\n",
    "    ['gdp2018', 'pct_of_non_domestic_firm', 'primary_emp_share_total'],\n",
    "    ['gdp_per_10k', 'pct_of_non_domestic_firm', 'primary_emp_share_total']]\n",
    "\n",
    "\n",
    "for pair in possible_pairs:\n",
    "    res = IV2SLS(d['xc_lockdown'], d[['tenure_bi']+pair], \n",
    "        instrument= d[['xunshi']+pair]).fit() \n",
    "    print(pair, res.params['tenure_bi'])\n",
    "    \n"
   ]
  },
  {
   "cell_type": "code",
   "execution_count": 112,
   "metadata": {},
   "outputs": [
    {
     "name": "stdout",
     "output_type": "stream",
     "text": [
      "\\begin{center}\n",
      "\\begin{tabular}{lclc}\n",
      "\\toprule\n",
      "\\textbf{Dep. Variable:}             &   xc\\_lockdown   & \\textbf{  R-squared:         } &    -0.629   \\\\\n",
      "\\textbf{Model:}                     &      IV2SLS      & \\textbf{  Adj. R-squared:    } &    -0.654   \\\\\n",
      "\\textbf{Method:}                    &    Two Stage     & \\textbf{  F-statistic:       } &       nan   \\\\\n",
      "\\textbf{}                           &  Least Squares   & \\textbf{  Prob (F-statistic):} &      nan    \\\\\n",
      "\\textbf{Date:}                      & Sun, 05 Dec 2021 & \\textbf{                     } &             \\\\\n",
      "\\textbf{Time:}                      &     16:29:13     & \\textbf{                     } &             \\\\\n",
      "\\textbf{No. Observations:}          &         264      & \\textbf{                     } &             \\\\\n",
      "\\textbf{Df Residuals:}              &         260      & \\textbf{                     } &             \\\\\n",
      "\\bottomrule\n",
      "\\end{tabular}\n",
      "\\begin{tabular}{lcccccc}\n",
      "                                    & \\textbf{coef} & \\textbf{std err} & \\textbf{t} & \\textbf{P$> |$t$|$} & \\textbf{[0.025} & \\textbf{0.975]}  \\\\\n",
      "\\midrule\n",
      "\\textbf{tenure\\_bi}                 &       1.3748  &        0.357     &     3.850  &         0.000        &        0.672    &        2.078     \\\\\n",
      "\\textbf{sub\\_prov\\_ct}              &       0.4611  &        0.276     &     1.669  &         0.096        &       -0.083    &        1.005     \\\\\n",
      "\\textbf{gdp\\_per\\_10k}              &   -7.124e-07  &      1.2e-06     &    -0.593  &         0.554        &    -3.08e-06    &     1.65e-06     \\\\\n",
      "\\textbf{primary\\_emp\\_share\\_total} &      -0.0035  &        0.008     &    -0.411  &         0.681        &       -0.020    &        0.013     \\\\\n",
      "\\bottomrule\n",
      "\\end{tabular}\n",
      "\\begin{tabular}{lclc}\n",
      "\\textbf{Omnibus:}       & 21.368 & \\textbf{  Durbin-Watson:     } &    1.982  \\\\\n",
      "\\textbf{Prob(Omnibus):} &  0.000 & \\textbf{  Jarque-Bera (JB):  } &    9.877  \\\\\n",
      "\\textbf{Skew:}          & -0.261 & \\textbf{  Prob(JB):          } &  0.00717  \\\\\n",
      "\\textbf{Kurtosis:}      &  2.209 & \\textbf{  Cond. No.          } & 3.30e+05  \\\\\n",
      "\\bottomrule\n",
      "\\end{tabular}\n",
      "%\\caption{IV2SLS Regression Results}\n",
      "\\end{center}\n"
     ]
    }
   ],
   "source": [
    "pair = ['sub_prov_ct', 'gdp_per_10k', 'primary_emp_share_total']\n",
    "\n",
    "res = IV2SLS(d['xc_lockdown'], d[['tenure_bi']+pair], instrument= d[['xunshi']+pair]).fit() \n",
    "print(res.summary().as_latex())"
   ]
  },
  {
   "cell_type": "code",
   "execution_count": 79,
   "metadata": {},
   "outputs": [
    {
     "data": {
      "text/plain": [
       "<class 'statsmodels.stats.contrast.ContrastResults'>\n",
       "<F test: F=array([[-1.80136348e-17]]), p=1.0, df_denom=260, df_num=1>"
      ]
     },
     "execution_count": 79,
     "metadata": {},
     "output_type": "execute_result"
    }
   ],
   "source": [
    "res.f_test('tenure = 0')"
   ]
  },
  {
   "cell_type": "code",
   "execution_count": 114,
   "metadata": {},
   "outputs": [],
   "source": [
    "res = IV2SLS(d['xc_lockdown'], d[['tenure_bi']+pair], instrument= d[['xunshi']+pair]).fit() \n",
    "res.summary()"
   ]
  },
  {
   "cell_type": "code",
   "execution_count": 116,
   "metadata": {},
   "outputs": [
    {
     "data": {
      "text/html": [
       "<table class=\"simpletable\">\n",
       "<caption>IV2SLS Regression Results</caption>\n",
       "<tr>\n",
       "  <th>Dep. Variable:</th>       <td>xc_lockdown</td>   <th>  R-squared:         </th> <td>  -0.629</td>\n",
       "</tr>\n",
       "<tr>\n",
       "  <th>Model:</th>                 <td>IV2SLS</td>      <th>  Adj. R-squared:    </th> <td>  -0.654</td>\n",
       "</tr>\n",
       "<tr>\n",
       "  <th>Method:</th>               <td>Two Stage</td>    <th>  F-statistic:       </th> <td>     nan</td>\n",
       "</tr>\n",
       "<tr>\n",
       "  <th></th>                    <td>Least Squares</td>  <th>  Prob (F-statistic):</th>  <td>   nan</td> \n",
       "</tr>\n",
       "<tr>\n",
       "  <th>Date:</th>             <td>Sun, 05 Dec 2021</td> <th>                     </th>     <td> </td>   \n",
       "</tr>\n",
       "<tr>\n",
       "  <th>Time:</th>                 <td>23:02:10</td>     <th>                     </th>     <td> </td>   \n",
       "</tr>\n",
       "<tr>\n",
       "  <th>No. Observations:</th>      <td>   264</td>      <th>                     </th>     <td> </td>   \n",
       "</tr>\n",
       "<tr>\n",
       "  <th>Df Residuals:</th>          <td>   260</td>      <th>                     </th>     <td> </td>   \n",
       "</tr>\n",
       "<tr>\n",
       "  <th>Df Model:</th>              <td>     4</td>      <th>                     </th>     <td> </td>   \n",
       "</tr>\n",
       "</table>\n",
       "<table class=\"simpletable\">\n",
       "<tr>\n",
       "             <td></td>                <th>coef</th>     <th>std err</th>      <th>t</th>      <th>P>|t|</th>  <th>[0.025</th>    <th>0.975]</th>  \n",
       "</tr>\n",
       "<tr>\n",
       "  <th>tenure_bi</th>               <td>    1.3748</td> <td>    0.357</td> <td>    3.850</td> <td> 0.000</td> <td>    0.672</td> <td>    2.078</td>\n",
       "</tr>\n",
       "<tr>\n",
       "  <th>sub_prov_ct</th>             <td>    0.4611</td> <td>    0.276</td> <td>    1.669</td> <td> 0.096</td> <td>   -0.083</td> <td>    1.005</td>\n",
       "</tr>\n",
       "<tr>\n",
       "  <th>gdp_per_10k</th>             <td>-7.124e-07</td> <td>  1.2e-06</td> <td>   -0.593</td> <td> 0.554</td> <td>-3.08e-06</td> <td> 1.65e-06</td>\n",
       "</tr>\n",
       "<tr>\n",
       "  <th>primary_emp_share_total</th> <td>   -0.0035</td> <td>    0.008</td> <td>   -0.411</td> <td> 0.681</td> <td>   -0.020</td> <td>    0.013</td>\n",
       "</tr>\n",
       "</table>\n",
       "<table class=\"simpletable\">\n",
       "<tr>\n",
       "  <th>Omnibus:</th>       <td>21.368</td> <th>  Durbin-Watson:     </th> <td>   1.982</td>\n",
       "</tr>\n",
       "<tr>\n",
       "  <th>Prob(Omnibus):</th> <td> 0.000</td> <th>  Jarque-Bera (JB):  </th> <td>   9.877</td>\n",
       "</tr>\n",
       "<tr>\n",
       "  <th>Skew:</th>          <td>-0.261</td> <th>  Prob(JB):          </th> <td> 0.00717</td>\n",
       "</tr>\n",
       "<tr>\n",
       "  <th>Kurtosis:</th>      <td> 2.209</td> <th>  Cond. No.          </th> <td>3.30e+05</td>\n",
       "</tr>\n",
       "</table>"
      ],
      "text/plain": [
       "<class 'statsmodels.iolib.summary.Summary'>\n",
       "\"\"\"\n",
       "                          IV2SLS Regression Results                           \n",
       "==============================================================================\n",
       "Dep. Variable:            xc_lockdown   R-squared:                      -0.629\n",
       "Model:                         IV2SLS   Adj. R-squared:                 -0.654\n",
       "Method:                     Two Stage   F-statistic:                       nan\n",
       "                        Least Squares   Prob (F-statistic):                nan\n",
       "Date:                Sun, 05 Dec 2021                                         \n",
       "Time:                        23:02:10                                         \n",
       "No. Observations:                 264                                         \n",
       "Df Residuals:                     260                                         \n",
       "Df Model:                           4                                         \n",
       "===========================================================================================\n",
       "                              coef    std err          t      P>|t|      [0.025      0.975]\n",
       "-------------------------------------------------------------------------------------------\n",
       "tenure_bi                   1.3748      0.357      3.850      0.000       0.672       2.078\n",
       "sub_prov_ct                 0.4611      0.276      1.669      0.096      -0.083       1.005\n",
       "gdp_per_10k             -7.124e-07    1.2e-06     -0.593      0.554   -3.08e-06    1.65e-06\n",
       "primary_emp_share_total    -0.0035      0.008     -0.411      0.681      -0.020       0.013\n",
       "==============================================================================\n",
       "Omnibus:                       21.368   Durbin-Watson:                   1.982\n",
       "Prob(Omnibus):                  0.000   Jarque-Bera (JB):                9.877\n",
       "Skew:                          -0.261   Prob(JB):                      0.00717\n",
       "Kurtosis:                       2.209   Cond. No.                     3.30e+05\n",
       "==============================================================================\n",
       "\"\"\""
      ]
     },
     "execution_count": 116,
     "metadata": {},
     "output_type": "execute_result"
    }
   ],
   "source": []
  },
  {
   "cell_type": "code",
   "execution_count": 118,
   "metadata": {},
   "outputs": [
    {
     "data": {
      "text/html": [
       "<table class=\"simpletable\">\n",
       "<caption>IV2SLS Regression Results</caption>\n",
       "<tr>\n",
       "  <th>Dep. Variable:</th>       <td>xc_lockdown</td>   <th>  R-squared:         </th> <td>  -0.254</td>\n",
       "</tr>\n",
       "<tr>\n",
       "  <th>Model:</th>                 <td>IV2SLS</td>      <th>  Adj. R-squared:    </th> <td>  -0.273</td>\n",
       "</tr>\n",
       "<tr>\n",
       "  <th>Method:</th>               <td>Two Stage</td>    <th>  F-statistic:       </th> <td>     nan</td>\n",
       "</tr>\n",
       "<tr>\n",
       "  <th></th>                    <td>Least Squares</td>  <th>  Prob (F-statistic):</th>  <td>   nan</td> \n",
       "</tr>\n",
       "<tr>\n",
       "  <th>Date:</th>             <td>Sun, 05 Dec 2021</td> <th>                     </th>     <td> </td>   \n",
       "</tr>\n",
       "<tr>\n",
       "  <th>Time:</th>                 <td>23:03:29</td>     <th>                     </th>     <td> </td>   \n",
       "</tr>\n",
       "<tr>\n",
       "  <th>No. Observations:</th>      <td>   264</td>      <th>                     </th>     <td> </td>   \n",
       "</tr>\n",
       "<tr>\n",
       "  <th>Df Residuals:</th>          <td>   260</td>      <th>                     </th>     <td> </td>   \n",
       "</tr>\n",
       "<tr>\n",
       "  <th>Df Model:</th>              <td>     4</td>      <th>                     </th>     <td> </td>   \n",
       "</tr>\n",
       "</table>\n",
       "<table class=\"simpletable\">\n",
       "<tr>\n",
       "             <td></td>                <th>coef</th>     <th>std err</th>      <th>t</th>      <th>P>|t|</th>  <th>[0.025</th>    <th>0.975]</th>  \n",
       "</tr>\n",
       "<tr>\n",
       "  <th>age_bi</th>                  <td>    1.2273</td> <td>    0.280</td> <td>    4.388</td> <td> 0.000</td> <td>    0.677</td> <td>    1.778</td>\n",
       "</tr>\n",
       "<tr>\n",
       "  <th>sub_prov_ct</th>             <td>   -0.1147</td> <td>    0.222</td> <td>   -0.517</td> <td> 0.606</td> <td>   -0.551</td> <td>    0.322</td>\n",
       "</tr>\n",
       "<tr>\n",
       "  <th>gdp_per_10k</th>             <td>-1.004e-06</td> <td>  1.1e-06</td> <td>   -0.913</td> <td> 0.362</td> <td>-3.17e-06</td> <td> 1.16e-06</td>\n",
       "</tr>\n",
       "<tr>\n",
       "  <th>primary_emp_share_total</th> <td>    0.0071</td> <td>    0.006</td> <td>    1.113</td> <td> 0.267</td> <td>   -0.005</td> <td>    0.020</td>\n",
       "</tr>\n",
       "</table>\n",
       "<table class=\"simpletable\">\n",
       "<tr>\n",
       "  <th>Omnibus:</th>       <td> 5.726</td> <th>  Durbin-Watson:     </th> <td>   1.952</td>\n",
       "</tr>\n",
       "<tr>\n",
       "  <th>Prob(Omnibus):</th> <td> 0.057</td> <th>  Jarque-Bera (JB):  </th> <td>   4.159</td>\n",
       "</tr>\n",
       "<tr>\n",
       "  <th>Skew:</th>          <td>-0.175</td> <th>  Prob(JB):          </th> <td>   0.125</td>\n",
       "</tr>\n",
       "<tr>\n",
       "  <th>Kurtosis:</th>      <td> 2.495</td> <th>  Cond. No.          </th> <td>3.28e+05</td>\n",
       "</tr>\n",
       "</table>"
      ],
      "text/plain": [
       "<class 'statsmodels.iolib.summary.Summary'>\n",
       "\"\"\"\n",
       "                          IV2SLS Regression Results                           \n",
       "==============================================================================\n",
       "Dep. Variable:            xc_lockdown   R-squared:                      -0.254\n",
       "Model:                         IV2SLS   Adj. R-squared:                 -0.273\n",
       "Method:                     Two Stage   F-statistic:                       nan\n",
       "                        Least Squares   Prob (F-statistic):                nan\n",
       "Date:                Sun, 05 Dec 2021                                         \n",
       "Time:                        23:03:29                                         \n",
       "No. Observations:                 264                                         \n",
       "Df Residuals:                     260                                         \n",
       "Df Model:                           4                                         \n",
       "===========================================================================================\n",
       "                              coef    std err          t      P>|t|      [0.025      0.975]\n",
       "-------------------------------------------------------------------------------------------\n",
       "age_bi                      1.2273      0.280      4.388      0.000       0.677       1.778\n",
       "sub_prov_ct                -0.1147      0.222     -0.517      0.606      -0.551       0.322\n",
       "gdp_per_10k             -1.004e-06    1.1e-06     -0.913      0.362   -3.17e-06    1.16e-06\n",
       "primary_emp_share_total     0.0071      0.006      1.113      0.267      -0.005       0.020\n",
       "==============================================================================\n",
       "Omnibus:                        5.726   Durbin-Watson:                   1.952\n",
       "Prob(Omnibus):                  0.057   Jarque-Bera (JB):                4.159\n",
       "Skew:                          -0.175   Prob(JB):                        0.125\n",
       "Kurtosis:                       2.495   Cond. No.                     3.28e+05\n",
       "==============================================================================\n",
       "\"\"\""
      ]
     },
     "execution_count": 118,
     "metadata": {},
     "output_type": "execute_result"
    }
   ],
   "source": [
    "d['age_bi'] = (d.age_feb20 > d.age_feb20.median()).apply(int)\n",
    "res = IV2SLS(d['xc_lockdown'], d[['age_bi']+pair], instrument= d[['xunshi']+pair]).fit() \n",
    "res.summary()"
   ]
  },
  {
   "cell_type": "code",
   "execution_count": 119,
   "metadata": {},
   "outputs": [
    {
     "data": {
      "text/plain": [
       "56.0"
      ]
     },
     "execution_count": 119,
     "metadata": {},
     "output_type": "execute_result"
    }
   ],
   "source": [
    "d.age_feb20.median()"
   ]
  },
  {
   "cell_type": "code",
   "execution_count": null,
   "metadata": {},
   "outputs": [],
   "source": []
  }
 ],
 "metadata": {
  "interpreter": {
   "hash": "31f2aee4e71d21fbe5cf8b01ff0e069b9275f58929596ceb00d14d90e3e16cd6"
  },
  "kernelspec": {
   "display_name": "Python 3.8.2 64-bit",
   "name": "python3"
  },
  "language_info": {
   "codemirror_mode": {
    "name": "ipython",
    "version": 3
   },
   "file_extension": ".py",
   "mimetype": "text/x-python",
   "name": "python",
   "nbconvert_exporter": "python",
   "pygments_lexer": "ipython3",
   "version": "3.8.8"
  },
  "orig_nbformat": 4
 },
 "nbformat": 4,
 "nbformat_minor": 2
}
