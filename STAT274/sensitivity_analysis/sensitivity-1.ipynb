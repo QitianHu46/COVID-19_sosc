{
  "cells": [
    {
      "cell_type": "markdown",
      "metadata": {
        "colab_type": "text",
        "id": "view-in-github"
      },
      "source": [
        "<a href=\"https://colab.research.google.com/github/vveitch/causality-tutorials/blob/main/Sensitivity_Analysis.ipynb\" target=\"_parent\"><img src=\"https://colab.research.google.com/assets/colab-badge.svg\" alt=\"Open In Colab\"/></a>"
      ]
    },
    {
      "cell_type": "markdown",
      "metadata": {
        "id": "QfZkNLUb4B-p"
      },
      "source": [
        "# Sensitivity Analysis Tutorial\n",
        "\n",
        "This tutorial gives a short example for how to assess sensitivity to unobserved confounding in causal estimation. We use the Austen plot method (https://arxiv.org/abs/2003.01747). "
      ]
    },
    {
      "cell_type": "code",
      "execution_count": 1,
      "metadata": {
        "id": "dS2X3Bq1-fxE"
      },
      "outputs": [],
      "source": [
        "import numpy as np\n",
        "import pandas as pd\n",
        "import scipy as sp\n",
        "from sklearn import preprocessing\n",
        "from sklearn.ensemble import RandomForestClassifier, RandomForestRegressor, GradientBoostingRegressor, GradientBoostingClassifier\n",
        "from sklearn.linear_model import LogisticRegression\n",
        "from sklearn.model_selection import KFold, StratifiedKFold, train_test_split\n",
        "from sklearn.metrics import mean_squared_error, log_loss\n",
        "import sklearn\n",
        "import os\n",
        "import pathlib\n",
        "\n",
        "from austen_plots.AustenPlot import AustenPlot"
      ]
    },
    {
      "cell_type": "code",
      "execution_count": 16,
      "metadata": {},
      "outputs": [],
      "source": [
        "import numpy as np\n",
        "import pandas as pd\n",
        "import scipy as sp\n",
        "from sklearn.ensemble import RandomForestClassifier, RandomForestRegressor\n",
        "from sklearn.linear_model import LinearRegression, LogisticRegression\n",
        "from sklearn.model_selection import KFold, StratifiedKFold, train_test_split\n",
        "from sklearn.metrics import mean_squared_error, log_loss\n",
        "import sklearn\n",
        "import os"
      ]
    },
    {
      "cell_type": "code",
      "execution_count": 2,
      "metadata": {
        "id": "zNsGKVyLSRxn"
      },
      "outputs": [],
      "source": [
        "RANDOM_SEED = 42\n",
        "np.random.seed(RANDOM_SEED)"
      ]
    },
    {
      "cell_type": "markdown",
      "metadata": {},
      "source": [
        "# ZQZ stuff\n"
      ]
    },
    {
      "cell_type": "code",
      "execution_count": 17,
      "metadata": {
        "id": "2AC9TPko-hbt"
      },
      "outputs": [],
      "source": [
        "# def make_data_lalonde(df):\n",
        "#     df_new = df.drop(['nodegree'], axis=1)\n",
        "#     df_new['pos74'] = (df_new['RE74'] > 0).astype(int)\n",
        "#     df_new['pos75'] = (df_new['RE75'] > 0).astype(int)\n",
        "#     df_new['treatment'] = df_new['treatment'].astype(int)\n",
        "#     return df_new\n",
        "\n",
        "def make_data_covid_lockdown(df):\n",
        "    df_new = df.copy()\n",
        "    df_new['treatment'] = (df['tenure'] >= 3).astype(int)\n",
        "    df_new['outcome'] = (df['xc_lockdown']).astype(int)\n",
        "    return df_new\n",
        "\n",
        "# col_names = ['treatment', 'age', 'education', 'black',\n",
        "#              'hispanic', 'married', 'nodegree', 'RE74', 'RE75', 'RE78']\n",
        "# control = pd.read_csv('https://raw.githubusercontent.com/anishazaveri/austen_plots/master/data/imbens-raw/psid_controls.txt', header=None, sep=r\"\\s\\s\", names=col_names, engine='python')\n",
        "# treatment = pd.read_csv('https://raw.githubusercontent.com/anishazaveri/austen_plots/master/data/imbens-raw/nswre74_treated.txt', header=None, sep=r\"\\s\\s\", names=col_names, engine='python')\n",
        "\n",
        "# lalonde1 = pd.concat([control, treatment]).reset_index(drop=True)\n",
        "# lalonde1 = make_data_lalonde(lalonde1)\n",
        "\n",
        "col_names = ['Unnamed: 0', 'Unnamed: 0.1', 'Unnamed: 0.1.1', 'ct_shortname', 'prov',\n",
        "              'citycode', 'ctnm', 'centlon', 'centlat', 'locked_down',\n",
        "              'lockdown_date', 'bdidx_19m20', 'xc_lockdown', 'xc_closed',\n",
        "              'daySinceFirstCase', 'sub_prov_ct', 'gdp2018', '自治州-盟-地区', 'in_291',\n",
        "              'pdensity', 'gdp_p', 'hospital_d', 'popHR18_all', 'Log_popHR18_all',\n",
        "              'gdp_per_10k', 'primary_ind', 'second_ind', 'third_ind',\n",
        "              'prov_leader_rank', 'num_hospital_total', 'num_doctors_total',\n",
        "              'num_firm_total', 'non_domestic_firms_total',\n",
        "              'pct_of_non_domestic_firm', 'primary_emp_share_total',\n",
        "              'secondary_emp_share_total', 'tertiary_emp_share_total', 'inaug_time',\n",
        "              'birthmonth', 'is_female', 'age_feb20', 'party_age', 'work_age',\n",
        "              'tenure', 'majorchara', 'is_STEM_major', 'rule_in_native_prov', 'is_BA',\n",
        "              'is_MA', 'is_PhD', 'cumulative_case', 'log_cumulative_case',\n",
        "              'bdidx_19m20_feb1_10', 'lockdown_datenum', 'xc_lockdown_datenum',\n",
        "              'xc_closed_datenum', 'hu_liao_jiang_nei', 'mayor', 'mayor_age',\n",
        "              'mayor_work_age', 'xunshi', 'treatment', 'outcome']\n",
        "\n",
        "dataset = pd.read_csv(\"/Users/qitianhu/Documents/Research/Explore/COVID-19_sosc/STAT274/IVdata-1.csv\")\n",
        "data = make_data_covid_lockdown(dataset)"
      ]
    },
    {
      "cell_type": "code",
      "execution_count": 18,
      "metadata": {
        "colab": {
          "base_uri": "https://localhost:8080/",
          "height": 365
        },
        "id": "gAsr99EcD8PU",
        "outputId": "ea2323e7-f957-4deb-b88e-2fb4febcc1a3"
      },
      "outputs": [
        {
          "data": {
            "text/html": [
              "<div>\n",
              "<style scoped>\n",
              "    .dataframe tbody tr th:only-of-type {\n",
              "        vertical-align: middle;\n",
              "    }\n",
              "\n",
              "    .dataframe tbody tr th {\n",
              "        vertical-align: top;\n",
              "    }\n",
              "\n",
              "    .dataframe thead th {\n",
              "        text-align: right;\n",
              "    }\n",
              "</style>\n",
              "<table border=\"1\" class=\"dataframe\">\n",
              "  <thead>\n",
              "    <tr style=\"text-align: right;\">\n",
              "      <th></th>\n",
              "      <th>Unnamed: 0</th>\n",
              "      <th>Unnamed: 0.1</th>\n",
              "      <th>Unnamed: 0.1.1</th>\n",
              "      <th>ct_shortname</th>\n",
              "      <th>prov</th>\n",
              "      <th>citycode</th>\n",
              "      <th>ctnm</th>\n",
              "      <th>centlon</th>\n",
              "      <th>centlat</th>\n",
              "      <th>locked_down</th>\n",
              "      <th>...</th>\n",
              "      <th>lockdown_datenum</th>\n",
              "      <th>xc_lockdown_datenum</th>\n",
              "      <th>xc_closed_datenum</th>\n",
              "      <th>hu_liao_jiang_nei</th>\n",
              "      <th>mayor</th>\n",
              "      <th>mayor_age</th>\n",
              "      <th>mayor_work_age</th>\n",
              "      <th>xunshi</th>\n",
              "      <th>treatment</th>\n",
              "      <th>outcome</th>\n",
              "    </tr>\n",
              "  </thead>\n",
              "  <tbody>\n",
              "    <tr>\n",
              "      <th>0</th>\n",
              "      <td>0</td>\n",
              "      <td>0</td>\n",
              "      <td>0</td>\n",
              "      <td>七台河</td>\n",
              "      <td>黑龙江省</td>\n",
              "      <td>230900</td>\n",
              "      <td>七台河市</td>\n",
              "      <td>130.862488</td>\n",
              "      <td>45.896891</td>\n",
              "      <td>0</td>\n",
              "      <td>...</td>\n",
              "      <td>30.0</td>\n",
              "      <td>30.0</td>\n",
              "      <td>30.0</td>\n",
              "      <td>0</td>\n",
              "      <td>贾君</td>\n",
              "      <td>56</td>\n",
              "      <td>38</td>\n",
              "      <td>1</td>\n",
              "      <td>0</td>\n",
              "      <td>0</td>\n",
              "    </tr>\n",
              "    <tr>\n",
              "      <th>1</th>\n",
              "      <td>1</td>\n",
              "      <td>1</td>\n",
              "      <td>1</td>\n",
              "      <td>三亚</td>\n",
              "      <td>海南省</td>\n",
              "      <td>460200</td>\n",
              "      <td>三亚市</td>\n",
              "      <td>109.418152</td>\n",
              "      <td>18.391594</td>\n",
              "      <td>0</td>\n",
              "      <td>...</td>\n",
              "      <td>30.0</td>\n",
              "      <td>30.0</td>\n",
              "      <td>5.0</td>\n",
              "      <td>0</td>\n",
              "      <td>阿东</td>\n",
              "      <td>49</td>\n",
              "      <td>22</td>\n",
              "      <td>1</td>\n",
              "      <td>0</td>\n",
              "      <td>0</td>\n",
              "    </tr>\n",
              "    <tr>\n",
              "      <th>2</th>\n",
              "      <td>2</td>\n",
              "      <td>2</td>\n",
              "      <td>2</td>\n",
              "      <td>三明</td>\n",
              "      <td>福建省</td>\n",
              "      <td>350400</td>\n",
              "      <td>三明市</td>\n",
              "      <td>117.395196</td>\n",
              "      <td>26.299947</td>\n",
              "      <td>0</td>\n",
              "      <td>...</td>\n",
              "      <td>30.0</td>\n",
              "      <td>30.0</td>\n",
              "      <td>30.0</td>\n",
              "      <td>0</td>\n",
              "      <td>余红胜</td>\n",
              "      <td>49</td>\n",
              "      <td>29</td>\n",
              "      <td>1</td>\n",
              "      <td>0</td>\n",
              "      <td>0</td>\n",
              "    </tr>\n",
              "    <tr>\n",
              "      <th>3</th>\n",
              "      <td>3</td>\n",
              "      <td>3</td>\n",
              "      <td>3</td>\n",
              "      <td>三门峡</td>\n",
              "      <td>河南省</td>\n",
              "      <td>411200</td>\n",
              "      <td>三门峡市</td>\n",
              "      <td>111.106682</td>\n",
              "      <td>34.362922</td>\n",
              "      <td>0</td>\n",
              "      <td>...</td>\n",
              "      <td>30.0</td>\n",
              "      <td>30.0</td>\n",
              "      <td>0.0</td>\n",
              "      <td>0</td>\n",
              "      <td>安伟</td>\n",
              "      <td>53</td>\n",
              "      <td>28</td>\n",
              "      <td>1</td>\n",
              "      <td>1</td>\n",
              "      <td>0</td>\n",
              "    </tr>\n",
              "    <tr>\n",
              "      <th>4</th>\n",
              "      <td>4</td>\n",
              "      <td>4</td>\n",
              "      <td>4</td>\n",
              "      <td>上饶</td>\n",
              "      <td>江西省</td>\n",
              "      <td>361100</td>\n",
              "      <td>上饶市</td>\n",
              "      <td>117.469239</td>\n",
              "      <td>28.774557</td>\n",
              "      <td>1</td>\n",
              "      <td>...</td>\n",
              "      <td>6.0</td>\n",
              "      <td>6.0</td>\n",
              "      <td>6.0</td>\n",
              "      <td>1</td>\n",
              "      <td>陈云</td>\n",
              "      <td>43</td>\n",
              "      <td>20</td>\n",
              "      <td>0</td>\n",
              "      <td>1</td>\n",
              "      <td>1</td>\n",
              "    </tr>\n",
              "  </tbody>\n",
              "</table>\n",
              "<p>5 rows × 63 columns</p>\n",
              "</div>"
            ],
            "text/plain": [
              "   Unnamed: 0  Unnamed: 0.1  Unnamed: 0.1.1 ct_shortname  prov  citycode  \\\n",
              "0           0             0               0          七台河  黑龙江省    230900   \n",
              "1           1             1               1           三亚   海南省    460200   \n",
              "2           2             2               2           三明   福建省    350400   \n",
              "3           3             3               3          三门峡   河南省    411200   \n",
              "4           4             4               4           上饶   江西省    361100   \n",
              "\n",
              "   ctnm     centlon    centlat  locked_down  ... lockdown_datenum  \\\n",
              "0  七台河市  130.862488  45.896891            0  ...             30.0   \n",
              "1   三亚市  109.418152  18.391594            0  ...             30.0   \n",
              "2   三明市  117.395196  26.299947            0  ...             30.0   \n",
              "3  三门峡市  111.106682  34.362922            0  ...             30.0   \n",
              "4   上饶市  117.469239  28.774557            1  ...              6.0   \n",
              "\n",
              "   xc_lockdown_datenum  xc_closed_datenum  hu_liao_jiang_nei  mayor  \\\n",
              "0                 30.0               30.0                  0     贾君   \n",
              "1                 30.0                5.0                  0     阿东   \n",
              "2                 30.0               30.0                  0    余红胜   \n",
              "3                 30.0                0.0                  0     安伟   \n",
              "4                  6.0                6.0                  1     陈云   \n",
              "\n",
              "   mayor_age  mayor_work_age  xunshi  treatment  outcome  \n",
              "0         56              38       1          0        0  \n",
              "1         49              22       1          0        0  \n",
              "2         49              29       1          0        0  \n",
              "3         53              28       1          1        0  \n",
              "4         43              20       0          1        1  \n",
              "\n",
              "[5 rows x 63 columns]"
            ]
          },
          "execution_count": 18,
          "metadata": {},
          "output_type": "execute_result"
        }
      ],
      "source": [
        "data.head()"
      ]
    },
    {
      "cell_type": "code",
      "execution_count": 40,
      "metadata": {
        "id": "zpdyHdlpEwQ-"
      },
      "outputs": [],
      "source": [
        "confounder_fields = ['mayor_age', 'popHR18_all']\n",
        "\n",
        "confounders = data[confounder_fields]\n",
        "outcome = data['outcome']\n",
        "treatment = data['treatment']"
      ]
    },
    {
      "cell_type": "markdown",
      "metadata": {
        "id": "C576dWRsa3ad"
      },
      "source": [
        "## Specify Nuisance Function Models\n",
        "\n",
        "The next step is to specify models for the conditional expected outcome and propensity score"
      ]
    },
    {
      "cell_type": "code",
      "execution_count": 41,
      "metadata": {
        "colab": {
          "base_uri": "https://localhost:8080/"
        },
        "id": "qyOhSZRQRb8W",
        "outputId": "603d8981-f294-47ff-ee4e-fad9974b5efc"
      },
      "outputs": [
        {
          "name": "stdout",
          "output_type": "stream",
          "text": [
            "Test MSE of fit model 0.2171207177827485\n",
            "Test MSE of no-covariate model 0.23928881558119916\n"
          ]
        }
      ],
      "source": [
        "# specify a model for the conditional expected outcome\n",
        "\n",
        "# make a function that returns a sklearn model for later use in k-folding\n",
        "def make_Q_model():\n",
        "  # return RandomForestRegressor(random_state=RANDOM_SEED, n_estimators=500, max_depth=None)\n",
        "  return LinearRegression()\n",
        "Q_model = make_Q_model()\n",
        "\n",
        "# Sanity check that chosen model actually improves test error\n",
        "# A real analysis should give substantial attention to model selection and validation \n",
        "\n",
        "X_w_treatment = confounders.copy()\n",
        "X_w_treatment[\"treatment\"] = treatment\n",
        "\n",
        "X_train, X_test, y_train, y_test = train_test_split(X_w_treatment, outcome, test_size=0.2)\n",
        "Q_model.fit(X_train, y_train)\n",
        "y_pred = Q_model.predict(X_test)\n",
        "\n",
        "test_mse=mean_squared_error(y_pred, y_test)\n",
        "print(f\"Test MSE of fit model {test_mse}\") \n",
        "baseline_mse=mean_squared_error(y_train.mean()*np.ones_like(y_test), y_test)\n",
        "print(f\"Test MSE of no-covariate model {baseline_mse}\")"
      ]
    },
    {
      "cell_type": "code",
      "execution_count": 42,
      "metadata": {
        "colab": {
          "base_uri": "https://localhost:8080/"
        },
        "id": "uq6eZEBXbsaI",
        "outputId": "05810221-e8a4-4301-f735-c6c004464055"
      },
      "outputs": [
        {
          "name": "stdout",
          "output_type": "stream",
          "text": [
            "Test CE of fit model 0.6514791144580577\n",
            "Test CE of no-covariate model 0.6274423282430388\n"
          ]
        }
      ],
      "source": [
        "# specify a model for the propensity score\n",
        "\n",
        "def make_g_model():\n",
        "#  return LogisticRegression(max_iter=1000)\n",
        "  # return RandomForestClassifier(n_estimators=100, max_depth=5)\n",
        "  return LogisticRegression()\n",
        "\n",
        "g_model = make_g_model()\n",
        "# Sanity check that chosen model actually improves test error\n",
        "# A real analysis should give substantial attention to model selection and validation \n",
        "\n",
        "X_train, X_test, a_train, a_test = train_test_split(confounders, treatment, test_size=0.2)\n",
        "g_model.fit(X_train, a_train)\n",
        "a_pred = g_model.predict_proba(X_test)[:,1]\n",
        "\n",
        "test_ce=log_loss(a_test, a_pred)\n",
        "print(f\"Test CE of fit model {test_ce}\") \n",
        "baseline_ce=log_loss(a_test, a_train.mean()*np.ones_like(a_test))\n",
        "print(f\"Test CE of no-covariate model {baseline_ce}\")"
      ]
    },
    {
      "cell_type": "markdown",
      "metadata": {
        "id": "2RkvV_4_dFWo"
      },
      "source": [
        "## Use cross fitting to get get predicted outcomes and propensity scores for each unit"
      ]
    },
    {
      "cell_type": "code",
      "execution_count": 43,
      "metadata": {
        "id": "KA0AsEGJ_X3b"
      },
      "outputs": [],
      "source": [
        "# helper functions to implement the cross fitting\n",
        "\n",
        "def treatment_k_fold_fit_and_predict(make_model, X:pd.DataFrame, A:np.array, n_splits:int):\n",
        "    \"\"\"\n",
        "    Implements K fold cross-fitting for the model predicting the treatment A. \n",
        "    That is, \n",
        "    1. Split data into K folds\n",
        "    2. For each fold j, the model is fit on the other K-1 folds\n",
        "    3. The fitted model is used to make predictions for each data point in fold j\n",
        "    Returns an array containing the predictions  \n",
        "\n",
        "    Args:\n",
        "    model: function that returns sklearn model (which implements fit and predict_prob)\n",
        "    X: dataframe of variables to adjust for\n",
        "    A: array of treatments\n",
        "    n_splits: number of splits to use\n",
        "    \"\"\"\n",
        "    predictions = np.full_like(A, np.nan, dtype=float)\n",
        "    kf = StratifiedKFold(n_splits=n_splits, shuffle=True, random_state=RANDOM_SEED)\n",
        "    \n",
        "    for train_index, test_index in kf.split(X, A):\n",
        "      X_train = X.loc[train_index]\n",
        "      A_train = A.loc[train_index]\n",
        "      g = make_model()\n",
        "      g.fit(X_train, A_train)\n",
        "\n",
        "      # get predictions for split\n",
        "      predictions[test_index] = g.predict_proba(X.loc[test_index])[:, 1]\n",
        "\n",
        "    assert np.isnan(predictions).sum() == 0\n",
        "    return predictions\n",
        "\n",
        "\n",
        "def outcome_k_fold_fit_and_predict(make_model, X:pd.DataFrame, y:np.array, A:np.array, n_splits:int, output_type:str):\n",
        "    \"\"\"\n",
        "    Implements K fold cross-fitting for the model predicting the outcome Y. \n",
        "    That is, \n",
        "    1. Split data into K folds\n",
        "    2. For each fold j, the model is fit on the other K-1 folds\n",
        "    3. The fitted model is used to make predictions for each data point in fold j\n",
        "    Returns two arrays containing the predictions for all units untreated, all units treated  \n",
        "\n",
        "    Args:\n",
        "    model: function that returns sklearn model (that implements fit and either predict_prob or predict)\n",
        "    X: dataframe of variables to adjust for\n",
        "    y: array of outcomes\n",
        "    A: array of treatments\n",
        "    n_splits: number of splits to use\n",
        "    output_type: type of outcome, \"binary\" or \"continuous\"\n",
        "\n",
        "    \"\"\"\n",
        "    predictions0 = np.full_like(A, np.nan, dtype=float)\n",
        "    predictions1 = np.full_like(y, np.nan, dtype=float)\n",
        "    if output_type == 'binary':\n",
        "      kf = StratifiedKFold(n_splits=n_splits, shuffle=True, random_state=RANDOM_SEED)\n",
        "    elif output_type == 'continuous':\n",
        "      kf = KFold(n_splits=n_splits, shuffle=True, random_state=RANDOM_SEED)\n",
        "\n",
        "    # include the treatment as input feature\n",
        "    X_w_treatment = X.copy()\n",
        "    X_w_treatment[\"A\"] = A\n",
        "\n",
        "    # for predicting effect under treatment / control status for each data point \n",
        "    X0 = X_w_treatment.copy()\n",
        "    X0[\"A\"] = 0\n",
        "    X1 = X_w_treatment.copy()\n",
        "    X1[\"A\"] = 1\n",
        "\n",
        "    \n",
        "    for train_index, test_index in kf.split(X_w_treatment, y):\n",
        "      X_train = X_w_treatment.loc[train_index]\n",
        "      y_train = y.loc[train_index]\n",
        "      q = make_model()\n",
        "      q.fit(X_train, y_train)\n",
        "\n",
        "      if output_type =='binary':\n",
        "        predictions0[test_index] = q.predict_proba(X0.loc[test_index])[:, 1]\n",
        "        predictions1[test_index] = q.predict_proba(X1.loc[test_index])[:, 1]\n",
        "      elif output_type == 'continuous':\n",
        "        predictions0[test_index] = q.predict(X0.loc[test_index])\n",
        "        predictions1[test_index] = q.predict(X1.loc[test_index])\n",
        "\n",
        "    assert np.isnan(predictions0).sum() == 0\n",
        "    assert np.isnan(predictions1).sum() == 0\n",
        "    return predictions0, predictions1"
      ]
    },
    {
      "cell_type": "code",
      "execution_count": 44,
      "metadata": {
        "id": "wVcE6pRQeMNf"
      },
      "outputs": [],
      "source": [
        "g = treatment_k_fold_fit_and_predict(make_g_model, X=confounders, A=treatment, n_splits=10)"
      ]
    },
    {
      "cell_type": "code",
      "execution_count": 45,
      "metadata": {
        "id": "GLEHlLLdWSh9"
      },
      "outputs": [],
      "source": [
        "Q0,Q1=outcome_k_fold_fit_and_predict(make_Q_model, X=confounders, y=outcome, A=treatment, n_splits=10, output_type=\"continuous\")"
      ]
    },
    {
      "cell_type": "code",
      "execution_count": 46,
      "metadata": {
        "colab": {
          "base_uri": "https://localhost:8080/",
          "height": 206
        },
        "id": "_NVCV0q0g8wQ",
        "outputId": "768afc74-dda1-491a-87c4-1dcd201b5187"
      },
      "outputs": [
        {
          "data": {
            "text/html": [
              "<div>\n",
              "<style scoped>\n",
              "    .dataframe tbody tr th:only-of-type {\n",
              "        vertical-align: middle;\n",
              "    }\n",
              "\n",
              "    .dataframe tbody tr th {\n",
              "        vertical-align: top;\n",
              "    }\n",
              "\n",
              "    .dataframe thead th {\n",
              "        text-align: right;\n",
              "    }\n",
              "</style>\n",
              "<table border=\"1\" class=\"dataframe\">\n",
              "  <thead>\n",
              "    <tr style=\"text-align: right;\">\n",
              "      <th></th>\n",
              "      <th>g</th>\n",
              "      <th>Q0</th>\n",
              "      <th>Q1</th>\n",
              "      <th>A</th>\n",
              "      <th>Y</th>\n",
              "    </tr>\n",
              "  </thead>\n",
              "  <tbody>\n",
              "    <tr>\n",
              "      <th>0</th>\n",
              "      <td>0.391656</td>\n",
              "      <td>0.330733</td>\n",
              "      <td>0.298567</td>\n",
              "      <td>0</td>\n",
              "      <td>0</td>\n",
              "    </tr>\n",
              "    <tr>\n",
              "      <th>1</th>\n",
              "      <td>0.267327</td>\n",
              "      <td>0.197217</td>\n",
              "      <td>0.172418</td>\n",
              "      <td>0</td>\n",
              "      <td>0</td>\n",
              "    </tr>\n",
              "    <tr>\n",
              "      <th>2</th>\n",
              "      <td>0.255120</td>\n",
              "      <td>0.277085</td>\n",
              "      <td>0.299721</td>\n",
              "      <td>0</td>\n",
              "      <td>0</td>\n",
              "    </tr>\n",
              "    <tr>\n",
              "      <th>3</th>\n",
              "      <td>0.320577</td>\n",
              "      <td>0.350098</td>\n",
              "      <td>0.315138</td>\n",
              "      <td>1</td>\n",
              "      <td>0</td>\n",
              "    </tr>\n",
              "    <tr>\n",
              "      <th>4</th>\n",
              "      <td>0.162137</td>\n",
              "      <td>0.348229</td>\n",
              "      <td>0.316062</td>\n",
              "      <td>1</td>\n",
              "      <td>1</td>\n",
              "    </tr>\n",
              "  </tbody>\n",
              "</table>\n",
              "</div>"
            ],
            "text/plain": [
              "          g        Q0        Q1  A  Y\n",
              "0  0.391656  0.330733  0.298567  0  0\n",
              "1  0.267327  0.197217  0.172418  0  0\n",
              "2  0.255120  0.277085  0.299721  0  0\n",
              "3  0.320577  0.350098  0.315138  1  0\n",
              "4  0.162137  0.348229  0.316062  1  1"
            ]
          },
          "execution_count": 46,
          "metadata": {},
          "output_type": "execute_result"
        }
      ],
      "source": [
        "data_and_nuisance_estimates = pd.DataFrame({'g': g, 'Q0': Q0, 'Q1': Q1, 'A': treatment, 'Y': outcome})\n",
        "data_and_nuisance_estimates.head()"
      ]
    },
    {
      "cell_type": "markdown",
      "metadata": {
        "id": "VNhM7URdgzQB"
      },
      "source": [
        "## Combine predicted values and data into estimate of ATT"
      ]
    },
    {
      "cell_type": "code",
      "execution_count": 47,
      "metadata": {
        "id": "J-vONC5ejwh2"
      },
      "outputs": [],
      "source": [
        "def att_aiptw(Q0, Q1, g, A, Y, prob_t=None):\n",
        "  \"\"\"\n",
        "  # Double ML estimator for the ATT\n",
        "  This uses the ATT specific scores, see equation 3.9 of https://www.econstor.eu/bitstream/10419/149795/1/869216953.pdf\n",
        "  \"\"\"\n",
        "\n",
        "  if prob_t is None:\n",
        "    prob_t = A.mean() # estimate marginal probability of treatment\n",
        "\n",
        "  tau_hat = (A*(Y-Q0) - (1-A)*(g/(1-g))*(Y-Q0)).mean()/ prob_t\n",
        "  \n",
        "  scores = (A*(Y-Q0) - (1-A)*(g/(1-g))*(Y-Q0) - tau_hat*A) / prob_t\n",
        "  n = Y.shape[0] # number of observations\n",
        "  std_hat = np.std(scores) / np.sqrt(n)\n",
        "\n",
        "  return tau_hat, std_hat\n"
      ]
    },
    {
      "cell_type": "code",
      "execution_count": 48,
      "metadata": {
        "id": "O_F5r0SSkzzK"
      },
      "outputs": [],
      "source": [
        "def ate_aiptw(Q0, Q1, g, A, Y, prob_t=None):\n",
        "  \"\"\"\n",
        "  # Double ML estimator for the ATE\n",
        "  \"\"\"\n",
        "\n",
        "  tau_hat = (Q1 - Q0 + A*(Y-Q1)/g - (1-A)*(Y-Q0)/(1-g)).mean()\n",
        "  \n",
        "  scores = Q1 - Q0 + A*(Y-Q1)/g - (1-A)*(Y-Q0)/(1-g) - tau_hat\n",
        "  n = Y.shape[0] # number of observations\n",
        "  std_hat = np.std(scores) / np.sqrt(n)\n",
        "\n",
        "  return tau_hat, std_hat\n"
      ]
    },
    {
      "cell_type": "code",
      "execution_count": 49,
      "metadata": {
        "colab": {
          "base_uri": "https://localhost:8080/"
        },
        "id": "SjDj0F9Bm9uq",
        "outputId": "50ebe6f6-a88e-4b00-c878-d8aa814ddb13"
      },
      "outputs": [
        {
          "name": "stdout",
          "output_type": "stream",
          "text": [
            "The estimate is -0.00866281191245243 pm 0.12764781670825484\n"
          ]
        }
      ],
      "source": [
        "tau_hat, std_hat = att_aiptw(**data_and_nuisance_estimates)\n",
        "print(f\"The estimate is {tau_hat} pm {1.96*std_hat}\")"
      ]
    },
    {
      "cell_type": "code",
      "execution_count": 50,
      "metadata": {
        "colab": {
          "base_uri": "https://localhost:8080/"
        },
        "id": "vSaOp1HwlQ4i",
        "outputId": "994c1a1f-6d8c-4ed7-910f-e78bee132e25"
      },
      "outputs": [
        {
          "name": "stdout",
          "output_type": "stream",
          "text": [
            "The estimate is -0.010363509624403777 pm 0.3330121490829403\n"
          ]
        }
      ],
      "source": [
        "in_treated = data_and_nuisance_estimates['A']==1\n",
        "treated_estimates = data_and_nuisance_estimates[in_treated]\n",
        "tau_hat, std_hat = ate_aiptw(**treated_estimates)\n",
        "print(f\"The estimate is {tau_hat} pm {1.96*std_hat}\")"
      ]
    },
    {
      "cell_type": "code",
      "execution_count": 51,
      "metadata": {
        "colab": {
          "base_uri": "https://localhost:8080/"
        },
        "id": "IOuJnlbEo8j_",
        "outputId": "55427efd-a68c-46d8-8e01-b26b677bc565"
      },
      "outputs": [
        {
          "name": "stdout",
          "output_type": "stream",
          "text": [
            "The estimate is -0.00866281191245243 pm 0.12764781670825484\n"
          ]
        }
      ],
      "source": [
        "# The LaLonde data has severe overlap issues. Lets try computing the estimate restricted to a population with only reasonable propensity scores\n",
        "g = data_and_nuisance_estimates['g']\n",
        "in_overlap_popluation = ( g < 0.90)\n",
        "overlap_data_and_nuisance = data_and_nuisance_estimates[in_overlap_popluation]\n",
        "tau_hat, std_hat = att_aiptw(**overlap_data_and_nuisance)\n",
        "print(f\"The estimate is {tau_hat} pm {1.96*std_hat}\")"
      ]
    },
    {
      "cell_type": "markdown",
      "metadata": {
        "id": "H0YG8hR8RRAP"
      },
      "source": [
        "# Sensitivity stuff"
      ]
    },
    {
      "cell_type": "markdown",
      "metadata": {
        "id": "L_GUa-5vMmL4"
      },
      "source": [
        "#Sensitivity Analysis\n",
        "\n",
        "We found an average treatment effect of diastolic blood pressure medication of about 2, significant at the 0.95 level. We'd now conduct some analysis to decide how sensitive this conclusions is to possible unobserved confounding."
      ]
    },
    {
      "cell_type": "code",
      "execution_count": 52,
      "metadata": {
        "id": "zEv_RlkUNQZ9"
      },
      "outputs": [],
      "source": [
        "# the first step is to choose a level of bias that would undermine the qualitative conclusion of the study\n",
        "# we'll go with the nominal effect\n",
        "target_bias = 0.200 # note: bias is specified as an absolute number"
      ]
    },
    {
      "cell_type": "code",
      "execution_count": 53,
      "metadata": {},
      "outputs": [
        {
          "data": {
            "text/plain": [
              "Index(['Unnamed: 0', 'Unnamed: 0.1', 'Unnamed: 0.1.1', 'ct_shortname', 'prov',\n",
              "       'citycode', 'ctnm', 'centlon', 'centlat', 'locked_down',\n",
              "       'lockdown_date', 'bdidx_19m20', 'xc_lockdown', 'xc_closed',\n",
              "       'daySinceFirstCase', 'sub_prov_ct', 'gdp2018', '自治州-盟-地区', 'in_291',\n",
              "       'pdensity', 'gdp_p', 'hospital_d', 'popHR18_all', 'Log_popHR18_all',\n",
              "       'gdp_per_10k', 'primary_ind', 'second_ind', 'third_ind',\n",
              "       'prov_leader_rank', 'num_hospital_total', 'num_doctors_total',\n",
              "       'num_firm_total', 'non_domestic_firms_total',\n",
              "       'pct_of_non_domestic_firm', 'primary_emp_share_total',\n",
              "       'secondary_emp_share_total', 'tertiary_emp_share_total', 'inaug_time',\n",
              "       'birthmonth', 'is_female', 'age_feb20', 'party_age', 'work_age',\n",
              "       'tenure', 'majorchara', 'is_STEM_major', 'rule_in_native_prov', 'is_BA',\n",
              "       'is_MA', 'is_PhD', 'cumulative_case', 'log_cumulative_case',\n",
              "       'bdidx_19m20_feb1_10', 'lockdown_datenum', 'xc_lockdown_datenum',\n",
              "       'xc_closed_datenum', 'hu_liao_jiang_nei', 'mayor', 'mayor_age',\n",
              "       'mayor_work_age', 'xunshi', 'treatment', 'outcome'],\n",
              "      dtype='object')"
            ]
          },
          "execution_count": 53,
          "metadata": {},
          "output_type": "execute_result"
        }
      ],
      "source": [
        "data.columns "
      ]
    },
    {
      "cell_type": "markdown",
      "metadata": {
        "id": "bDeSqyvvN3mg"
      },
      "source": [
        "## Compute influence strength of covariates\n",
        "Our task is to assess whether it's plausible that an unobserved confounder could be strong enough to induce a bias of 2 or more. To make that easier, we'd like to know how strong the observed confounders are. Austen plots computes these reference strengths by seeing how much model performance degrades when the covariates are removed. Accordingly, we refit the models with each (group of) reference covariate removed.  "
      ]
    },
    {
      "cell_type": "code",
      "execution_count": 54,
      "metadata": {
        "id": "b_51ei-JOIrn"
      },
      "outputs": [],
      "source": [
        "# First, lets define the groups of covariates we'll measure the strength of.\n",
        "# Note: it's important to group the covariates into meaningful groups, because strength is measured conditional on all remaining covariates\n",
        "# E.g., if we remove only \"black\" (and not \"hispanic, white\") then we will measure no effect, because we can infer the removed variable from the remaining ones\n",
        "\n",
        "covariate_groups = {\n",
        "    'socio-economic': ['popHR18_all'],\n",
        "    'personal': ['mayor_age]}\n",
        "   #  , 'gdp_p', 'hospital_d', 'popHR18_all', 'Log_popHR18_all',\n",
        "   #     'gdp_per_10k', 'primary_ind', 'second_ind', 'third_ind',\n",
        "   #     'prov_leader_rank', 'num_hospital_total', 'num_doctors_total',\n",
        "   #     'num_firm_total', 'non_domestic_firms_total',\n",
        "   #     'pct_of_non_domestic_firm', 'primary_emp_share_total',\n",
        "   #     'secondary_emp_share_total', 'tertiary_emp_share_total'],\n",
        "   #  'secretary': ['birthmonth', 'is_female', 'age_feb20', 'party_age', 'work_age',\n",
        "   #     'tenure', 'majorchara', 'is_STEM_major', 'rule_in_native_prov', 'is_BA',\n",
        "   #     'is_MA', 'is_PhD'],\n",
        "   #  'covid':['cumulative_case', 'log_cumulative_case'],\n",
        "   #  'age': ['age_mo']}\n",
        "\n",
        "#  'inaug_time',\n",
        "#        , \n",
        "#        'bdidx_19m20_feb1_10', 'lockdown_datenum', 'xc_lockdown_datenum',\n",
        "#        'xc_closed_datenum', 'hu_liao_jiang_nei', 'mayor', 'mayor_age'"
      ]
    },
    {
      "cell_type": "code",
      "execution_count": 55,
      "metadata": {
        "id": "eLskfBqCQlwZ"
      },
      "outputs": [
        {
          "ename": "ValueError",
          "evalue": "at least one array or dtype is required",
          "output_type": "error",
          "traceback": [
            "\u001b[0;31m---------------------------------------------------------------------------\u001b[0m",
            "\u001b[0;31mValueError\u001b[0m                                Traceback (most recent call last)",
            "\u001b[0;32m<ipython-input-55-9c8023c64dd4>\u001b[0m in \u001b[0;36m<module>\u001b[0;34m\u001b[0m\n\u001b[1;32m      4\u001b[0m   \u001b[0mremaining_confounders\u001b[0m \u001b[0;34m=\u001b[0m \u001b[0mconfounders\u001b[0m\u001b[0;34m.\u001b[0m\u001b[0mdrop\u001b[0m\u001b[0;34m(\u001b[0m\u001b[0mcolumns\u001b[0m\u001b[0;34m=\u001b[0m\u001b[0mcovs\u001b[0m\u001b[0;34m)\u001b[0m\u001b[0;34m\u001b[0m\u001b[0;34m\u001b[0m\u001b[0m\n\u001b[1;32m      5\u001b[0m \u001b[0;34m\u001b[0m\u001b[0m\n\u001b[0;32m----> 6\u001b[0;31m   \u001b[0mg\u001b[0m \u001b[0;34m=\u001b[0m \u001b[0mtreatment_k_fold_fit_and_predict\u001b[0m\u001b[0;34m(\u001b[0m\u001b[0mmake_g_model\u001b[0m\u001b[0;34m,\u001b[0m \u001b[0mX\u001b[0m\u001b[0;34m=\u001b[0m\u001b[0mremaining_confounders\u001b[0m\u001b[0;34m,\u001b[0m \u001b[0mA\u001b[0m\u001b[0;34m=\u001b[0m\u001b[0mtreatment\u001b[0m\u001b[0;34m,\u001b[0m \u001b[0mn_splits\u001b[0m\u001b[0;34m=\u001b[0m\u001b[0;36m5\u001b[0m\u001b[0;34m)\u001b[0m\u001b[0;34m\u001b[0m\u001b[0;34m\u001b[0m\u001b[0m\n\u001b[0m\u001b[1;32m      7\u001b[0m   \u001b[0mQ0\u001b[0m\u001b[0;34m,\u001b[0m \u001b[0mQ1\u001b[0m \u001b[0;34m=\u001b[0m \u001b[0moutcome_k_fold_fit_and_predict\u001b[0m\u001b[0;34m(\u001b[0m\u001b[0mmake_Q_model\u001b[0m\u001b[0;34m,\u001b[0m \u001b[0mX\u001b[0m\u001b[0;34m=\u001b[0m\u001b[0mremaining_confounders\u001b[0m\u001b[0;34m,\u001b[0m \u001b[0my\u001b[0m\u001b[0;34m=\u001b[0m\u001b[0moutcome\u001b[0m\u001b[0;34m,\u001b[0m \u001b[0mA\u001b[0m\u001b[0;34m=\u001b[0m\u001b[0mtreatment\u001b[0m\u001b[0;34m,\u001b[0m \u001b[0mn_splits\u001b[0m\u001b[0;34m=\u001b[0m\u001b[0;36m5\u001b[0m\u001b[0;34m,\u001b[0m \u001b[0moutput_type\u001b[0m\u001b[0;34m=\u001b[0m\u001b[0;34m\"continuous\"\u001b[0m\u001b[0;34m)\u001b[0m\u001b[0;34m\u001b[0m\u001b[0;34m\u001b[0m\u001b[0m\n\u001b[1;32m      8\u001b[0m \u001b[0;34m\u001b[0m\u001b[0m\n",
            "\u001b[0;32m<ipython-input-43-832971df7fb3>\u001b[0m in \u001b[0;36mtreatment_k_fold_fit_and_predict\u001b[0;34m(make_model, X, A, n_splits)\u001b[0m\n\u001b[1;32m     23\u001b[0m       \u001b[0mA_train\u001b[0m \u001b[0;34m=\u001b[0m \u001b[0mA\u001b[0m\u001b[0;34m.\u001b[0m\u001b[0mloc\u001b[0m\u001b[0;34m[\u001b[0m\u001b[0mtrain_index\u001b[0m\u001b[0;34m]\u001b[0m\u001b[0;34m\u001b[0m\u001b[0;34m\u001b[0m\u001b[0m\n\u001b[1;32m     24\u001b[0m       \u001b[0mg\u001b[0m \u001b[0;34m=\u001b[0m \u001b[0mmake_model\u001b[0m\u001b[0;34m(\u001b[0m\u001b[0;34m)\u001b[0m\u001b[0;34m\u001b[0m\u001b[0;34m\u001b[0m\u001b[0m\n\u001b[0;32m---> 25\u001b[0;31m       \u001b[0mg\u001b[0m\u001b[0;34m.\u001b[0m\u001b[0mfit\u001b[0m\u001b[0;34m(\u001b[0m\u001b[0mX_train\u001b[0m\u001b[0;34m,\u001b[0m \u001b[0mA_train\u001b[0m\u001b[0;34m)\u001b[0m\u001b[0;34m\u001b[0m\u001b[0;34m\u001b[0m\u001b[0m\n\u001b[0m\u001b[1;32m     26\u001b[0m \u001b[0;34m\u001b[0m\u001b[0m\n\u001b[1;32m     27\u001b[0m       \u001b[0;31m# get predictions for split\u001b[0m\u001b[0;34m\u001b[0m\u001b[0;34m\u001b[0m\u001b[0;34m\u001b[0m\u001b[0m\n",
            "\u001b[0;32m~/opt/anaconda3/lib/python3.8/site-packages/sklearn/linear_model/_logistic.py\u001b[0m in \u001b[0;36mfit\u001b[0;34m(self, X, y, sample_weight)\u001b[0m\n\u001b[1;32m   1342\u001b[0m             \u001b[0m_dtype\u001b[0m \u001b[0;34m=\u001b[0m \u001b[0;34m[\u001b[0m\u001b[0mnp\u001b[0m\u001b[0;34m.\u001b[0m\u001b[0mfloat64\u001b[0m\u001b[0;34m,\u001b[0m \u001b[0mnp\u001b[0m\u001b[0;34m.\u001b[0m\u001b[0mfloat32\u001b[0m\u001b[0;34m]\u001b[0m\u001b[0;34m\u001b[0m\u001b[0;34m\u001b[0m\u001b[0m\n\u001b[1;32m   1343\u001b[0m \u001b[0;34m\u001b[0m\u001b[0m\n\u001b[0;32m-> 1344\u001b[0;31m         X, y = self._validate_data(X, y, accept_sparse='csr', dtype=_dtype,\n\u001b[0m\u001b[1;32m   1345\u001b[0m                                    \u001b[0morder\u001b[0m\u001b[0;34m=\u001b[0m\u001b[0;34m\"C\"\u001b[0m\u001b[0;34m,\u001b[0m\u001b[0;34m\u001b[0m\u001b[0;34m\u001b[0m\u001b[0m\n\u001b[1;32m   1346\u001b[0m                                    accept_large_sparse=solver != 'liblinear')\n",
            "\u001b[0;32m~/opt/anaconda3/lib/python3.8/site-packages/sklearn/base.py\u001b[0m in \u001b[0;36m_validate_data\u001b[0;34m(self, X, y, reset, validate_separately, **check_params)\u001b[0m\n\u001b[1;32m    431\u001b[0m                 \u001b[0my\u001b[0m \u001b[0;34m=\u001b[0m \u001b[0mcheck_array\u001b[0m\u001b[0;34m(\u001b[0m\u001b[0my\u001b[0m\u001b[0;34m,\u001b[0m \u001b[0;34m**\u001b[0m\u001b[0mcheck_y_params\u001b[0m\u001b[0;34m)\u001b[0m\u001b[0;34m\u001b[0m\u001b[0;34m\u001b[0m\u001b[0m\n\u001b[1;32m    432\u001b[0m             \u001b[0;32melse\u001b[0m\u001b[0;34m:\u001b[0m\u001b[0;34m\u001b[0m\u001b[0;34m\u001b[0m\u001b[0m\n\u001b[0;32m--> 433\u001b[0;31m                 \u001b[0mX\u001b[0m\u001b[0;34m,\u001b[0m \u001b[0my\u001b[0m \u001b[0;34m=\u001b[0m \u001b[0mcheck_X_y\u001b[0m\u001b[0;34m(\u001b[0m\u001b[0mX\u001b[0m\u001b[0;34m,\u001b[0m \u001b[0my\u001b[0m\u001b[0;34m,\u001b[0m \u001b[0;34m**\u001b[0m\u001b[0mcheck_params\u001b[0m\u001b[0;34m)\u001b[0m\u001b[0;34m\u001b[0m\u001b[0;34m\u001b[0m\u001b[0m\n\u001b[0m\u001b[1;32m    434\u001b[0m             \u001b[0mout\u001b[0m \u001b[0;34m=\u001b[0m \u001b[0mX\u001b[0m\u001b[0;34m,\u001b[0m \u001b[0my\u001b[0m\u001b[0;34m\u001b[0m\u001b[0;34m\u001b[0m\u001b[0m\n\u001b[1;32m    435\u001b[0m \u001b[0;34m\u001b[0m\u001b[0m\n",
            "\u001b[0;32m~/opt/anaconda3/lib/python3.8/site-packages/sklearn/utils/validation.py\u001b[0m in \u001b[0;36minner_f\u001b[0;34m(*args, **kwargs)\u001b[0m\n\u001b[1;32m     61\u001b[0m             \u001b[0mextra_args\u001b[0m \u001b[0;34m=\u001b[0m \u001b[0mlen\u001b[0m\u001b[0;34m(\u001b[0m\u001b[0margs\u001b[0m\u001b[0;34m)\u001b[0m \u001b[0;34m-\u001b[0m \u001b[0mlen\u001b[0m\u001b[0;34m(\u001b[0m\u001b[0mall_args\u001b[0m\u001b[0;34m)\u001b[0m\u001b[0;34m\u001b[0m\u001b[0;34m\u001b[0m\u001b[0m\n\u001b[1;32m     62\u001b[0m             \u001b[0;32mif\u001b[0m \u001b[0mextra_args\u001b[0m \u001b[0;34m<=\u001b[0m \u001b[0;36m0\u001b[0m\u001b[0;34m:\u001b[0m\u001b[0;34m\u001b[0m\u001b[0;34m\u001b[0m\u001b[0m\n\u001b[0;32m---> 63\u001b[0;31m                 \u001b[0;32mreturn\u001b[0m \u001b[0mf\u001b[0m\u001b[0;34m(\u001b[0m\u001b[0;34m*\u001b[0m\u001b[0margs\u001b[0m\u001b[0;34m,\u001b[0m \u001b[0;34m**\u001b[0m\u001b[0mkwargs\u001b[0m\u001b[0;34m)\u001b[0m\u001b[0;34m\u001b[0m\u001b[0;34m\u001b[0m\u001b[0m\n\u001b[0m\u001b[1;32m     64\u001b[0m \u001b[0;34m\u001b[0m\u001b[0m\n\u001b[1;32m     65\u001b[0m             \u001b[0;31m# extra_args > 0\u001b[0m\u001b[0;34m\u001b[0m\u001b[0;34m\u001b[0m\u001b[0;34m\u001b[0m\u001b[0m\n",
            "\u001b[0;32m~/opt/anaconda3/lib/python3.8/site-packages/sklearn/utils/validation.py\u001b[0m in \u001b[0;36mcheck_X_y\u001b[0;34m(X, y, accept_sparse, accept_large_sparse, dtype, order, copy, force_all_finite, ensure_2d, allow_nd, multi_output, ensure_min_samples, ensure_min_features, y_numeric, estimator)\u001b[0m\n\u001b[1;32m    812\u001b[0m         \u001b[0;32mraise\u001b[0m \u001b[0mValueError\u001b[0m\u001b[0;34m(\u001b[0m\u001b[0;34m\"y cannot be None\"\u001b[0m\u001b[0;34m)\u001b[0m\u001b[0;34m\u001b[0m\u001b[0;34m\u001b[0m\u001b[0m\n\u001b[1;32m    813\u001b[0m \u001b[0;34m\u001b[0m\u001b[0m\n\u001b[0;32m--> 814\u001b[0;31m     X = check_array(X, accept_sparse=accept_sparse,\n\u001b[0m\u001b[1;32m    815\u001b[0m                     \u001b[0maccept_large_sparse\u001b[0m\u001b[0;34m=\u001b[0m\u001b[0maccept_large_sparse\u001b[0m\u001b[0;34m,\u001b[0m\u001b[0;34m\u001b[0m\u001b[0;34m\u001b[0m\u001b[0m\n\u001b[1;32m    816\u001b[0m                     \u001b[0mdtype\u001b[0m\u001b[0;34m=\u001b[0m\u001b[0mdtype\u001b[0m\u001b[0;34m,\u001b[0m \u001b[0morder\u001b[0m\u001b[0;34m=\u001b[0m\u001b[0morder\u001b[0m\u001b[0;34m,\u001b[0m \u001b[0mcopy\u001b[0m\u001b[0;34m=\u001b[0m\u001b[0mcopy\u001b[0m\u001b[0;34m,\u001b[0m\u001b[0;34m\u001b[0m\u001b[0;34m\u001b[0m\u001b[0m\n",
            "\u001b[0;32m~/opt/anaconda3/lib/python3.8/site-packages/sklearn/utils/validation.py\u001b[0m in \u001b[0;36minner_f\u001b[0;34m(*args, **kwargs)\u001b[0m\n\u001b[1;32m     61\u001b[0m             \u001b[0mextra_args\u001b[0m \u001b[0;34m=\u001b[0m \u001b[0mlen\u001b[0m\u001b[0;34m(\u001b[0m\u001b[0margs\u001b[0m\u001b[0;34m)\u001b[0m \u001b[0;34m-\u001b[0m \u001b[0mlen\u001b[0m\u001b[0;34m(\u001b[0m\u001b[0mall_args\u001b[0m\u001b[0;34m)\u001b[0m\u001b[0;34m\u001b[0m\u001b[0;34m\u001b[0m\u001b[0m\n\u001b[1;32m     62\u001b[0m             \u001b[0;32mif\u001b[0m \u001b[0mextra_args\u001b[0m \u001b[0;34m<=\u001b[0m \u001b[0;36m0\u001b[0m\u001b[0;34m:\u001b[0m\u001b[0;34m\u001b[0m\u001b[0;34m\u001b[0m\u001b[0m\n\u001b[0;32m---> 63\u001b[0;31m                 \u001b[0;32mreturn\u001b[0m \u001b[0mf\u001b[0m\u001b[0;34m(\u001b[0m\u001b[0;34m*\u001b[0m\u001b[0margs\u001b[0m\u001b[0;34m,\u001b[0m \u001b[0;34m**\u001b[0m\u001b[0mkwargs\u001b[0m\u001b[0;34m)\u001b[0m\u001b[0;34m\u001b[0m\u001b[0;34m\u001b[0m\u001b[0m\n\u001b[0m\u001b[1;32m     64\u001b[0m \u001b[0;34m\u001b[0m\u001b[0m\n\u001b[1;32m     65\u001b[0m             \u001b[0;31m# extra_args > 0\u001b[0m\u001b[0;34m\u001b[0m\u001b[0;34m\u001b[0m\u001b[0;34m\u001b[0m\u001b[0m\n",
            "\u001b[0;32m~/opt/anaconda3/lib/python3.8/site-packages/sklearn/utils/validation.py\u001b[0m in \u001b[0;36mcheck_array\u001b[0;34m(array, accept_sparse, accept_large_sparse, dtype, order, copy, force_all_finite, ensure_2d, allow_nd, ensure_min_samples, ensure_min_features, estimator)\u001b[0m\n\u001b[1;32m    538\u001b[0m \u001b[0;34m\u001b[0m\u001b[0m\n\u001b[1;32m    539\u001b[0m         \u001b[0;32mif\u001b[0m \u001b[0mall\u001b[0m\u001b[0;34m(\u001b[0m\u001b[0misinstance\u001b[0m\u001b[0;34m(\u001b[0m\u001b[0mdtype\u001b[0m\u001b[0;34m,\u001b[0m \u001b[0mnp\u001b[0m\u001b[0;34m.\u001b[0m\u001b[0mdtype\u001b[0m\u001b[0;34m)\u001b[0m \u001b[0;32mfor\u001b[0m \u001b[0mdtype\u001b[0m \u001b[0;32min\u001b[0m \u001b[0mdtypes_orig\u001b[0m\u001b[0;34m)\u001b[0m\u001b[0;34m:\u001b[0m\u001b[0;34m\u001b[0m\u001b[0;34m\u001b[0m\u001b[0m\n\u001b[0;32m--> 540\u001b[0;31m             \u001b[0mdtype_orig\u001b[0m \u001b[0;34m=\u001b[0m \u001b[0mnp\u001b[0m\u001b[0;34m.\u001b[0m\u001b[0mresult_type\u001b[0m\u001b[0;34m(\u001b[0m\u001b[0;34m*\u001b[0m\u001b[0mdtypes_orig\u001b[0m\u001b[0;34m)\u001b[0m\u001b[0;34m\u001b[0m\u001b[0;34m\u001b[0m\u001b[0m\n\u001b[0m\u001b[1;32m    541\u001b[0m \u001b[0;34m\u001b[0m\u001b[0m\n\u001b[1;32m    542\u001b[0m     \u001b[0;32mif\u001b[0m \u001b[0mdtype_numeric\u001b[0m\u001b[0;34m:\u001b[0m\u001b[0;34m\u001b[0m\u001b[0;34m\u001b[0m\u001b[0m\n",
            "\u001b[0;32m<__array_function__ internals>\u001b[0m in \u001b[0;36mresult_type\u001b[0;34m(*args, **kwargs)\u001b[0m\n",
            "\u001b[0;31mValueError\u001b[0m: at least one array or dtype is required"
          ]
        }
      ],
      "source": [
        "# For each covariate group, refit the models without using that group\n",
        "nuisance_estimates = {}\n",
        "for group, covs in covariate_groups.items():\n",
        "  remaining_confounders = confounders.drop(columns=covs)\n",
        "\n",
        "  g = treatment_k_fold_fit_and_predict(make_g_model, X=remaining_confounders, A=treatment, n_splits=5)\n",
        "  Q0, Q1 = outcome_k_fold_fit_and_predict(make_Q_model, X=remaining_confounders, y=outcome, A=treatment, n_splits=5, output_type=\"continuous\")\n",
        "\n",
        "  data_and_nuisance_estimates = pd.DataFrame({'g': g, 'Q0': Q0, 'Q1': Q1, 'A': treatment, 'Y': outcome})\n",
        "  nuisance_estimates[group] = data_and_nuisance_estimates\n"
      ]
    },
    {
      "cell_type": "markdown",
      "metadata": {
        "id": "73aTyanbTihM"
      },
      "source": [
        "## Save computed estimates as CSVs\n",
        "The Austen plot code expects the nuisance function estimates to be provided as csvs with columns 'g', 'Q', 't', 'y'"
      ]
    },
    {
      "cell_type": "code",
      "execution_count": 236,
      "metadata": {
        "id": "Am4bdBMGXhqr"
      },
      "outputs": [],
      "source": [
        "data_and_nuisance_path = 'data_and_nuisance_estimates.csv'\n",
        "covariate_dir_path = 'covariates/'"
      ]
    },
    {
      "cell_type": "code",
      "execution_count": 237,
      "metadata": {
        "id": "YJ-QU3gXSqiz"
      },
      "outputs": [],
      "source": [
        "def _convert_to_austen_format(nuisance_estimate_df: pd.DataFrame):\n",
        "  austen_df = pd.DataFrame()\n",
        "  austen_df['y']=nuisance_estimate_df['Y']\n",
        "  austen_df['t']=nuisance_estimate_df['A']\n",
        "  austen_df['g']=nuisance_estimate_df['g']\n",
        "  A = nuisance_estimate_df['A']\n",
        "  austen_df['Q']=A*nuisance_estimate_df['Q1'] + (1-A)*nuisance_estimate_df['Q0'] # use Q1 when A=1, and Q0 when A=0\n",
        "\n",
        "  return austen_df"
      ]
    },
    {
      "cell_type": "code",
      "execution_count": 238,
      "metadata": {
        "id": "31BWqKXmVAQr"
      },
      "outputs": [],
      "source": [
        "austen_data_and_nuisance = _convert_to_austen_format(data_and_nuisance_estimates)\n",
        "austen_data_and_nuisance.to_csv(data_and_nuisance_path, index=False)\n",
        "\n",
        "pathlib.Path(covariate_dir_path).mkdir(exist_ok=True)\n",
        "for group, nuisance_estimate in nuisance_estimates.items():\n",
        "  austen_nuisance_estimate = _convert_to_austen_format(nuisance_estimate)\n",
        "  austen_nuisance_estimate.to_csv(os.path.join(covariate_dir_path,group+\".csv\"), index=False)"
      ]
    },
    {
      "cell_type": "markdown",
      "metadata": {
        "id": "C84zSBeIVe0L"
      },
      "source": [
        "## Make plots"
      ]
    },
    {
      "cell_type": "code",
      "execution_count": 239,
      "metadata": {
        "id": "2C0cixtvVhmD"
      },
      "outputs": [],
      "source": [
        "ap = AustenPlot(data_and_nuisance_path, covariate_dir_path)"
      ]
    },
    {
      "cell_type": "code",
      "execution_count": 240,
      "metadata": {
        "colab": {
          "base_uri": "https://localhost:8080/"
        },
        "id": "JFgN5L6YW0oF",
        "outputId": "9bb60caf-daef-4ba3-8ab2-8a4f6d3b43eb"
      },
      "outputs": [
        {
          "name": "stdout",
          "output_type": "stream",
          "text": [
            "Fitting main dataset\n"
          ]
        }
      ],
      "source": [
        "p, plot_coords, variable_coords = ap.fit(bias=target_bias) # recall we set target_bias=2.0"
      ]
    },
    {
      "cell_type": "code",
      "execution_count": 241,
      "metadata": {
        "colab": {
          "base_uri": "https://localhost:8080/",
          "height": 396
        },
        "id": "lfPaV4IDckdS",
        "outputId": "56a1085c-cc7d-45e7-d61b-832125c05857"
      },
      "outputs": [
        {
          "data": {
            "image/png": "[encoded data removed]",
            "text/plain": [
              "<Figure size 350x350 with 1 Axes>"
            ]
          },
          "metadata": {},
          "output_type": "display_data"
        },
        {
          "data": {
            "text/plain": [
              "<ggplot: (8738951607405)>"
            ]
          },
          "execution_count": 241,
          "metadata": {},
          "output_type": "execute_result"
        }
      ],
      "source": [
        "p"
      ]
    }
  ],
  "metadata": {
    "colab": {
      "collapsed_sections": [],
      "include_colab_link": true,
      "name": "Sensitivity_Analysis.ipynb",
      "provenance": []
    },
    "kernelspec": {
      "display_name": "Python 3",
      "name": "python3"
    },
    "language_info": {
      "codemirror_mode": {
        "name": "ipython",
        "version": 3
      },
      "file_extension": ".py",
      "mimetype": "text/x-python",
      "name": "python",
      "nbconvert_exporter": "python",
      "pygments_lexer": "ipython3",
      "version": "3.8.8"
    }
  },
  "nbformat": 4,
  "nbformat_minor": 0
}
