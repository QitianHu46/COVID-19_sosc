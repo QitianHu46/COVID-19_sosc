{
  "nbformat": 4,
  "nbformat_minor": 0,
  "metadata": {
    "colab": {
      "name": "LATE-Estimation.ipynb",
      "provenance": [],
      "collapsed_sections": []
    },
    "kernelspec": {
      "name": "python3",
      "display_name": "Python 3"
    },
    "language_info": {
      "name": "python"
    }
  },
  "cells": [
    {
      "cell_type": "code",
      "metadata": {
        "id": "x55LYMnjZfEH"
      },
      "source": [
        "import numpy as np\n",
        "import pandas as pd\n",
        "\n",
        "from sklearn.preprocessing import PolynomialFeatures\n",
        "from sklearn.linear_model import LassoCV, LogisticRegressionCV\n",
        "from sklearn.ensemble import RandomForestClassifier, RandomForestRegressor\n",
        "from sklearn.tree import DecisionTreeClassifier, DecisionTreeRegressor\n",
        "from sklearn.preprocessing import StandardScaler\n",
        "from sklearn.pipeline import make_pipeline\n",
        "\n",
        "from xgboost import XGBClassifier, XGBRegressor"
      ],
      "execution_count": 2,
      "outputs": []
    },
    {
      "cell_type": "code",
      "metadata": {
        "colab": {
          "base_uri": "https://localhost:8080/"
        },
        "id": "pAHA_AZqaFJg",
        "outputId": "ea1ec8dc-fb35-4168-9e60-af84c2c9426e"
      },
      "source": [
        "import os\n",
        "os.system(\"pip install doubleml\")\n",
        "import doubleml as dml\n",
        "from doubleml.datasets import fetch_401K"
      ],
      "execution_count": 3,
      "outputs": [
        {
          "output_type": "stream",
          "name": "stderr",
          "text": [
            "/usr/local/lib/python3.7/dist-packages/statsmodels/tools/_testing.py:19: FutureWarning: pandas.util.testing is deprecated. Use the functions in the public API at pandas.testing instead.\n",
            "  import pandas.util.testing as tm\n"
          ]
        }
      ]
    },
    {
      "cell_type": "code",
      "metadata": {
        "id": "sijYk6DiZ93F"
      },
      "source": [
        "# data reading and binarization\n",
        "dataset = pd.read_csv('/content/drive/MyDrive/stat274/IVdata-1.csv')\n",
        "dataset['instrument'] = (dataset.xunshi).apply(int)\n",
        "dataset['treatment'] = (dataset.tenure >= 3).apply(int)\n",
        "dataset['outcome'] = (dataset.xc_lockdown).apply(int)"
      ],
      "execution_count": 4,
      "outputs": []
    },
    {
      "cell_type": "code",
      "metadata": {
        "id": "UQBLjXcAaZSc"
      },
      "source": [
        "# Basic model\n",
        "data_dml_base_iv = dml.DoubleMLData(dataset,\n",
        "                                    y_col='outcome',\n",
        "                                    d_cols='treatment',\n",
        "                                    z_cols='instrument',\n",
        "                                    x_cols=['mayor_age'])"
      ],
      "execution_count": 6,
      "outputs": []
    },
    {
      "cell_type": "code",
      "metadata": {
        "colab": {
          "base_uri": "https://localhost:8080/",
          "height": 81
        },
        "id": "xEVAKDbIagxU",
        "outputId": "6175f476-14f8-42d6-b952-006cd3ae2530"
      },
      "source": [
        "# Random Forest\n",
        "randomForest = RandomForestRegressor(n_estimators=500)\n",
        "randomForest_class = RandomForestClassifier(n_estimators=500)\n",
        "\n",
        "np.random.seed(123)\n",
        "dml_iivm_forest = dml.DoubleMLIIVM(data_dml_base_iv,\n",
        "                                   ml_g = randomForest,\n",
        "                                   ml_m = randomForest_class,\n",
        "                                   ml_r = randomForest_class,\n",
        "                                   subgroups = {'always_takers': False,\n",
        "                                                'never_takers': True},\n",
        "                                   trimming_threshold = 0.01,\n",
        "                                   n_folds = 3)\n",
        "\n",
        "# Set nuisance-part specific parameters\n",
        "dml_iivm_forest.set_ml_nuisance_params('ml_g0', 'treatment', {\n",
        "    'max_depth': 6, 'max_features': 1, 'min_samples_leaf': 7})\n",
        "dml_iivm_forest.set_ml_nuisance_params('ml_g1', 'treatment', {\n",
        "    'max_depth': 6, 'max_features': 1, 'min_samples_leaf': 5})\n",
        "dml_iivm_forest.set_ml_nuisance_params('ml_r1', 'treatment', {\n",
        "    'max_depth': 4, 'max_features': 1, 'min_samples_leaf': 6})\n",
        "\n",
        "dml_iivm_forest.fit(store_predictions=True) \n",
        "forest_summary = dml_iivm_forest.summary\n",
        "\n",
        "forest_summary"
      ],
      "execution_count": 8,
      "outputs": [
        {
          "output_type": "execute_result",
          "data": {
            "text/html": [
              "<div>\n",
              "<style scoped>\n",
              "    .dataframe tbody tr th:only-of-type {\n",
              "        vertical-align: middle;\n",
              "    }\n",
              "\n",
              "    .dataframe tbody tr th {\n",
              "        vertical-align: top;\n",
              "    }\n",
              "\n",
              "    .dataframe thead th {\n",
              "        text-align: right;\n",
              "    }\n",
              "</style>\n",
              "<table border=\"1\" class=\"dataframe\">\n",
              "  <thead>\n",
              "    <tr style=\"text-align: right;\">\n",
              "      <th></th>\n",
              "      <th>coef</th>\n",
              "      <th>std err</th>\n",
              "      <th>t</th>\n",
              "      <th>P&gt;|t|</th>\n",
              "      <th>2.5 %</th>\n",
              "      <th>97.5 %</th>\n",
              "    </tr>\n",
              "  </thead>\n",
              "  <tbody>\n",
              "    <tr>\n",
              "      <th>treatment</th>\n",
              "      <td>0.141952</td>\n",
              "      <td>0.304688</td>\n",
              "      <td>0.465892</td>\n",
              "      <td>0.641293</td>\n",
              "      <td>-0.455226</td>\n",
              "      <td>0.739129</td>\n",
              "    </tr>\n",
              "  </tbody>\n",
              "</table>\n",
              "</div>"
            ],
            "text/plain": [
              "               coef   std err         t     P>|t|     2.5 %    97.5 %\n",
              "treatment  0.141952  0.304688  0.465892  0.641293 -0.455226  0.739129"
            ]
          },
          "metadata": {},
          "execution_count": 8
        }
      ]
    },
    {
      "cell_type": "code",
      "metadata": {
        "id": "0-vi5LUCap1f"
      },
      "source": [
        ""
      ],
      "execution_count": null,
      "outputs": []
    }
  ]
}