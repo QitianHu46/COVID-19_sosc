{
  "nbformat": 4,
  "nbformat_minor": 0,
  "metadata": {
    "colab": {
      "name": "LATE_Estimation_qizhengz.ipynb",
      "provenance": [],
      "collapsed_sections": []
    },
    "kernelspec": {
      "name": "python3",
      "display_name": "Python 3"
    },
    "language_info": {
      "name": "python"
    }
  },
  "cells": [
    {
      "cell_type": "code",
      "metadata": {
        "id": "x55LYMnjZfEH"
      },
      "source": [
        "import numpy as np\n",
        "import pandas as pd\n",
        "\n",
        "from sklearn.preprocessing import PolynomialFeatures\n",
        "from sklearn.linear_model import LassoCV, LogisticRegressionCV\n",
        "from sklearn.ensemble import RandomForestClassifier, RandomForestRegressor\n",
        "from sklearn.tree import DecisionTreeClassifier, DecisionTreeRegressor\n",
        "from sklearn.preprocessing import StandardScaler\n",
        "from sklearn.pipeline import make_pipeline\n",
        "\n",
        "from xgboost import XGBClassifier, XGBRegressor"
      ],
      "execution_count": 1,
      "outputs": []
    },
    {
      "cell_type": "code",
      "metadata": {
        "colab": {
          "base_uri": "https://localhost:8080/"
        },
        "id": "YVnsUKBUQhcP",
        "outputId": "cec27161-e162-4e75-8b7b-9962c02c8550"
      },
      "source": [
        "from google.colab import drive\n",
        "drive.mount('/content/drive')"
      ],
      "execution_count": 3,
      "outputs": [
        {
          "output_type": "stream",
          "name": "stdout",
          "text": [
            "Mounted at /content/drive\n"
          ]
        }
      ]
    },
    {
      "cell_type": "code",
      "metadata": {
        "colab": {
          "base_uri": "https://localhost:8080/"
        },
        "id": "pAHA_AZqaFJg",
        "outputId": "8bd5a204-9453-4234-d02e-5e08cd01716f"
      },
      "source": [
        "import os\n",
        "os.system(\"pip install doubleml\")\n",
        "import doubleml as dml\n",
        "from doubleml.datasets import fetch_401K"
      ],
      "execution_count": 2,
      "outputs": [
        {
          "output_type": "stream",
          "name": "stderr",
          "text": [
            "/usr/local/lib/python3.7/dist-packages/statsmodels/tools/_testing.py:19: FutureWarning: pandas.util.testing is deprecated. Use the functions in the public API at pandas.testing instead.\n",
            "  import pandas.util.testing as tm\n"
          ]
        }
      ]
    },
    {
      "cell_type": "code",
      "metadata": {
        "id": "sijYk6DiZ93F"
      },
      "source": [
        "# data reading and binarization\n",
        "dataset = pd.read_csv('/content/drive/MyDrive/stat274/IVdata-1.csv')\n",
        "dataset['instrument'] = (dataset.xunshi).apply(int)\n",
        "dataset['treatment'] = (dataset.tenure >= 3).apply(int)\n",
        "dataset['outcome'] = (dataset.xc_lockdown).apply(int)"
      ],
      "execution_count": 4,
      "outputs": []
    },
    {
      "cell_type": "code",
      "metadata": {
        "id": "UQBLjXcAaZSc"
      },
      "source": [
        "# Basic model\n",
        "data_dml_base_iv = dml.DoubleMLData(dataset,\n",
        "                                    y_col='outcome',\n",
        "                                    d_cols='treatment',\n",
        "                                    z_cols='instrument',\n",
        "                                    x_cols=['sub_prov_ct', 'gdp_per_10k', 'primary_emp_share_total'])"
      ],
      "execution_count": 5,
      "outputs": []
    },
    {
      "cell_type": "code",
      "metadata": {
        "colab": {
          "base_uri": "https://localhost:8080/",
          "height": 81
        },
        "id": "xEVAKDbIagxU",
        "outputId": "e8b74366-37fd-409f-9011-14108d2a195b"
      },
      "source": [
        "# Random Forest\n",
        "randomForest = RandomForestRegressor(n_estimators=500)\n",
        "randomForest_class = RandomForestClassifier(n_estimators=500)\n",
        "\n",
        "np.random.seed(123)\n",
        "dml_iivm_forest = dml.DoubleMLIIVM(data_dml_base_iv,\n",
        "                                   ml_g = randomForest,\n",
        "                                   ml_m = randomForest_class,\n",
        "                                   ml_r = randomForest_class,\n",
        "                                   subgroups = {'always_takers': False,\n",
        "                                                'never_takers': True},\n",
        "                                   trimming_threshold = 0.01,\n",
        "                                   n_folds = 3)\n",
        "\n",
        "# Set nuisance-part specific parameters\n",
        "dml_iivm_forest.set_ml_nuisance_params('ml_g0', 'treatment', {\n",
        "    'max_depth': 6, 'max_features': 3, 'min_samples_leaf': 7})\n",
        "dml_iivm_forest.set_ml_nuisance_params('ml_g1', 'treatment', {\n",
        "    'max_depth': 6, 'max_features': 3, 'min_samples_leaf': 5})\n",
        "dml_iivm_forest.set_ml_nuisance_params('ml_r1', 'treatment', {\n",
        "    'max_depth': 4, 'max_features': 3, 'min_samples_leaf': 6})\n",
        "\n",
        "dml_iivm_forest.fit(store_predictions=True) \n",
        "forest_summary = dml_iivm_forest.summary\n",
        "\n",
        "forest_summary"
      ],
      "execution_count": 6,
      "outputs": [
        {
          "output_type": "execute_result",
          "data": {
            "text/html": [
              "<div>\n",
              "<style scoped>\n",
              "    .dataframe tbody tr th:only-of-type {\n",
              "        vertical-align: middle;\n",
              "    }\n",
              "\n",
              "    .dataframe tbody tr th {\n",
              "        vertical-align: top;\n",
              "    }\n",
              "\n",
              "    .dataframe thead th {\n",
              "        text-align: right;\n",
              "    }\n",
              "</style>\n",
              "<table border=\"1\" class=\"dataframe\">\n",
              "  <thead>\n",
              "    <tr style=\"text-align: right;\">\n",
              "      <th></th>\n",
              "      <th>coef</th>\n",
              "      <th>std err</th>\n",
              "      <th>t</th>\n",
              "      <th>P&gt;|t|</th>\n",
              "      <th>2.5 %</th>\n",
              "      <th>97.5 %</th>\n",
              "    </tr>\n",
              "  </thead>\n",
              "  <tbody>\n",
              "    <tr>\n",
              "      <th>treatment</th>\n",
              "      <td>-0.090977</td>\n",
              "      <td>0.519723</td>\n",
              "      <td>-0.175049</td>\n",
              "      <td>0.861042</td>\n",
              "      <td>-1.109615</td>\n",
              "      <td>0.927661</td>\n",
              "    </tr>\n",
              "  </tbody>\n",
              "</table>\n",
              "</div>"
            ],
            "text/plain": [
              "               coef   std err         t     P>|t|     2.5 %    97.5 %\n",
              "treatment -0.090977  0.519723 -0.175049  0.861042 -1.109615  0.927661"
            ]
          },
          "metadata": {},
          "execution_count": 6
        }
      ]
    },
    {
      "cell_type": "code",
      "metadata": {
        "id": "0-vi5LUCap1f",
        "colab": {
          "base_uri": "https://localhost:8080/",
          "height": 81
        },
        "outputId": "40ed56ed-e1a9-43d9-865e-614ed9871b82"
      },
      "source": [
        "# Trees\n",
        "trees = DecisionTreeRegressor(max_depth=30)\n",
        "trees_class = DecisionTreeClassifier(max_depth=30)\n",
        "\n",
        "np.random.seed(123)\n",
        "dml_iivm_tree = dml.DoubleMLIIVM(data_dml_base_iv,\n",
        "                                 ml_g = trees,\n",
        "                                 ml_m = trees_class,\n",
        "                                 ml_r = trees_class,\n",
        "                                 subgroups = {'always_takers': False,\n",
        "                                              'never_takers': True},\n",
        "                                 trimming_threshold = 0.01,\n",
        "                                 n_folds = 3)\n",
        "\n",
        "# Set nuisance-part specific parameters\n",
        "dml_iivm_tree.set_ml_nuisance_params('ml_g0', 'treatment', {\n",
        "    'ccp_alpha': 0.0016, 'min_samples_split': 74, 'min_samples_leaf': 24})\n",
        "dml_iivm_tree.set_ml_nuisance_params('ml_g1', 'treatment', {\n",
        "    'ccp_alpha': 0.0018, 'min_samples_split': 70, 'min_samples_leaf': 23})\n",
        "dml_iivm_tree.set_ml_nuisance_params('ml_m', 'treatment', {\n",
        "    'ccp_alpha': 0.0028, 'min_samples_split': 167, 'min_samples_leaf': 55})\n",
        "dml_iivm_tree.set_ml_nuisance_params('ml_r1', 'treatment', {\n",
        "    'ccp_alpha': 0.0576, 'min_samples_split': 55, 'min_samples_leaf': 18})\n",
        "\n",
        "dml_iivm_tree.fit(store_predictions=True)\n",
        "tree_summary = dml_iivm_tree.summary\n",
        "\n",
        "tree_summary"
      ],
      "execution_count": 7,
      "outputs": [
        {
          "output_type": "execute_result",
          "data": {
            "text/html": [
              "<div>\n",
              "<style scoped>\n",
              "    .dataframe tbody tr th:only-of-type {\n",
              "        vertical-align: middle;\n",
              "    }\n",
              "\n",
              "    .dataframe tbody tr th {\n",
              "        vertical-align: top;\n",
              "    }\n",
              "\n",
              "    .dataframe thead th {\n",
              "        text-align: right;\n",
              "    }\n",
              "</style>\n",
              "<table border=\"1\" class=\"dataframe\">\n",
              "  <thead>\n",
              "    <tr style=\"text-align: right;\">\n",
              "      <th></th>\n",
              "      <th>coef</th>\n",
              "      <th>std err</th>\n",
              "      <th>t</th>\n",
              "      <th>P&gt;|t|</th>\n",
              "      <th>2.5 %</th>\n",
              "      <th>97.5 %</th>\n",
              "    </tr>\n",
              "  </thead>\n",
              "  <tbody>\n",
              "    <tr>\n",
              "      <th>treatment</th>\n",
              "      <td>0.87162</td>\n",
              "      <td>0.433403</td>\n",
              "      <td>2.011106</td>\n",
              "      <td>0.044314</td>\n",
              "      <td>0.022165</td>\n",
              "      <td>1.721075</td>\n",
              "    </tr>\n",
              "  </tbody>\n",
              "</table>\n",
              "</div>"
            ],
            "text/plain": [
              "              coef   std err         t     P>|t|     2.5 %    97.5 %\n",
              "treatment  0.87162  0.433403  2.011106  0.044314  0.022165  1.721075"
            ]
          },
          "metadata": {},
          "execution_count": 7
        }
      ]
    },
    {
      "cell_type": "code",
      "metadata": {
        "id": "-RdI0dD7Q5P4"
      },
      "source": [
        ""
      ],
      "execution_count": null,
      "outputs": []
    }
  ]
}