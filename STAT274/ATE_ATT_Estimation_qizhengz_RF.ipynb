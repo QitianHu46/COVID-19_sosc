{
  "nbformat": 4,
  "nbformat_minor": 0,
  "metadata": {
    "colab": {
      "name": "ATE_ATT_Estimation_qizhengz.ipynb",
      "provenance": [],
      "collapsed_sections": []
    },
    "kernelspec": {
      "name": "python3",
      "display_name": "Python 3"
    },
    "language_info": {
      "name": "python"
    }
  },
  "cells": [
    {
      "cell_type": "markdown",
      "metadata": {
        "id": "QfZkNLUb4B-p"
      },
      "source": [
        "# ATE and ATT Estimation with Double Machine Learning"
      ]
    },
    {
      "cell_type": "code",
      "metadata": {
        "id": "8s-g6-p9Crh1",
        "colab": {
          "base_uri": "https://localhost:8080/"
        },
        "outputId": "c499be44-69e3-4f34-d0f1-53e8f7e3c07c"
      },
      "source": [
        "from google.colab import drive\n",
        "drive.mount('/content/drive')"
      ],
      "execution_count": 1,
      "outputs": [
        {
          "output_type": "stream",
          "name": "stdout",
          "text": [
            "Mounted at /content/drive\n"
          ]
        }
      ]
    },
    {
      "cell_type": "code",
      "metadata": {
        "id": "dS2X3Bq1-fxE"
      },
      "source": [
        "import numpy as np\n",
        "import pandas as pd\n",
        "import scipy as sp\n",
        "from sklearn.ensemble import RandomForestClassifier, RandomForestRegressor\n",
        "from sklearn.linear_model import LinearRegression, LogisticRegression\n",
        "from sklearn.tree import DecisionTreeClassifier\n",
        "from sklearn.model_selection import KFold, StratifiedKFold, train_test_split\n",
        "from sklearn.metrics import mean_squared_error, log_loss\n",
        "import sklearn\n",
        "import os"
      ],
      "execution_count": 3,
      "outputs": []
    },
    {
      "cell_type": "code",
      "metadata": {
        "id": "nxJ46X9cFJ9X"
      },
      "source": [
        "RANDOM_SEED=42\n",
        "np.random.seed(RANDOM_SEED)"
      ],
      "execution_count": 4,
      "outputs": []
    },
    {
      "cell_type": "markdown",
      "metadata": {
        "id": "yPbJeayiEs3u"
      },
      "source": [
        "##Load and Format Our Data (including treatment and instrument variables)"
      ]
    },
    {
      "cell_type": "code",
      "metadata": {
        "id": "2AC9TPko-hbt"
      },
      "source": [
        "def make_data_covid_lockdown(df):\n",
        "    df_new = df.copy()\n",
        "    df_new['treatment'] = (df['tenure'] >= 3).astype(int)\n",
        "    df_new['outcome'] = (df['xc_lockdown']).astype(int)\n",
        "    return df_new\n",
        "\n",
        "col_names = ['Unnamed: 0', 'Unnamed: 0.1', 'Unnamed: 0.1.1', 'ct_shortname', 'prov',\n",
        "              'citycode', 'ctnm', 'centlon', 'centlat', 'locked_down',\n",
        "              'lockdown_date', 'bdidx_19m20', 'xc_lockdown', 'xc_closed',\n",
        "              'daySinceFirstCase', 'sub_prov_ct', 'gdp2018', '自治州-盟-地区', 'in_291',\n",
        "              'pdensity', 'gdp_p', 'hospital_d', 'popHR18_all', 'Log_popHR18_all',\n",
        "              'gdp_per_10k', 'primary_ind', 'second_ind', 'third_ind',\n",
        "              'prov_leader_rank', 'num_hospital_total', 'num_doctors_total',\n",
        "              'num_firm_total', 'non_domestic_firms_total',\n",
        "              'pct_of_non_domestic_firm', 'primary_emp_share_total',\n",
        "              'secondary_emp_share_total', 'tertiary_emp_share_total', 'inaug_time',\n",
        "              'birthmonth', 'is_female', 'age_feb20', 'party_age', 'work_age',\n",
        "              'tenure', 'majorchara', 'is_STEM_major', 'rule_in_native_prov', 'is_BA',\n",
        "              'is_MA', 'is_PhD', 'cumulative_case', 'log_cumulative_case',\n",
        "              'bdidx_19m20_feb1_10', 'lockdown_datenum', 'xc_lockdown_datenum',\n",
        "              'xc_closed_datenum', 'hu_liao_jiang_nei', 'mayor', 'mayor_age',\n",
        "              'mayor_work_age', 'xunshi', 'treatment', 'outcome']\n",
        "\n",
        "dataset = pd.read_csv(\"/content/drive/MyDrive/stat274/IVdata-1.csv\")\n",
        "data = make_data_covid_lockdown(dataset)"
      ],
      "execution_count": 5,
      "outputs": []
    },
    {
      "cell_type": "code",
      "metadata": {
        "id": "gAsr99EcD8PU",
        "colab": {
          "base_uri": "https://localhost:8080/",
          "height": 365
        },
        "outputId": "c10c612e-cfc5-4b16-f433-b81ebf3a08d1"
      },
      "source": [
        "data.head()"
      ],
      "execution_count": 6,
      "outputs": [
        {
          "output_type": "execute_result",
          "data": {
            "text/html": [
              "<div>\n",
              "<style scoped>\n",
              "    .dataframe tbody tr th:only-of-type {\n",
              "        vertical-align: middle;\n",
              "    }\n",
              "\n",
              "    .dataframe tbody tr th {\n",
              "        vertical-align: top;\n",
              "    }\n",
              "\n",
              "    .dataframe thead th {\n",
              "        text-align: right;\n",
              "    }\n",
              "</style>\n",
              "<table border=\"1\" class=\"dataframe\">\n",
              "  <thead>\n",
              "    <tr style=\"text-align: right;\">\n",
              "      <th></th>\n",
              "      <th>Unnamed: 0</th>\n",
              "      <th>Unnamed: 0.1</th>\n",
              "      <th>Unnamed: 0.1.1</th>\n",
              "      <th>ct_shortname</th>\n",
              "      <th>prov</th>\n",
              "      <th>citycode</th>\n",
              "      <th>ctnm</th>\n",
              "      <th>centlon</th>\n",
              "      <th>centlat</th>\n",
              "      <th>locked_down</th>\n",
              "      <th>lockdown_date</th>\n",
              "      <th>bdidx_19m20</th>\n",
              "      <th>xc_lockdown</th>\n",
              "      <th>xc_closed</th>\n",
              "      <th>daySinceFirstCase</th>\n",
              "      <th>sub_prov_ct</th>\n",
              "      <th>gdp2018</th>\n",
              "      <th>自治州-盟-地区</th>\n",
              "      <th>in_291</th>\n",
              "      <th>pdensity</th>\n",
              "      <th>gdp_p</th>\n",
              "      <th>hospital_d</th>\n",
              "      <th>popHR18_all</th>\n",
              "      <th>Log_popHR18_all</th>\n",
              "      <th>gdp_per_10k</th>\n",
              "      <th>primary_ind</th>\n",
              "      <th>second_ind</th>\n",
              "      <th>third_ind</th>\n",
              "      <th>prov_leader_rank</th>\n",
              "      <th>num_hospital_total</th>\n",
              "      <th>num_doctors_total</th>\n",
              "      <th>num_firm_total</th>\n",
              "      <th>non_domestic_firms_total</th>\n",
              "      <th>pct_of_non_domestic_firm</th>\n",
              "      <th>primary_emp_share_total</th>\n",
              "      <th>secondary_emp_share_total</th>\n",
              "      <th>tertiary_emp_share_total</th>\n",
              "      <th>inaug_time</th>\n",
              "      <th>birthmonth</th>\n",
              "      <th>is_female</th>\n",
              "      <th>age_feb20</th>\n",
              "      <th>party_age</th>\n",
              "      <th>work_age</th>\n",
              "      <th>tenure</th>\n",
              "      <th>majorchara</th>\n",
              "      <th>is_STEM_major</th>\n",
              "      <th>rule_in_native_prov</th>\n",
              "      <th>is_BA</th>\n",
              "      <th>is_MA</th>\n",
              "      <th>is_PhD</th>\n",
              "      <th>cumulative_case</th>\n",
              "      <th>log_cumulative_case</th>\n",
              "      <th>bdidx_19m20_feb1_10</th>\n",
              "      <th>lockdown_datenum</th>\n",
              "      <th>xc_lockdown_datenum</th>\n",
              "      <th>xc_closed_datenum</th>\n",
              "      <th>hu_liao_jiang_nei</th>\n",
              "      <th>mayor</th>\n",
              "      <th>mayor_age</th>\n",
              "      <th>mayor_work_age</th>\n",
              "      <th>xunshi</th>\n",
              "      <th>treatment</th>\n",
              "      <th>outcome</th>\n",
              "    </tr>\n",
              "  </thead>\n",
              "  <tbody>\n",
              "    <tr>\n",
              "      <th>0</th>\n",
              "      <td>0</td>\n",
              "      <td>0</td>\n",
              "      <td>0</td>\n",
              "      <td>七台河</td>\n",
              "      <td>黑龙江省</td>\n",
              "      <td>230900</td>\n",
              "      <td>七台河市</td>\n",
              "      <td>130.862488</td>\n",
              "      <td>45.896891</td>\n",
              "      <td>0</td>\n",
              "      <td>NaN</td>\n",
              "      <td>3.8118</td>\n",
              "      <td>0.0</td>\n",
              "      <td>0.0</td>\n",
              "      <td>NaN</td>\n",
              "      <td>0</td>\n",
              "      <td>1757953.0</td>\n",
              "      <td>False</td>\n",
              "      <td>True</td>\n",
              "      <td>133.42</td>\n",
              "      <td>2.6500</td>\n",
              "      <td>0.1789</td>\n",
              "      <td>79.0</td>\n",
              "      <td>4.369448</td>\n",
              "      <td>22252.569620</td>\n",
              "      <td>8.79</td>\n",
              "      <td>41.54</td>\n",
              "      <td>49.66</td>\n",
              "      <td>31.47</td>\n",
              "      <td>27.0</td>\n",
              "      <td>1789.0</td>\n",
              "      <td>83.0</td>\n",
              "      <td>1.0</td>\n",
              "      <td>1.204819</td>\n",
              "      <td>4.66</td>\n",
              "      <td>50.76</td>\n",
              "      <td>44.58</td>\n",
              "      <td>2018-12</td>\n",
              "      <td>1965-1</td>\n",
              "      <td>0</td>\n",
              "      <td>55</td>\n",
              "      <td>34.0</td>\n",
              "      <td>32.0</td>\n",
              "      <td>1</td>\n",
              "      <td>2.0</td>\n",
              "      <td>1.0</td>\n",
              "      <td>1</td>\n",
              "      <td>0</td>\n",
              "      <td>0</td>\n",
              "      <td>1</td>\n",
              "      <td>17.0</td>\n",
              "      <td>2.833213</td>\n",
              "      <td>3.24543</td>\n",
              "      <td>30.0</td>\n",
              "      <td>30.0</td>\n",
              "      <td>30.0</td>\n",
              "      <td>0</td>\n",
              "      <td>贾君</td>\n",
              "      <td>56</td>\n",
              "      <td>38</td>\n",
              "      <td>1</td>\n",
              "      <td>0</td>\n",
              "      <td>0</td>\n",
              "    </tr>\n",
              "    <tr>\n",
              "      <th>1</th>\n",
              "      <td>1</td>\n",
              "      <td>1</td>\n",
              "      <td>1</td>\n",
              "      <td>三亚</td>\n",
              "      <td>海南省</td>\n",
              "      <td>460200</td>\n",
              "      <td>三亚市</td>\n",
              "      <td>109.418152</td>\n",
              "      <td>18.391594</td>\n",
              "      <td>0</td>\n",
              "      <td>NaN</td>\n",
              "      <td>2.9093</td>\n",
              "      <td>0.0</td>\n",
              "      <td>1.0</td>\n",
              "      <td>NaN</td>\n",
              "      <td>0</td>\n",
              "      <td>5298048.0</td>\n",
              "      <td>False</td>\n",
              "      <td>True</td>\n",
              "      <td>301.93</td>\n",
              "      <td>6.3273</td>\n",
              "      <td>0.2219</td>\n",
              "      <td>59.0</td>\n",
              "      <td>4.077537</td>\n",
              "      <td>89797.423729</td>\n",
              "      <td>12.39</td>\n",
              "      <td>19.98</td>\n",
              "      <td>67.63</td>\n",
              "      <td>32.74</td>\n",
              "      <td>11.0</td>\n",
              "      <td>2219.0</td>\n",
              "      <td>21.0</td>\n",
              "      <td>5.0</td>\n",
              "      <td>23.809524</td>\n",
              "      <td>2.79</td>\n",
              "      <td>8.12</td>\n",
              "      <td>89.09</td>\n",
              "      <td>2018-11</td>\n",
              "      <td>1967-10</td>\n",
              "      <td>0</td>\n",
              "      <td>52</td>\n",
              "      <td>15.0</td>\n",
              "      <td>28.0</td>\n",
              "      <td>1</td>\n",
              "      <td>1.0</td>\n",
              "      <td>0.0</td>\n",
              "      <td>0</td>\n",
              "      <td>0</td>\n",
              "      <td>1</td>\n",
              "      <td>0</td>\n",
              "      <td>54.0</td>\n",
              "      <td>3.988984</td>\n",
              "      <td>1.95423</td>\n",
              "      <td>30.0</td>\n",
              "      <td>30.0</td>\n",
              "      <td>5.0</td>\n",
              "      <td>0</td>\n",
              "      <td>阿东</td>\n",
              "      <td>49</td>\n",
              "      <td>22</td>\n",
              "      <td>1</td>\n",
              "      <td>0</td>\n",
              "      <td>0</td>\n",
              "    </tr>\n",
              "    <tr>\n",
              "      <th>2</th>\n",
              "      <td>2</td>\n",
              "      <td>2</td>\n",
              "      <td>2</td>\n",
              "      <td>三明</td>\n",
              "      <td>福建省</td>\n",
              "      <td>350400</td>\n",
              "      <td>三明市</td>\n",
              "      <td>117.395196</td>\n",
              "      <td>26.299947</td>\n",
              "      <td>0</td>\n",
              "      <td>NaN</td>\n",
              "      <td>2.5189</td>\n",
              "      <td>0.0</td>\n",
              "      <td>0.0</td>\n",
              "      <td>NaN</td>\n",
              "      <td>0</td>\n",
              "      <td>4532584.0</td>\n",
              "      <td>False</td>\n",
              "      <td>True</td>\n",
              "      <td>123.67</td>\n",
              "      <td>7.3261</td>\n",
              "      <td>0.5439</td>\n",
              "      <td>288.0</td>\n",
              "      <td>5.662960</td>\n",
              "      <td>15738.138889</td>\n",
              "      <td>2.97</td>\n",
              "      <td>54.36</td>\n",
              "      <td>42.67</td>\n",
              "      <td>35.30</td>\n",
              "      <td>46.0</td>\n",
              "      <td>5439.0</td>\n",
              "      <td>1770.0</td>\n",
              "      <td>75.0</td>\n",
              "      <td>4.237288</td>\n",
              "      <td>1.54</td>\n",
              "      <td>35.39</td>\n",
              "      <td>63.07</td>\n",
              "      <td>2019-3</td>\n",
              "      <td>1962-12</td>\n",
              "      <td>0</td>\n",
              "      <td>57</td>\n",
              "      <td>35.0</td>\n",
              "      <td>38.0</td>\n",
              "      <td>0</td>\n",
              "      <td>1.0</td>\n",
              "      <td>0.0</td>\n",
              "      <td>1</td>\n",
              "      <td>0</td>\n",
              "      <td>1</td>\n",
              "      <td>0</td>\n",
              "      <td>14.0</td>\n",
              "      <td>2.639057</td>\n",
              "      <td>2.03364</td>\n",
              "      <td>30.0</td>\n",
              "      <td>30.0</td>\n",
              "      <td>30.0</td>\n",
              "      <td>0</td>\n",
              "      <td>余红胜</td>\n",
              "      <td>49</td>\n",
              "      <td>29</td>\n",
              "      <td>1</td>\n",
              "      <td>0</td>\n",
              "      <td>0</td>\n",
              "    </tr>\n",
              "    <tr>\n",
              "      <th>3</th>\n",
              "      <td>3</td>\n",
              "      <td>3</td>\n",
              "      <td>3</td>\n",
              "      <td>三门峡</td>\n",
              "      <td>河南省</td>\n",
              "      <td>411200</td>\n",
              "      <td>三门峡市</td>\n",
              "      <td>111.106682</td>\n",
              "      <td>34.362922</td>\n",
              "      <td>0</td>\n",
              "      <td>NaN</td>\n",
              "      <td>2.8705</td>\n",
              "      <td>0.0</td>\n",
              "      <td>1.0</td>\n",
              "      <td>NaN</td>\n",
              "      <td>0</td>\n",
              "      <td>4316182.0</td>\n",
              "      <td>False</td>\n",
              "      <td>True</td>\n",
              "      <td>217.23</td>\n",
              "      <td>5.8894</td>\n",
              "      <td>0.5297</td>\n",
              "      <td>228.0</td>\n",
              "      <td>5.429346</td>\n",
              "      <td>18930.622807</td>\n",
              "      <td>5.85</td>\n",
              "      <td>45.02</td>\n",
              "      <td>49.12</td>\n",
              "      <td>55.64</td>\n",
              "      <td>51.0</td>\n",
              "      <td>5297.0</td>\n",
              "      <td>501.0</td>\n",
              "      <td>14.0</td>\n",
              "      <td>2.794411</td>\n",
              "      <td>0.30</td>\n",
              "      <td>50.95</td>\n",
              "      <td>48.75</td>\n",
              "      <td>2016-8</td>\n",
              "      <td>1963-10</td>\n",
              "      <td>0</td>\n",
              "      <td>56</td>\n",
              "      <td>34.0</td>\n",
              "      <td>32.0</td>\n",
              "      <td>3</td>\n",
              "      <td>1.0</td>\n",
              "      <td>0.0</td>\n",
              "      <td>1</td>\n",
              "      <td>0</td>\n",
              "      <td>0</td>\n",
              "      <td>1</td>\n",
              "      <td>7.0</td>\n",
              "      <td>1.945910</td>\n",
              "      <td>2.55164</td>\n",
              "      <td>30.0</td>\n",
              "      <td>30.0</td>\n",
              "      <td>0.0</td>\n",
              "      <td>0</td>\n",
              "      <td>安伟</td>\n",
              "      <td>53</td>\n",
              "      <td>28</td>\n",
              "      <td>1</td>\n",
              "      <td>1</td>\n",
              "      <td>0</td>\n",
              "    </tr>\n",
              "    <tr>\n",
              "      <th>4</th>\n",
              "      <td>4</td>\n",
              "      <td>4</td>\n",
              "      <td>4</td>\n",
              "      <td>上饶</td>\n",
              "      <td>江西省</td>\n",
              "      <td>361100</td>\n",
              "      <td>上饶市</td>\n",
              "      <td>117.469239</td>\n",
              "      <td>28.774557</td>\n",
              "      <td>1</td>\n",
              "      <td>2020-02-06</td>\n",
              "      <td>4.0219</td>\n",
              "      <td>1.0</td>\n",
              "      <td>1.0</td>\n",
              "      <td>-12.0</td>\n",
              "      <td>0</td>\n",
              "      <td>6203743.0</td>\n",
              "      <td>False</td>\n",
              "      <td>True</td>\n",
              "      <td>339.61</td>\n",
              "      <td>2.6996</td>\n",
              "      <td>1.1101</td>\n",
              "      <td>783.0</td>\n",
              "      <td>6.663133</td>\n",
              "      <td>7923.043423</td>\n",
              "      <td>4.80</td>\n",
              "      <td>41.95</td>\n",
              "      <td>53.24</td>\n",
              "      <td>32.02</td>\n",
              "      <td>147.0</td>\n",
              "      <td>11101.0</td>\n",
              "      <td>1303.0</td>\n",
              "      <td>34.0</td>\n",
              "      <td>2.609363</td>\n",
              "      <td>1.27</td>\n",
              "      <td>42.54</td>\n",
              "      <td>56.19</td>\n",
              "      <td>2016-4</td>\n",
              "      <td>1962-11</td>\n",
              "      <td>0</td>\n",
              "      <td>57</td>\n",
              "      <td>36.0</td>\n",
              "      <td>37.0</td>\n",
              "      <td>3</td>\n",
              "      <td>1.0</td>\n",
              "      <td>0.0</td>\n",
              "      <td>1</td>\n",
              "      <td>0</td>\n",
              "      <td>1</td>\n",
              "      <td>0</td>\n",
              "      <td>123.0</td>\n",
              "      <td>4.812184</td>\n",
              "      <td>3.29901</td>\n",
              "      <td>6.0</td>\n",
              "      <td>6.0</td>\n",
              "      <td>6.0</td>\n",
              "      <td>1</td>\n",
              "      <td>陈云</td>\n",
              "      <td>43</td>\n",
              "      <td>20</td>\n",
              "      <td>0</td>\n",
              "      <td>1</td>\n",
              "      <td>1</td>\n",
              "    </tr>\n",
              "  </tbody>\n",
              "</table>\n",
              "</div>"
            ],
            "text/plain": [
              "   Unnamed: 0  Unnamed: 0.1  Unnamed: 0.1.1  ... xunshi treatment  outcome\n",
              "0           0             0               0  ...      1         0        0\n",
              "1           1             1               1  ...      1         0        0\n",
              "2           2             2               2  ...      1         0        0\n",
              "3           3             3               3  ...      1         1        0\n",
              "4           4             4               4  ...      0         1        1\n",
              "\n",
              "[5 rows x 63 columns]"
            ]
          },
          "metadata": {},
          "execution_count": 6
        }
      ]
    },
    {
      "cell_type": "code",
      "metadata": {
        "id": "zpdyHdlpEwQ-"
      },
      "source": [
        "# confounder_fields = ['age_feb20']\n",
        "confounder_fields = ['sub_prov_ct', 'gdp_per_10k', 'primary_emp_share_total']\n",
        "\n",
        "confounders = data[confounder_fields]\n",
        "outcome = data['outcome']\n",
        "treatment = data['treatment']"
      ],
      "execution_count": 7,
      "outputs": []
    },
    {
      "cell_type": "markdown",
      "metadata": {
        "id": "C576dWRsa3ad"
      },
      "source": [
        "## Specify Nuisance Function Models\n",
        "\n",
        "The next step is to specify models for the conditional expected outcome and propensity score."
      ]
    },
    {
      "cell_type": "code",
      "metadata": {
        "colab": {
          "base_uri": "https://localhost:8080/"
        },
        "id": "qyOhSZRQRb8W",
        "outputId": "80b6b139-67df-4dd6-c789-f71aeef9b722"
      },
      "source": [
        "# specify a model for the conditional expected outcome\n",
        "\n",
        "# make a function that returns a sklearn model for later use in k-folding\n",
        "def make_Q_model():\n",
        "  return RandomForestRegressor(random_state=RANDOM_SEED, n_estimators=2000, max_depth=5)\n",
        "  # return LinearRegression()\n",
        "Q_model = make_Q_model()\n",
        "\n",
        "# Sanity check that chosen model actually improves test error\n",
        "# A real analysis should give substantial attention to model selection and validation \n",
        "\n",
        "X_w_treatment = confounders.copy()\n",
        "X_w_treatment[\"treatment\"] = treatment\n",
        "\n",
        "X_train, X_test, y_train, y_test = train_test_split(X_w_treatment, outcome, test_size=0.2)\n",
        "Q_model.fit(X_train, y_train)\n",
        "y_pred = Q_model.predict(X_test)\n",
        "\n",
        "test_mse=mean_squared_error(y_pred, y_test)\n",
        "print(f\"Test MSE of fit model {test_mse}\") \n",
        "baseline_mse=mean_squared_error(y_train.mean()*np.ones_like(y_test), y_test)\n",
        "print(f\"Test MSE of no-covariate model {baseline_mse}\")"
      ],
      "execution_count": 31,
      "outputs": [
        {
          "output_type": "stream",
          "name": "stdout",
          "text": [
            "Test MSE of fit model 0.2283243716356103\n",
            "Test MSE of no-covariate model 0.23521526623221695\n"
          ]
        }
      ]
    },
    {
      "cell_type": "code",
      "metadata": {
        "colab": {
          "base_uri": "https://localhost:8080/"
        },
        "id": "uq6eZEBXbsaI",
        "outputId": "84031124-17cc-4943-ec43-f836e87cfb66"
      },
      "source": [
        "# specify a model for the propensity score\n",
        "\n",
        "def make_g_model():\n",
        "  # return LogisticRegression(max_iter=1000)\n",
        "  return RandomForestClassifier(n_estimators=2000, max_depth=5)\n",
        "  # return LogisticRegression()\n",
        "  # return DecisionTreeClassifier()\n",
        "\n",
        "g_model = make_g_model()\n",
        "# Sanity check that chosen model actually improves test error\n",
        "# A real analysis should give substantial attention to model selection and validation \n",
        "\n",
        "X_train, X_test, a_train, a_test = train_test_split(confounders, treatment, test_size=0.2)\n",
        "g_model.fit(X_train, a_train)\n",
        "a_pred = g_model.predict_proba(X_test)[:,1]\n",
        "\n",
        "test_ce=log_loss(a_test, a_pred)\n",
        "print(f\"Test CE of fit model {test_ce}\") \n",
        "baseline_ce=log_loss(a_test, a_train.mean()*np.ones_like(a_test))\n",
        "print(f\"Test CE of no-covariate model {baseline_ce}\")"
      ],
      "execution_count": 35,
      "outputs": [
        {
          "output_type": "stream",
          "name": "stdout",
          "text": [
            "Test CE of fit model 0.6310654122374246\n",
            "Test CE of no-covariate model 0.6572847874232058\n"
          ]
        }
      ]
    },
    {
      "cell_type": "markdown",
      "metadata": {
        "id": "2RkvV_4_dFWo"
      },
      "source": [
        "## Use cross fitting to get predicted outcomes and propensity scores for each unit"
      ]
    },
    {
      "cell_type": "code",
      "metadata": {
        "id": "KA0AsEGJ_X3b"
      },
      "source": [
        "# helper functions to implement the cross fitting\n",
        "\n",
        "def treatment_k_fold_fit_and_predict(make_model, X:pd.DataFrame, A:np.array, n_splits:int):\n",
        "    \"\"\"\n",
        "    Implements K fold cross-fitting for the model predicting the treatment A. \n",
        "    That is, \n",
        "    1. Split data into K folds\n",
        "    2. For each fold j, the model is fit on the other K-1 folds\n",
        "    3. The fitted model is used to make predictions for each data point in fold j\n",
        "    Returns an array containing the predictions  \n",
        "\n",
        "    Args:\n",
        "    model: function that returns sklearn model (which implements fit and predict_prob)\n",
        "    X: dataframe of variables to adjust for\n",
        "    A: array of treatments\n",
        "    n_splits: number of splits to use\n",
        "    \"\"\"\n",
        "    predictions = np.full_like(A, np.nan, dtype=float)\n",
        "    kf = StratifiedKFold(n_splits=n_splits, shuffle=True, random_state=RANDOM_SEED)\n",
        "    \n",
        "    for train_index, test_index in kf.split(X, A):\n",
        "      X_train = X.loc[train_index]\n",
        "      A_train = A.loc[train_index]\n",
        "      g = make_model()\n",
        "      g.fit(X_train, A_train)\n",
        "\n",
        "      # get predictions for split\n",
        "      predictions[test_index] = g.predict_proba(X.loc[test_index])[:, 1]\n",
        "\n",
        "    assert np.isnan(predictions).sum() == 0\n",
        "    return predictions\n",
        "\n",
        "\n",
        "def outcome_k_fold_fit_and_predict(make_model, X:pd.DataFrame, y:np.array, A:np.array, n_splits:int, output_type:str):\n",
        "    \"\"\"\n",
        "    Implements K fold cross-fitting for the model predicting the outcome Y. \n",
        "    That is, \n",
        "    1. Split data into K folds\n",
        "    2. For each fold j, the model is fit on the other K-1 folds\n",
        "    3. The fitted model is used to make predictions for each data point in fold j\n",
        "    Returns two arrays containing the predictions for all units untreated, all units treated  \n",
        "\n",
        "    Args:\n",
        "    model: function that returns sklearn model (that implements fit and either predict_prob or predict)\n",
        "    X: dataframe of variables to adjust for\n",
        "    y: array of outcomes\n",
        "    A: array of treatments\n",
        "    n_splits: number of splits to use\n",
        "    output_type: type of outcome, \"binary\" or \"continuous\"\n",
        "\n",
        "    \"\"\"\n",
        "    predictions0 = np.full_like(A, np.nan, dtype=float)\n",
        "    predictions1 = np.full_like(y, np.nan, dtype=float)\n",
        "    if output_type == 'binary':\n",
        "      kf = StratifiedKFold(n_splits=n_splits, shuffle=True, random_state=RANDOM_SEED)\n",
        "    elif output_type == 'continuous':\n",
        "      kf = KFold(n_splits=n_splits, shuffle=True, random_state=RANDOM_SEED)\n",
        "\n",
        "    # include the treatment as input feature\n",
        "    X_w_treatment = X.copy()\n",
        "    X_w_treatment[\"A\"] = A\n",
        "\n",
        "    # for predicting effect under treatment / control status for each data point \n",
        "    X0 = X_w_treatment.copy()\n",
        "    X0[\"A\"] = 0\n",
        "    X1 = X_w_treatment.copy()\n",
        "    X1[\"A\"] = 1\n",
        "\n",
        "    \n",
        "    for train_index, test_index in kf.split(X_w_treatment, y):\n",
        "      X_train = X_w_treatment.loc[train_index]\n",
        "      y_train = y.loc[train_index]\n",
        "      q = make_model()\n",
        "      q.fit(X_train, y_train)\n",
        "\n",
        "      if output_type =='binary':\n",
        "        predictions0[test_index] = q.predict_proba(X0.loc[test_index])[:, 1]\n",
        "        predictions1[test_index] = q.predict_proba(X1.loc[test_index])[:, 1]\n",
        "      elif output_type == 'continuous':\n",
        "        predictions0[test_index] = q.predict(X0.loc[test_index])\n",
        "        predictions1[test_index] = q.predict(X1.loc[test_index])\n",
        "\n",
        "    assert np.isnan(predictions0).sum() == 0\n",
        "    assert np.isnan(predictions1).sum() == 0\n",
        "    return predictions0, predictions1"
      ],
      "execution_count": 36,
      "outputs": []
    },
    {
      "cell_type": "code",
      "metadata": {
        "id": "wVcE6pRQeMNf"
      },
      "source": [
        "g = treatment_k_fold_fit_and_predict(make_g_model, X=confounders, A=treatment, n_splits=10)"
      ],
      "execution_count": 37,
      "outputs": []
    },
    {
      "cell_type": "code",
      "metadata": {
        "id": "GLEHlLLdWSh9"
      },
      "source": [
        "Q0,Q1=outcome_k_fold_fit_and_predict(make_Q_model, X=confounders, y=outcome, A=treatment, n_splits=10, output_type=\"continuous\")"
      ],
      "execution_count": 38,
      "outputs": []
    },
    {
      "cell_type": "code",
      "metadata": {
        "colab": {
          "base_uri": "https://localhost:8080/",
          "height": 206
        },
        "id": "_NVCV0q0g8wQ",
        "outputId": "cb2569e4-65eb-4c82-df21-790a0a4568c9"
      },
      "source": [
        "data_and_nuisance_estimates = pd.DataFrame({'g': g, 'Q0': Q0, 'Q1': Q1, 'A': treatment, 'Y': outcome})\n",
        "data_and_nuisance_estimates.head()"
      ],
      "execution_count": 39,
      "outputs": [
        {
          "output_type": "execute_result",
          "data": {
            "text/html": [
              "<div>\n",
              "<style scoped>\n",
              "    .dataframe tbody tr th:only-of-type {\n",
              "        vertical-align: middle;\n",
              "    }\n",
              "\n",
              "    .dataframe tbody tr th {\n",
              "        vertical-align: top;\n",
              "    }\n",
              "\n",
              "    .dataframe thead th {\n",
              "        text-align: right;\n",
              "    }\n",
              "</style>\n",
              "<table border=\"1\" class=\"dataframe\">\n",
              "  <thead>\n",
              "    <tr style=\"text-align: right;\">\n",
              "      <th></th>\n",
              "      <th>g</th>\n",
              "      <th>Q0</th>\n",
              "      <th>Q1</th>\n",
              "      <th>A</th>\n",
              "      <th>Y</th>\n",
              "    </tr>\n",
              "  </thead>\n",
              "  <tbody>\n",
              "    <tr>\n",
              "      <th>0</th>\n",
              "      <td>0.322751</td>\n",
              "      <td>0.478824</td>\n",
              "      <td>0.479311</td>\n",
              "      <td>0</td>\n",
              "      <td>0</td>\n",
              "    </tr>\n",
              "    <tr>\n",
              "      <th>1</th>\n",
              "      <td>0.235406</td>\n",
              "      <td>0.337210</td>\n",
              "      <td>0.337131</td>\n",
              "      <td>0</td>\n",
              "      <td>0</td>\n",
              "    </tr>\n",
              "    <tr>\n",
              "      <th>2</th>\n",
              "      <td>0.268373</td>\n",
              "      <td>0.416053</td>\n",
              "      <td>0.433270</td>\n",
              "      <td>0</td>\n",
              "      <td>0</td>\n",
              "    </tr>\n",
              "    <tr>\n",
              "      <th>3</th>\n",
              "      <td>0.361641</td>\n",
              "      <td>0.524591</td>\n",
              "      <td>0.506393</td>\n",
              "      <td>1</td>\n",
              "      <td>0</td>\n",
              "    </tr>\n",
              "    <tr>\n",
              "      <th>4</th>\n",
              "      <td>0.443756</td>\n",
              "      <td>0.350658</td>\n",
              "      <td>0.351817</td>\n",
              "      <td>1</td>\n",
              "      <td>1</td>\n",
              "    </tr>\n",
              "  </tbody>\n",
              "</table>\n",
              "</div>"
            ],
            "text/plain": [
              "          g        Q0        Q1  A  Y\n",
              "0  0.322751  0.478824  0.479311  0  0\n",
              "1  0.235406  0.337210  0.337131  0  0\n",
              "2  0.268373  0.416053  0.433270  0  0\n",
              "3  0.361641  0.524591  0.506393  1  0\n",
              "4  0.443756  0.350658  0.351817  1  1"
            ]
          },
          "metadata": {},
          "execution_count": 39
        }
      ]
    },
    {
      "cell_type": "markdown",
      "metadata": {
        "id": "VNhM7URdgzQB"
      },
      "source": [
        "## Combine predicted values and data into estimate of ATT\n"
      ]
    },
    {
      "cell_type": "code",
      "metadata": {
        "id": "J-vONC5ejwh2"
      },
      "source": [
        "def att_aiptw(Q0, Q1, g, A, Y, prob_t=None):\n",
        "  \"\"\"\n",
        "  # Double ML estimator for the ATT\n",
        "  This uses the ATT specific scores, see equation 3.9 of https://www.econstor.eu/bitstream/10419/149795/1/869216953.pdf\n",
        "  \"\"\"\n",
        "\n",
        "  if prob_t is None:\n",
        "    prob_t = A.mean() # estimate marginal probability of treatment\n",
        "\n",
        "  tau_hat = (A*(Y-Q0) - (1-A)*(g/(1-g))*(Y-Q0)).mean()/ prob_t\n",
        "  \n",
        "  scores = (A*(Y-Q0) - (1-A)*(g/(1-g))*(Y-Q0) - tau_hat*A) / prob_t\n",
        "  n = Y.shape[0] # number of observations\n",
        "  std_hat = np.std(scores) / np.sqrt(n)\n",
        "\n",
        "  return tau_hat, std_hat\n"
      ],
      "execution_count": 40,
      "outputs": []
    },
    {
      "cell_type": "code",
      "metadata": {
        "id": "O_F5r0SSkzzK"
      },
      "source": [
        "def ate_aiptw(Q0, Q1, g, A, Y, prob_t=None):\n",
        "  \"\"\"\n",
        "  # Double ML estimator for the ATE\n",
        "  \"\"\"\n",
        "\n",
        "  tau_hat = (Q1 - Q0 + A*(Y-Q1)/g - (1-A)*(Y-Q0)/(1-g)).mean()\n",
        "  \n",
        "  scores = Q1 - Q0 + A*(Y-Q1)/g - (1-A)*(Y-Q0)/(1-g) - tau_hat\n",
        "  n = Y.shape[0] # number of observations\n",
        "  std_hat = np.std(scores) / np.sqrt(n)\n",
        "\n",
        "  return tau_hat, std_hat\n"
      ],
      "execution_count": 41,
      "outputs": []
    },
    {
      "cell_type": "code",
      "metadata": {
        "colab": {
          "base_uri": "https://localhost:8080/"
        },
        "id": "SjDj0F9Bm9uq",
        "outputId": "d99df54c-d3a5-4eb9-e041-7a6b50317430"
      },
      "source": [
        "tau_hat, std_hat = att_aiptw(**data_and_nuisance_estimates)\n",
        "print(f\"The estimate is {tau_hat} pm {1.96*std_hat}\")"
      ],
      "execution_count": 42,
      "outputs": [
        {
          "output_type": "stream",
          "name": "stdout",
          "text": [
            "The estimate is 0.012344029299472743 pm 0.1554339039846506\n"
          ]
        }
      ]
    },
    {
      "cell_type": "code",
      "metadata": {
        "colab": {
          "base_uri": "https://localhost:8080/"
        },
        "id": "vSaOp1HwlQ4i",
        "outputId": "aedac68a-beab-43b3-bc64-caf16ff7bbdf"
      },
      "source": [
        "in_treated = data_and_nuisance_estimates['A']==1\n",
        "treated_estimates = data_and_nuisance_estimates[in_treated]\n",
        "tau_hat, std_hat = ate_aiptw(**treated_estimates)\n",
        "print(f\"The estimate is {tau_hat} pm {1.96*std_hat}\")"
      ],
      "execution_count": 43,
      "outputs": [
        {
          "output_type": "stream",
          "name": "stdout",
          "text": [
            "The estimate is -0.010420692529775778 pm 0.43054856690373916\n"
          ]
        }
      ]
    },
    {
      "cell_type": "code",
      "metadata": {
        "colab": {
          "base_uri": "https://localhost:8080/"
        },
        "id": "IOuJnlbEo8j_",
        "outputId": "d713a2da-5711-414c-9b8f-b3e8d5cad156"
      },
      "source": [
        "# Computing the estimate restricted to a population with only reasonable propensity scores\n",
        "g = data_and_nuisance_estimates['g']\n",
        "in_overlap_popluation = ((g > 0.05) & (g < 0.95))\n",
        "overlap_data_and_nuisance = data_and_nuisance_estimates[in_overlap_popluation]\n",
        "tau_hat, std_hat = att_aiptw(**overlap_data_and_nuisance)\n",
        "print(f\"The estimate is {tau_hat} pm {1.96*std_hat}\")"
      ],
      "execution_count": 44,
      "outputs": [
        {
          "output_type": "stream",
          "name": "stdout",
          "text": [
            "The estimate is 0.012819440056859172 pm 0.15542787777125575\n"
          ]
        }
      ]
    },
    {
      "cell_type": "code",
      "metadata": {
        "id": "NkEQ6xzRjz-I"
      },
      "source": [
        ""
      ],
      "execution_count": null,
      "outputs": []
    }
  ]
}