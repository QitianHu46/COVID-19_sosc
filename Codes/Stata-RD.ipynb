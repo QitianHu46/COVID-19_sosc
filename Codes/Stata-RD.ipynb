{
 "cells": [
  {
   "cell_type": "code",
   "execution_count": 4,
   "metadata": {},
   "outputs": [
    {
     "name": "stdout",
     "output_type": "stream",
     "text": [
      "/Users/qitianhu/Documents/Research/Explore/COVID-19_sosc/Codes\n"
     ]
    }
   ],
   "source": [
    "pwd"
   ]
  },
  {
   "cell_type": "code",
   "execution_count": 10,
   "metadata": {},
   "outputs": [],
   "source": [
    "use \"/Users/qitianhu/Documents/Research/Explore/COVID-19_sosc/Data/276城_3source_by_ct_V3.dta\""
   ]
  },
  {
   "cell_type": "code",
   "execution_count": 11,
   "metadata": {},
   "outputs": [
    {
     "name": "stdout",
     "output_type": "stream",
     "text": [
      "\n",
      "Contains data from /Users/qitianhu/Documents/Research/Explore/COVID-19_sosc/Data\n",
      "> /276城_3source_by_ct_V3.dta\n",
      "  obs:           276                          \n",
      " vars:            51                          26 Oct 2020 10:38\n",
      " size:        97,428                          \n",
      "--------------------------------------------------------------------------------\n",
      "              storage   display    value\n",
      "variable name   type    format     label      variable label\n",
      "--------------------------------------------------------------------------------\n",
      "index           long    %12.0g                \n",
      "citycode        long    %12.0g                \n",
      "centlon         double  %10.0g                \n",
      "centlat         double  %10.0g                \n",
      "locked_down     long    %12.0g                \n",
      "lockdown_date   str10   %10s                  \n",
      "bdidx_19m20     double  %10.0g                \n",
      "xc_lockdown     double  %10.0g                \n",
      "xc_closed       double  %10.0g                \n",
      "daySinceFirst~e double  %10.0g                \n",
      "sub_prov_ct     long    %12.0g                \n",
      "gdp2018         double  %10.0g                \n",
      "in_291          byte    %8.0g                 \n",
      "pdensity        double  %10.0g                \n",
      "gdp_p           double  %10.0g                \n",
      "hospital_d      double  %10.0g                \n",
      "popHR18_all     double  %10.0g                \n",
      "Log_popHR18_all double  %10.0g                \n",
      "gdp_per_10k     double  %10.0g                \n",
      "primary_ind     double  %10.0g                \n",
      "second_ind      double  %10.0g                \n",
      "third_ind       double  %10.0g                \n",
      "prov_leader_r~k double  %10.0g                \n",
      "num_hospital_~l double  %10.0g                \n",
      "num_doctors_t~l double  %10.0g                \n",
      "num_firm_total  double  %10.0g                \n",
      "non_domestic_~l double  %10.0g                \n",
      "pct_of_non_do~m double  %10.0g                \n",
      "primary_emp_s~l double  %10.0g                \n",
      "secondary_emp~l double  %10.0g                \n",
      "tertiary_emp_~l double  %10.0g                \n",
      "inaug_time      str7    %7s                   \n",
      "birthmonth      str7    %7s                   \n",
      "is_female       long    %12.0g                \n",
      "age_feb20       long    %12.0g                \n",
      "party_age       double  %10.0g                \n",
      "work_age        double  %10.0g                \n",
      "tenure          long    %12.0g                \n",
      "majorchara      double  %10.0g                \n",
      "is_STEM_major   double  %10.0g                \n",
      "rule_in_nativ~v long    %12.0g                \n",
      "is_BA           long    %12.0g                \n",
      "is_MA           long    %12.0g                \n",
      "is_PhD          long    %12.0g                \n",
      "cumulative_case double  %10.0g                \n",
      "log_cumulativ~e double  %10.0g                \n",
      "bdidx_19m20_~10 double  %10.0g                \n",
      "lockdown_date~m double  %10.0g                \n",
      "xc_lockdown_d~m double  %10.0g                \n",
      "xc_closed_dat~m double  %10.0g                \n",
      "hu_liao_jiang~i long    %12.0g                \n",
      "--------------------------------------------------------------------------------\n",
      "Sorted by: \n"
     ]
    }
   ],
   "source": [
    "desc "
   ]
  },
  {
   "cell_type": "code",
   "execution_count": 36,
   "metadata": {},
   "outputs": [
    {
     "name": "stdout",
     "output_type": "stream",
     "text": [
      "Mass points detected in the running variable.\n",
      "\n",
      "Covariate-adjusted sharp RD estimates using local polynomial regression.\n",
      "\n",
      "     Cutoff c = 56 | Left of c  Right of c            Number of obs =        276\n",
      "-------------------+----------------------            BW type       =      mserd\n",
      "     Number of obs |       130         146            Kernel        = Triangular\n",
      "Eff. Number of obs |       115         146            VCE method    =         NN\n",
      "    Order est. (p) |         1           1\n",
      "    Order bias (q) |         2           2\n",
      "       BW est. (h) |     5.054       5.054\n",
      "       BW bias (b) |     7.022       7.022\n",
      "         rho (h/b) |     0.720       0.720\n",
      "        Unique obs |        10           5\n",
      "\n",
      "Outcome: bdidx_19m20. Running variable: age_feb20.\n",
      "--------------------------------------------------------------------------------\n",
      "            Method |   Coef.    Std. Err.    z     P>|z|    [95% Conf. Interval]\n",
      "-------------------+------------------------------------------------------------\n",
      "      Conventional |  .32644     .17893   1.8244   0.068   -.024253      .677129\n",
      "            Robust |     -          -     1.6823   0.093   -.074729      .980247\n",
      "--------------------------------------------------------------------------------\n",
      "Covariate-adjusted estimates. Additional covariates included: 4\n",
      "Estimates adjusted for mass points in the running variable.\n"
     ]
    }
   ],
   "source": [
    "rdrobust bdidx_19m20 age_feb20 ,c(56) covs( cumulative_case hu_liao_jiang_nei hospital_d Log_popHR18_all)\n"
   ]
  },
  {
   "cell_type": "code",
   "execution_count": 33,
   "metadata": {},
   "outputs": [
    {
     "name": "stdout",
     "output_type": "stream",
     "text": [
      "Mass points detected in the running variable.\n",
      "\n",
      "Covariate-adjusted sharp RD estimates using local polynomial regression.\n",
      "\n",
      "     Cutoff c = 58 | Left of c  Right of c            Number of obs =        276\n",
      "-------------------+----------------------            BW type       =      mserd\n",
      "     Number of obs |       242          34            Kernel        = Triangular\n",
      "Eff. Number of obs |       211          34            VCE method    =         NN\n",
      "    Order est. (p) |         1           1\n",
      "    Order bias (q) |         2           2\n",
      "       BW est. (h) |     6.249       6.249\n",
      "       BW bias (b) |     8.683       8.683\n",
      "         rho (h/b) |     0.720       0.720\n",
      "        Unique obs |        12           3\n",
      "\n",
      "Outcome: xc_closed_datenum. Running variable: age_feb20.\n",
      "--------------------------------------------------------------------------------\n",
      "            Method |   Coef.    Std. Err.    z     P>|z|    [95% Conf. Interval]\n",
      "-------------------+------------------------------------------------------------\n",
      "      Conventional |  -1.904     2.1479   -0.8865  0.375    -6.1137      2.30575\n",
      "            Robust |     -          -     -0.5955  0.552   -7.04298       3.7605\n",
      "--------------------------------------------------------------------------------\n",
      "Covariate-adjusted estimates. Additional covariates included: 3\n",
      "Estimates adjusted for mass points in the running variable.\n"
     ]
    }
   ],
   "source": [
    "rdrobust xc_closed_datenum age_feb20 ,c(58) covs( cumulative_case hospital_d Log_popHR18_all)\n"
   ]
  },
  {
   "cell_type": "code",
   "execution_count": null,
   "metadata": {},
   "outputs": [],
   "source": []
  }
 ],
 "metadata": {
  "kernelspec": {
   "display_name": "Stata",
   "language": "stata",
   "name": "stata"
  },
  "language_info": {
   "codemirror_mode": "stata",
   "file_extension": ".do",
   "mimetype": "text/x-stata",
   "name": "stata",
   "version": "15.1"
  }
 },
 "nbformat": 4,
 "nbformat_minor": 4
}
