{
 "cells": [
  {
   "cell_type": "code",
   "execution_count": 1,
   "metadata": {},
   "outputs": [
    {
     "name": "stdout",
     "output_type": "stream",
     "text": [
      "checking rdrobust consistency and verifying not already installed...\n",
      "installing into /Users/qitianhu/Library/Application Support/Stata/ado/plus/...\n",
      "installation complete.\n"
     ]
    }
   ],
   "source": [
    "ssc install rdrobust"
   ]
  },
  {
   "cell_type": "code",
   "execution_count": 50,
   "metadata": {},
   "outputs": [],
   "source": [
    "use \"Data/276城_3source_by_ct_V3.dta\""
   ]
  },
  {
   "cell_type": "code",
   "execution_count": 51,
   "metadata": {},
   "outputs": [
    {
     "name": "stdout",
     "output_type": "stream",
     "text": [
      "\n",
      "Contains data from Data/276城_3source_by_ct_V3.dta\n",
      "  obs:           276                          \n",
      " vars:            13                          25 Oct 2020 20:02\n",
      " size:        24,288                          \n",
      "--------------------------------------------------------------------------------\n",
      "              storage   display    value\n",
      "variable name   type    format     label      variable label\n",
      "--------------------------------------------------------------------------------\n",
      "index           long    %12.0g                \n",
      "lockdown_date~m double  %10.0g                \n",
      "xc_lockdown_d~m double  %10.0g                \n",
      "xc_closed_dat~m double  %10.0g                \n",
      "locked_down     long    %12.0g                \n",
      "xc_lockdown     double  %10.0g                \n",
      "xc_closed       double  %10.0g                \n",
      "hu_liao_jiang~i long    %12.0g                \n",
      "age_feb20       long    %12.0g                \n",
      "gdp2018         double  %10.0g                \n",
      "cumulative_case double  %10.0g                \n",
      "hospital_d      double  %10.0g                \n",
      "Log_popHR18_all double  %10.0g                \n",
      "--------------------------------------------------------------------------------\n",
      "Sorted by: \n"
     ]
    }
   ],
   "source": [
    "desc "
   ]
  },
  {
   "cell_type": "code",
   "execution_count": 62,
   "metadata": {},
   "outputs": [
    {
     "name": "stdout",
     "output_type": "stream",
     "text": [
      "Mass points detected in the running variable.\n",
      "\n",
      "Covariate-adjusted sharp RD estimates using local polynomial regression.\n",
      "\n",
      "     Cutoff c = 58 | Left of c  Right of c            Number of obs =        276\n",
      "-------------------+----------------------            BW type       =      mserd\n",
      "     Number of obs |       242          34            Kernel        = Triangular\n",
      "Eff. Number of obs |       197          34            VCE method    =         NN\n",
      "    Order est. (p) |         1           1\n",
      "    Order bias (q) |         2           2\n",
      "       BW est. (h) |     5.983       5.983\n",
      "       BW bias (b) |     8.152       8.152\n",
      "         rho (h/b) |     0.734       0.734\n",
      "        Unique obs |        12           3\n",
      "\n",
      "Outcome: xc_closed. Running variable: age_feb20.\n",
      "--------------------------------------------------------------------------------\n",
      "            Method |   Coef.    Std. Err.    z     P>|z|    [95% Conf. Interval]\n",
      "-------------------+------------------------------------------------------------\n",
      "      Conventional |   .0643     .08477   0.7586   0.448   -.101843      .230448\n",
      "            Robust |     -          -     0.5331   0.594   -.157737      .275588\n",
      "--------------------------------------------------------------------------------\n",
      "Covariate-adjusted estimates. Additional covariates included: 4\n",
      "Estimates adjusted for mass points in the running variable.\n"
     ]
    }
   ],
   "source": [
    "rdrobust xc_closed age_feb20 ,c(58) covs( cumulative_case hu_liao_jiang_nei hospital_d Log_popHR18_all)\n"
   ]
  },
  {
   "cell_type": "code",
   "execution_count": 33,
   "metadata": {},
   "outputs": [
    {
     "name": "stdout",
     "output_type": "stream",
     "text": [
      "Mass points detected in the running variable.\n",
      "\n",
      "Covariate-adjusted sharp RD estimates using local polynomial regression.\n",
      "\n",
      "     Cutoff c = 58 | Left of c  Right of c            Number of obs =        276\n",
      "-------------------+----------------------            BW type       =      mserd\n",
      "     Number of obs |       242          34            Kernel        = Triangular\n",
      "Eff. Number of obs |       211          34            VCE method    =         NN\n",
      "    Order est. (p) |         1           1\n",
      "    Order bias (q) |         2           2\n",
      "       BW est. (h) |     6.249       6.249\n",
      "       BW bias (b) |     8.683       8.683\n",
      "         rho (h/b) |     0.720       0.720\n",
      "        Unique obs |        12           3\n",
      "\n",
      "Outcome: xc_closed_datenum. Running variable: age_feb20.\n",
      "--------------------------------------------------------------------------------\n",
      "            Method |   Coef.    Std. Err.    z     P>|z|    [95% Conf. Interval]\n",
      "-------------------+------------------------------------------------------------\n",
      "      Conventional |  -1.904     2.1479   -0.8865  0.375    -6.1137      2.30575\n",
      "            Robust |     -          -     -0.5955  0.552   -7.04298       3.7605\n",
      "--------------------------------------------------------------------------------\n",
      "Covariate-adjusted estimates. Additional covariates included: 3\n",
      "Estimates adjusted for mass points in the running variable.\n"
     ]
    }
   ],
   "source": [
    "rdrobust xc_closed_datenum age_feb20 ,c(58) covs( cumulative_case hospital_d Log_popHR18_all)\n"
   ]
  },
  {
   "cell_type": "code",
   "execution_count": null,
   "metadata": {},
   "outputs": [],
   "source": []
  }
 ],
 "metadata": {
  "kernelspec": {
   "display_name": "Stata",
   "language": "stata",
   "name": "stata"
  },
  "language_info": {
   "codemirror_mode": "stata",
   "file_extension": ".do",
   "mimetype": "text/x-stata",
   "name": "stata",
   "version": "15.1"
  }
 },
 "nbformat": 4,
 "nbformat_minor": 4
}
