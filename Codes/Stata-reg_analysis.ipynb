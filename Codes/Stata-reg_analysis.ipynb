{
 "cells": [
  {
   "cell_type": "markdown",
   "metadata": {},
   "source": [
    "## Dep: locked_on_date"
   ]
  },
  {
   "cell_type": "code",
   "execution_count": 43,
   "metadata": {},
   "outputs": [],
   "source": [
    "use \"/Users/qitianhu/Documents/Research/Explore/COVID-19_sosc/Data/2-15-22var_alldata.dta\""
   ]
  },
  {
   "cell_type": "markdown",
   "metadata": {},
   "source": [
    "总的"
   ]
  },
  {
   "cell_type": "code",
   "execution_count": 17,
   "metadata": {
    "collapsed": true,
    "jupyter": {
     "outputs_hidden": true
    }
   },
   "outputs": [
    {
     "name": "stdout",
     "output_type": "stream",
     "text": [
      "\n",
      "Contains data from /Users/qitianhu/Documents/Research/Explore/COVID-19_sosc/Data\n",
      "> /feb_29_28var_alldata.dta\n",
      "  obs:           279                          \n",
      " vars:            33                          30 Aug 2020 01:07\n",
      " size:        58,032                          \n",
      "--------------------------------------------------------------------------------\n",
      "              storage   display    value\n",
      "variable name   type    format     label      variable label\n",
      "--------------------------------------------------------------------------------\n",
      "index           long    %12.0g                \n",
      "locked_on_date  long    %12.0g                \n",
      "bdidx_avgdiff~y double  %10.0g                \n",
      "bdidx_avgdiff~e double  %10.0g                \n",
      "popHR18_all     double  %10.0g                \n",
      "case_on_date    double  %10.0g                \n",
      "gdp2018         double  %10.0g                \n",
      "case_per_10k    double  %10.0g                \n",
      "second_ind      double  %10.0g                \n",
      "third_ind       double  %10.0g                \n",
      "sub_prov_ct     long    %12.0g                \n",
      "age_feb20       long    %12.0g                \n",
      "tenure          long    %12.0g                \n",
      "prov_leader_r~k double  %10.0g                \n",
      "yiji_jan23      long    %12.0g                \n",
      "yiji_jan24      long    %12.0g                \n",
      "yiji_jan25      long    %12.0g                \n",
      "yiji_jan26      long    %12.0g                \n",
      "num_hospital_~l double  %10.0g                \n",
      "num_doctors_t~l double  %10.0g                \n",
      "num_firm_total  double  %10.0g                \n",
      "pct_of_non_do~m double  %10.0g                \n",
      "primary_emp_s~l double  %10.0g                \n",
      "secondary_emp~l double  %10.0g                \n",
      "tertiary_emp_~l double  %10.0g                \n",
      "is_STEM_major   double  %10.0g                \n",
      "is_BA           long    %12.0g                \n",
      "is_MA           long    %12.0g                \n",
      "is_PhD          long    %12.0g                \n",
      "is_female       long    %12.0g                \n",
      "rule_in_nativ~v long    %12.0g                \n",
      "party_age       double  %10.0g                \n",
      "work_age        double  %10.0g                \n",
      "--------------------------------------------------------------------------------\n",
      "Sorted by: \n"
     ]
    }
   ],
   "source": [
    "desc"
   ]
  },
  {
   "cell_type": "markdown",
   "metadata": {},
   "source": [
    "## Dep: Baidu Index: Holiday"
   ]
  },
  {
   "cell_type": "code",
   "execution_count": 9,
   "metadata": {
    "collapsed": true,
    "jupyter": {
     "outputs_hidden": true
    }
   },
   "outputs": [
    {
     "name": "stdout",
     "output_type": "stream",
     "text": [
      "note: case_on_date omitted because of collinearity\n",
      "note: second_ind omitted because of collinearity\n",
      "note: yiji_jan23 omitted because of collinearity\n",
      "note: tertiary_emp_share_total omitted because of collinearity\n",
      "note: is_BA omitted because of collinearity\n",
      "note: gdp2018 omitted because of collinearity\n",
      "note: case_per_10k omitted because of collinearity\n",
      "note: third_ind omitted because of collinearity\n",
      "note: sub_prov_ct omitted because of collinearity\n",
      "note: age_feb20 omitted because of collinearity\n",
      "note: tenure omitted because of collinearity\n",
      "note: prov_leader_rank omitted because of collinearity\n",
      "note: yiji_jan24 omitted because of collinearity\n",
      "note: yiji_jan25 omitted because of collinearity\n",
      "note: yiji_jan26 omitted because of collinearity\n",
      "note: num_hospital_total omitted because of collinearity\n",
      "note: num_doctors_total omitted because of collinearity\n",
      "note: num_firm_total omitted because of collinearity\n",
      "note: pct_of_non_domestic_firm omitted because of collinearity\n",
      "note: primary_emp_share_total omitted because of collinearity\n",
      "note: secondary_emp_share_total omitted because of collinearity\n",
      "note: tertiary_emp_share_total omitted because of collinearity\n",
      "note: is_STEM_major omitted because of collinearity\n",
      "note: is_BA omitted because of collinearity\n",
      "note: is_MA omitted because of collinearity\n",
      "note: is_PhD omitted because of collinearity\n",
      "note: is_female omitted because of collinearity\n",
      "note: rule_in_native_prov omitted because of collinearity\n",
      "note: party_age omitted because of collinearity\n",
      "note: work_age omitted because of collinearity\n",
      "\n",
      "      Source |       SS           df       MS      Number of obs   =       271\n",
      "-------------+----------------------------------   F(26, 244)      =      9.34\n",
      "       Model |  44.0387056        26  1.69379637   Prob > F        =    0.0000\n",
      "    Residual |  44.2520118       244  .181360704   R-squared       =    0.4988\n",
      "-------------+----------------------------------   Adj R-squared   =    0.4454\n",
      "       Total |  88.2907174       270  .327002657   Root MSE        =    .42586\n",
      "\n",
      "-------------------------------------------------------------------------------\n",
      "bdidx_avgdi~y |      Coef.   Std. Err.      t    P>|t|     [95% Conf. Interval]\n",
      "--------------+----------------------------------------------------------------\n",
      " case_on_date |          0  (omitted)\n",
      "      gdp2018 |  -8.27e-09   2.30e-09    -3.59   0.000    -1.28e-08   -3.74e-09\n",
      " case_per_10k |   1.408815   .3075187     4.58   0.000     .8030854    2.014545\n",
      "   second_ind |          0  (omitted)\n",
      "    third_ind |   .0143002   .0058947     2.43   0.016     .0026892    .0259112\n",
      "  sub_prov_ct |   .1850405    .183969     1.01   0.315    -.1773296    .5474105\n",
      "    age_feb20 |   .0067865   .0174626     0.39   0.698    -.0276102    .0411831\n",
      "       tenure |   .0100584   .0198336     0.51   0.613    -.0290085    .0491252\n",
      "prov_leader~k |   .0005456   .0009937     0.55   0.583    -.0014117    .0025028\n",
      "   yiji_jan23 |          0  (omitted)\n",
      "   yiji_jan24 |   .5524646   .2207023     2.50   0.013     .1177398    .9871895\n",
      "   yiji_jan25 |   .8929964   .2170021     4.12   0.000     .4655599    1.320433\n",
      "   yiji_jan26 |   .8106038   .3656846     2.22   0.028     .0903024    1.530905\n",
      "num_hospita~l |  -.0015086   .0004408    -3.42   0.001    -.0023769   -.0006403\n",
      "num_doctors~l |   .0000441   8.04e-06     5.49   0.000     .0000283    .0000599\n",
      "num_firm_to~l |   .0000498   .0000346     1.44   0.152    -.0000184    .0001179\n",
      "pct_of_non_~m |  -.0107895   .0048158    -2.24   0.026    -.0202753   -.0013037\n",
      "primary_emp~l |    .008934   .0051267     1.74   0.083    -.0011642    .0190322\n",
      "secondary_e~l |   .0044049   .0027924     1.58   0.116    -.0010954    .0099051\n",
      "tertiary_em~l |          0  (omitted)\n",
      "is_STEM_major |  -.0335871   .0685761    -0.49   0.625    -.1686638    .1014895\n",
      "        is_BA |          0  (omitted)\n",
      "        is_MA |   .0199073   .0760635     0.26   0.794    -.1299176    .1697322\n",
      "       is_PhD |  -.0140285   .0892344    -0.16   0.875    -.1897966    .1617396\n",
      "    is_female |   .0340573   .1546702     0.22   0.826    -.2706018    .3387165\n",
      "rule_in_nat~v |   .0002276   .0575397     0.00   0.997    -.1131104    .1135656\n",
      "    party_age |  -.0099977   .0088202    -1.13   0.258    -.0273712    .0073758\n",
      "     work_age |   .0029312    .010447     0.28   0.779    -.0176466    .0235091\n",
      " case_on_date |   .0005937   .0008136     0.73   0.466    -.0010089    .0021963\n",
      "      gdp2018 |          0  (omitted)\n",
      " case_per_10k |          0  (omitted)\n",
      "   second_ind |   .0092355   .0059685     1.55   0.123    -.0025207    .0209918\n",
      "    third_ind |          0  (omitted)\n",
      "  sub_prov_ct |          0  (omitted)\n",
      "    age_feb20 |          0  (omitted)\n",
      "       tenure |          0  (omitted)\n",
      "prov_leader~k |          0  (omitted)\n",
      "   yiji_jan23 |   .2012788    .233725     0.86   0.390    -.2590974     .661655\n",
      "   yiji_jan24 |          0  (omitted)\n",
      "   yiji_jan25 |          0  (omitted)\n",
      "   yiji_jan26 |          0  (omitted)\n",
      "num_hospita~l |          0  (omitted)\n",
      "num_doctors~l |          0  (omitted)\n",
      "num_firm_to~l |          0  (omitted)\n",
      "pct_of_non_~m |          0  (omitted)\n",
      "primary_emp~l |          0  (omitted)\n",
      "secondary_e~l |          0  (omitted)\n",
      "tertiary_em~l |          0  (omitted)\n",
      "is_STEM_major |          0  (omitted)\n",
      "        is_BA |          0  (omitted)\n",
      "        is_MA |          0  (omitted)\n",
      "       is_PhD |          0  (omitted)\n",
      "    is_female |          0  (omitted)\n",
      "rule_in_nat~v |          0  (omitted)\n",
      "    party_age |          0  (omitted)\n",
      "     work_age |          0  (omitted)\n",
      "        _cons |  -.7609319   .9135744    -0.83   0.406     -2.56043    1.038567\n",
      "-------------------------------------------------------------------------------\n"
     ]
    }
   ],
   "source": [
    "reg bdidx_avgdiff_holiday case_on_date gdp2018 case_per_10k second_ind third_ind sub_prov_ct age_feb20 tenure prov_leader_rank yiji_jan23 yiji_jan24 yiji_jan25 yiji_jan26 num_hospital_total num_doctors_total num_firm_total pct_of_non_domestic_firm primary_emp_share_total secondary_emp_share_total tertiary_emp_share_total is_STEM_major is_BA is_MA is_PhD is_female rule_in_native_prov party_age work_age case_on_date gdp2018 case_per_10k second_ind third_ind sub_prov_ct age_feb20 tenure prov_leader_rank yiji_jan23 yiji_jan24 yiji_jan25 yiji_jan26 num_hospital_total num_doctors_total num_firm_total pct_of_non_domestic_firm primary_emp_share_total secondary_emp_share_total tertiary_emp_share_total is_STEM_major is_BA is_MA is_PhD is_female rule_in_native_prov party_age work_age "
   ]
  },
  {
   "cell_type": "code",
   "execution_count": null,
   "metadata": {},
   "outputs": [],
   "source": []
  },
  {
   "cell_type": "code",
   "execution_count": 44,
   "metadata": {},
   "outputs": [
    {
     "name": "stdout",
     "output_type": "stream",
     "text": [
      "\n",
      "      Source |       SS           df       MS      Number of obs   =       279\n",
      "-------------+----------------------------------   F(4, 274)       =      8.96\n",
      "       Model |  6.23255788         4  1.55813947   Prob > F        =    0.0000\n",
      "    Residual |  47.6670837       274  .173967459   R-squared       =    0.1156\n",
      "-------------+----------------------------------   Adj R-squared   =    0.1027\n",
      "       Total |  53.8996416       278  .193883603   Root MSE        =    .41709\n",
      "\n",
      "------------------------------------------------------------------------------\n",
      "locked_on_~e |      Coef.   Std. Err.      t    P>|t|     [95% Conf. Interval]\n",
      "-------------+----------------------------------------------------------------\n",
      "case_on_date |   .0022132   .0005926     3.73   0.000     .0010466    .0033798\n",
      "case_per_10k |  -.0933881   .2590512    -0.36   0.719    -.6033717    .4165955\n",
      "   age_feb20 |   .0308148    .010045     3.07   0.002     .0110395      .05059\n",
      "      tenure |  -.0306589   .0171987    -1.78   0.076    -.0645173    .0031994\n",
      "       _cons |  -1.450205   .5428128    -2.67   0.008    -2.518819   -.3815914\n",
      "------------------------------------------------------------------------------\n"
     ]
    }
   ],
   "source": [
    "reg locked_on_date case_on_date case_per_10k age_feb20  tenure"
   ]
  },
  {
   "cell_type": "code",
   "execution_count": 37,
   "metadata": {},
   "outputs": [
    {
     "name": "stdout",
     "output_type": "stream",
     "text": [
      "\n",
      "      Source |       SS           df       MS      Number of obs   =       279\n",
      "-------------+----------------------------------   F(1, 277)       =     28.17\n",
      "       Model |  4.97561032         1  4.97561032   Prob > F        =    0.0000\n",
      "    Residual |  48.9240313       277  .176621051   R-squared       =    0.0923\n",
      "-------------+----------------------------------   Adj R-squared   =    0.0890\n",
      "       Total |  53.8996416       278  .193883603   Root MSE        =    .42026\n",
      "\n",
      "------------------------------------------------------------------------------\n",
      "locked_on_~e |      Coef.   Std. Err.      t    P>|t|     [95% Conf. Interval]\n",
      "-------------+----------------------------------------------------------------\n",
      "case_on_date |   .0021925   .0004131     5.31   0.000     .0013793    .0030056\n",
      "       _cons |   .1745629   .0300377     5.81   0.000     .1154318     .233694\n",
      "------------------------------------------------------------------------------\n"
     ]
    }
   ],
   "source": [
    "reg locked_on_date case_on_date case_per_10k age_feb20  tenure"
   ]
  },
  {
   "cell_type": "markdown",
   "metadata": {},
   "source": [
    "# 变量分组输入"
   ]
  },
  {
   "cell_type": "markdown",
   "metadata": {},
   "source": [
    "dep: bdidx_avgdiff_holiday\n",
    "COVID: case_on_date case_per_10k\n",
    "cs_basic: age_feb20 tenure is_female\n",
    "cs_edu: is_STEM_major is_BA is_MA is_PhD\n",
    "ECON1: gdp2018 second_ind third_ind\n",
    "ECON2: pct_of_non_domestic_firm secondary_emp_share_total tertiary_emp_share_total\n",
    "医疗信息：num_hospital_total num_doctors_total"
   ]
  },
  {
   "cell_type": "markdown",
   "metadata": {},
   "source": [
    "### COVID + cs_basic"
   ]
  },
  {
   "cell_type": "code",
   "execution_count": 28,
   "metadata": {},
   "outputs": [
    {
     "name": "stdout",
     "output_type": "stream",
     "text": [
      "\n",
      "      Source |       SS           df       MS      Number of obs   =       279\n",
      "-------------+----------------------------------   F(5, 273)       =      7.78\n",
      "       Model |   6.7254054         5  1.34508108   Prob > F        =    0.0000\n",
      "    Residual |  47.1742362       273    .1727994   R-squared       =    0.1248\n",
      "-------------+----------------------------------   Adj R-squared   =    0.1087\n",
      "       Total |  53.8996416       278  .193883603   Root MSE        =    .41569\n",
      "\n",
      "------------------------------------------------------------------------------\n",
      "locked_on_~e |      Coef.   Std. Err.      t    P>|t|     [95% Conf. Interval]\n",
      "-------------+----------------------------------------------------------------\n",
      "case_on_date |    .002238   .0005592     4.00   0.000     .0011371    .0033388\n",
      "case_per_10k |  -.1043639   .2495607    -0.42   0.676     -.595672    .3869442\n",
      "   age_feb20 |    .030629   .0101328     3.02   0.003     .0106807    .0505773\n",
      "      tenure |  -.0296117   .0171603    -1.73   0.086     -.063395    .0041715\n",
      "   is_female |   .0341166    .136339     0.25   0.803    -.2342929    .3025261\n",
      "       _cons |  -1.447824     .54881    -2.64   0.009    -2.528262   -.3673863\n",
      "------------------------------------------------------------------------------\n"
     ]
    }
   ],
   "source": [
    "* COVID + cs_basic\n",
    "reg locked_on_date case_on_date case_per_10k age_feb20 tenure is_female"
   ]
  },
  {
   "cell_type": "code",
   "execution_count": 29,
   "metadata": {},
   "outputs": [
    {
     "name": "stdout",
     "output_type": "stream",
     "text": [
      "\n",
      "      Source |       SS           df       MS      Number of obs   =       279\n",
      "-------------+----------------------------------   F(5, 273)       =      9.59\n",
      "       Model |  13.5545857         5  2.71091713   Prob > F        =    0.0000\n",
      "    Residual |  77.2033051       273  .282795989   R-squared       =    0.1493\n",
      "-------------+----------------------------------   Adj R-squared   =    0.1338\n",
      "       Total |  90.7578907       278  .326467233   Root MSE        =    .53179\n",
      "\n",
      "------------------------------------------------------------------------------\n",
      "bdidx_avgd~y |      Coef.   Std. Err.      t    P>|t|     [95% Conf. Interval]\n",
      "-------------+----------------------------------------------------------------\n",
      "case_on_date |   .0022695   .0007153     3.17   0.002     .0008612    .0036778\n",
      "case_per_10k |   .6759851    .319258     2.12   0.035     .0474647    1.304506\n",
      "   age_feb20 |   .0183633   .0129626     1.42   0.158    -.0071561    .0438828\n",
      "      tenure |  -.0212894   .0219528    -0.97   0.333    -.0645076    .0219288\n",
      "   is_female |   .0294649   .1744158     0.17   0.866    -.3139059    .3728358\n",
      "       _cons |   .5988671   .7020815     0.85   0.394    -.7833149    1.981049\n",
      "------------------------------------------------------------------------------\n"
     ]
    }
   ],
   "source": [
    "* COVID + cs_basic\n",
    "reg bdidx_avgdiff_holiday case_on_date case_per_10k age_feb20 tenure is_female"
   ]
  },
  {
   "cell_type": "code",
   "execution_count": 31,
   "metadata": {},
   "outputs": [
    {
     "name": "stdout",
     "output_type": "stream",
     "text": [
      "\n",
      "      Source |       SS           df       MS      Number of obs   =       279\n",
      "-------------+----------------------------------   F(5, 273)       =      6.21\n",
      "       Model |  8.62554297         5  1.72510859   Prob > F        =    0.0000\n",
      "    Residual |   75.820443       273   .27773056   R-squared       =    0.1021\n",
      "-------------+----------------------------------   Adj R-squared   =    0.0857\n",
      "       Total |  84.4459859       278  .303762539   Root MSE        =      .527\n",
      "\n",
      "------------------------------------------------------------------------------\n",
      "bdidx_avgd~e |      Coef.   Std. Err.      t    P>|t|     [95% Conf. Interval]\n",
      "-------------+----------------------------------------------------------------\n",
      "case_on_date |   .0022253   .0007089     3.14   0.002     .0008297    .0036209\n",
      "case_per_10k |   .3502342   .3163858     1.11   0.269    -.2726318    .9731002\n",
      "   age_feb20 |   .0093975    .012846     0.73   0.465    -.0158923    .0346874\n",
      "      tenure |   .0174604   .0217553     0.80   0.423     -.025369    .0602898\n",
      "   is_female |   .0976019   .1728466     0.56   0.573    -.2426798    .4378836\n",
      "       _cons |   1.096017   .6957653     1.58   0.116    -.2737307    2.465764\n",
      "------------------------------------------------------------------------------\n"
     ]
    }
   ],
   "source": [
    "* COVID + cs_basic\n",
    "reg bdidx_avgdiff_date case_on_date case_per_10k age_feb20 tenure is_female"
   ]
  },
  {
   "cell_type": "markdown",
   "metadata": {},
   "source": [
    "### COVID + cs_basic"
   ]
  },
  {
   "cell_type": "code",
   "execution_count": null,
   "metadata": {},
   "outputs": [],
   "source": [
    "re"
   ]
  }
 ],
 "metadata": {
  "kernelspec": {
   "display_name": "Stata",
   "language": "stata",
   "name": "stata"
  },
  "language_info": {
   "codemirror_mode": "stata",
   "file_extension": ".do",
   "mimetype": "text/x-stata",
   "name": "stata",
   "version": "15.1"
  }
 },
 "nbformat": 4,
 "nbformat_minor": 4
}
