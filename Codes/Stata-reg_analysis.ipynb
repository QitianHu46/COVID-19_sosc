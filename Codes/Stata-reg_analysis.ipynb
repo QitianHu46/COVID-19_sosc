{
 "cells": [
  {
   "cell_type": "code",
   "execution_count": 1,
   "metadata": {},
   "outputs": [],
   "source": [
    "use \"/Users/qitianhu/Documents/Research/Explore/COVID-19_sosc/Data/feb_29_alldata.dta\""
   ]
  },
  {
   "cell_type": "code",
   "execution_count": 2,
   "metadata": {},
   "outputs": [
    {
     "name": "stdout",
     "output_type": "stream",
     "text": [
      "\n",
      "      Source |       SS           df       MS      Number of obs   =       279\n",
      "-------------+----------------------------------   F(1, 277)       =      0.76\n",
      "       Model |  .147372926         1  .147372926   Prob > F        =    0.3843\n",
      "    Residual |  53.7522687       277  .194051511   R-squared       =    0.0027\n",
      "-------------+----------------------------------   Adj R-squared   =   -0.0009\n",
      "       Total |  53.8996416       278  .193883603   Root MSE        =    .44051\n",
      "\n",
      "------------------------------------------------------------------------------\n",
      "locked_on_~e |      Coef.   Std. Err.      t    P>|t|     [95% Conf. Interval]\n",
      "-------------+----------------------------------------------------------------\n",
      "      tenure |  -.0149029   .0171009    -0.87   0.384    -.0485672    .0187614\n",
      "       _cons |   .2897986   .0417005     6.95   0.000     .2077085    .3718887\n",
      "------------------------------------------------------------------------------\n"
     ]
    }
   ],
   "source": [
    "reg locked_on_date tenure"
   ]
  },
  {
   "cell_type": "code",
   "execution_count": 4,
   "metadata": {},
   "outputs": [
    {
     "name": "stdout",
     "output_type": "stream",
     "text": [
      "\n",
      "note: yiji_jan26 != 0 predicts failure perfectly\n",
      "      yiji_jan26 dropped and 2 obs not used\n",
      "\n",
      "note: is_PhD omitted because of collinearity\n",
      "Iteration 0:   log likelihood = -159.75283  \n",
      "Iteration 1:   log likelihood = -121.25424  \n",
      "Iteration 2:   log likelihood = -116.13991  \n",
      "Iteration 3:   log likelihood = -115.69821  \n",
      "Iteration 4:   log likelihood = -115.67322  \n",
      "Iteration 5:   log likelihood = -115.66907  \n",
      "Iteration 6:   log likelihood = -115.66809  \n",
      "Iteration 7:   log likelihood = -115.66786  \n",
      "Iteration 8:   log likelihood = -115.66781  \n",
      "Iteration 9:   log likelihood =  -115.6678  \n",
      "\n",
      "Logistic regression                             Number of obs     =        277\n",
      "                                                LR chi2(22)       =      88.17\n",
      "                                                Prob > chi2       =     0.0000\n",
      "Log likelihood =  -115.6678                     Pseudo R2         =     0.2760\n",
      "\n",
      "-------------------------------------------------------------------------------\n",
      "locked_on_d~e |      Coef.   Std. Err.      z    P>|z|     [95% Conf. Interval]\n",
      "--------------+----------------------------------------------------------------\n",
      " case_on_date |   .0167218   .0054778     3.05   0.002     .0059856     .027458\n",
      "      gdp2018 |   4.30e-08   2.06e-08     2.09   0.037     2.70e-09    8.33e-08\n",
      " case_per_10k |  -1.801929   1.881568    -0.96   0.338    -5.489734    1.885876\n",
      "   second_ind |    .084335   .0408276     2.07   0.039     .0043143    .1643557\n",
      "    third_ind |   .0865933   .0434654     1.99   0.046     .0014027     .171784\n",
      "  sub_prov_ct |   -.418628   1.039116    -0.40   0.687    -2.455258    1.618002\n",
      "    age_feb20 |   .0432559   .1152482     0.38   0.707    -.1826264    .2691382\n",
      "       tenure |  -.0171139   .1220985    -0.14   0.889    -.2564226    .2221949\n",
      "prov_leader~k |   .0043654   .0082464     0.53   0.597    -.0117972     .020528\n",
      "   yiji_jan23 |   10.20872   991.5854     0.01   0.992    -1933.263     1953.68\n",
      "   yiji_jan24 |   14.42703   991.5847     0.01   0.988    -1929.043    1957.897\n",
      "   yiji_jan25 |   14.56588   991.5847     0.01   0.988    -1928.904    1958.036\n",
      "   yiji_jan26 |          0  (omitted)\n",
      "num_hospita~l |  -.0059285    .003582    -1.66   0.098    -.0129491    .0010921\n",
      "num_doctors~l |  -.0000117   .0000575    -0.20   0.839    -.0001245     .000101\n",
      "num_firm_to~l |  -.0000352   .0002253    -0.16   0.876    -.0004768    .0004064\n",
      "pct_of_non_~m |   .0494348   .0310196     1.59   0.111    -.0113625    .1102322\n",
      "is_STEM_major |   .0375387   .4284113     0.09   0.930     -.802132    .8772094\n",
      "        is_BA |    .073437   .5839959     0.13   0.900    -1.071174    1.218048\n",
      "        is_MA |   .6552678   .4774846     1.37   0.170    -.2805847     1.59112\n",
      "       is_PhD |          0  (omitted)\n",
      "rule_in_nat~v |   .0803631   .3732483     0.22   0.830    -.6511902    .8119164\n",
      "    party_age |  -.0088875   .0561512    -0.16   0.874    -.1189418    .1011668\n",
      "     work_age |   .0816349   .0651855     1.25   0.210    -.0461264    .2093962\n",
      "        _cons |  -29.52237   991.6027    -0.03   0.976    -1973.028    1913.983\n",
      "-------------------------------------------------------------------------------\n"
     ]
    }
   ],
   "source": [
    "logit locked_on_date case_on_date gdp2018 case_per_10k second_ind third_ind sub_prov_ct age_feb20 tenure prov_leader_rank yiji_jan23 yiji_jan24 yiji_jan25 yiji_jan26 num_hospital_total num_doctors_total num_firm_total pct_of_non_domestic_firm is_STEM_major is_BA is_MA is_PhD rule_in_native_prov party_age work_age\n"
   ]
  },
  {
   "cell_type": "code",
   "execution_count": 31,
   "metadata": {},
   "outputs": [
    {
     "name": "stdout",
     "output_type": "stream",
     "text": [
      "no observations\n"
     ]
    },
    {
     "name": "stderr",
     "output_type": "stream",
     "text": [
      "r(2000);\n"
     ]
    },
    {
     "name": "stdout",
     "output_type": "stream",
     "text": [
      "\n"
     ]
    }
   ],
   "source": [
    "reg num_hospital_total num_doctors_total"
   ]
  },
  {
   "cell_type": "code",
   "execution_count": null,
   "metadata": {},
   "outputs": [],
   "source": []
  }
 ],
 "metadata": {
  "kernelspec": {
   "display_name": "Stata",
   "language": "stata",
   "name": "stata"
  },
  "language_info": {
   "codemirror_mode": "stata",
   "file_extension": ".do",
   "mimetype": "text/x-stata",
   "name": "stata",
   "version": "15.1"
  }
 },
 "nbformat": 4,
 "nbformat_minor": 4
}
