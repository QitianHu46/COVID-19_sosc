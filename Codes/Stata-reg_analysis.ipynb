{
 "cells": [
  {
   "cell_type": "code",
   "execution_count": 16,
   "metadata": {},
   "outputs": [
    {
     "name": "stdout",
     "output_type": "stream",
     "text": [
      ". use \"/Users/qitianhu/Documents/Research/Explore/COVID-19_sosc/Data/每日确�\n",
      "> ��_市委书记信息_副省级_GDP_pop_产业结构_V1.dta\"\n"
     ]
    }
   ],
   "source": [
    "use \"/Users/qitianhu/Documents/Research/Explore/COVID-19_sosc/Data/每日确诊_市委书记信息_副省级_GDP_pop_产业结构_V1.dta\""
   ]
  },
  {
   "cell_type": "code",
   "execution_count": 21,
   "metadata": {},
   "outputs": [],
   "source": [
    "use \"/Users/qitianhu/Documents/Research/Explore/COVID-19_sosc/Data/test.dta\""
   ]
  },
  {
   "cell_type": "code",
   "execution_count": null,
   "metadata": {},
   "outputs": [],
   "source": []
  },
  {
   "cell_type": "code",
   "execution_count": 22,
   "metadata": {},
   "outputs": [
    {
     "name": "stdout",
     "output_type": "stream",
     "text": [
      "\n",
      "      Source |       SS           df       MS      Number of obs   =        19\n",
      "-------------+----------------------------------   F(1, 17)        =      2.09\n",
      "       Model |  .103618421         1  .103618421   Prob > F        =    0.1667\n",
      "    Residual |      .84375        17  .049632353   R-squared       =    0.1094\n",
      "-------------+----------------------------------   Adj R-squared   =    0.0570\n",
      "       Total |  .947368421        18  .052631579   Root MSE        =    .22278\n",
      "\n",
      "------------------------------------------------------------------------------\n",
      " locked_down |      Coef.   Std. Err.      t    P>|t|     [95% Conf. Interval]\n",
      "-------------+----------------------------------------------------------------\n",
      "      tenure |    -.09375   .0648836    -1.44   0.167    -.2306425    .0431425\n",
      "       _cons |       .625   .3994153     1.56   0.136    -.2176926    1.467693\n",
      "------------------------------------------------------------------------------\n"
     ]
    }
   ],
   "source": [
    "reg locked_down tenure"
   ]
  },
  {
   "cell_type": "code",
   "execution_count": null,
   "metadata": {},
   "outputs": [],
   "source": []
  }
 ],
 "metadata": {
  "kernelspec": {
   "display_name": "Stata",
   "language": "stata",
   "name": "stata"
  },
  "language_info": {
   "codemirror_mode": "stata",
   "file_extension": ".do",
   "mimetype": "text/x-stata",
   "name": "stata",
   "version": "15.1"
  }
 },
 "nbformat": 4,
 "nbformat_minor": 4
}
