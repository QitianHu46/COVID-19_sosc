{
 "cells": [
  {
   "cell_type": "markdown",
   "metadata": {},
   "source": [
    "## Dep: locked_on_date"
   ]
  },
  {
   "cell_type": "code",
   "execution_count": 19,
   "metadata": {},
   "outputs": [],
   "source": [
    "clear "
   ]
  },
  {
   "cell_type": "markdown",
   "metadata": {},
   "source": [
    "2月15号截止的，var少一些"
   ]
  },
  {
   "cell_type": "code",
   "execution_count": 1,
   "metadata": {},
   "outputs": [],
   "source": [
    "use \"/Users/qitianhu/Documents/Research/Explore/COVID-19_sosc/Data/2-15-22var_alldata.dta\""
   ]
  },
  {
   "cell_type": "markdown",
   "metadata": {},
   "source": [
    "2.29 -- var全的"
   ]
  },
  {
   "cell_type": "code",
   "execution_count": 82,
   "metadata": {},
   "outputs": [],
   "source": [
    "use \"/Users/qitianhu/Documents/Research/Explore/COVID-19_sosc/Data/feb_29_28var_alldata.dta\""
   ]
  },
  {
   "cell_type": "code",
   "execution_count": null,
   "metadata": {},
   "outputs": [],
   "source": []
  },
  {
   "cell_type": "code",
   "execution_count": 9,
   "metadata": {
    "collapsed": true,
    "jupyter": {
     "outputs_hidden": true
    }
   },
   "outputs": [
    {
     "name": "stdout",
     "output_type": "stream",
     "text": [
      "note: case_on_date omitted because of collinearity\n",
      "note: second_ind omitted because of collinearity\n",
      "note: yiji_jan23 omitted because of collinearity\n",
      "note: tertiary_emp_share_total omitted because of collinearity\n",
      "note: is_BA omitted because of collinearity\n",
      "note: gdp2018 omitted because of collinearity\n",
      "note: case_per_10k omitted because of collinearity\n",
      "note: third_ind omitted because of collinearity\n",
      "note: sub_prov_ct omitted because of collinearity\n",
      "note: age_feb20 omitted because of collinearity\n",
      "note: tenure omitted because of collinearity\n",
      "note: prov_leader_rank omitted because of collinearity\n",
      "note: yiji_jan24 omitted because of collinearity\n",
      "note: yiji_jan25 omitted because of collinearity\n",
      "note: yiji_jan26 omitted because of collinearity\n",
      "note: num_hospital_total omitted because of collinearity\n",
      "note: num_doctors_total omitted because of collinearity\n",
      "note: num_firm_total omitted because of collinearity\n",
      "note: pct_of_non_domestic_firm omitted because of collinearity\n",
      "note: primary_emp_share_total omitted because of collinearity\n",
      "note: secondary_emp_share_total omitted because of collinearity\n",
      "note: tertiary_emp_share_total omitted because of collinearity\n",
      "note: is_STEM_major omitted because of collinearity\n",
      "note: is_BA omitted because of collinearity\n",
      "note: is_MA omitted because of collinearity\n",
      "note: is_PhD omitted because of collinearity\n",
      "note: is_female omitted because of collinearity\n",
      "note: rule_in_native_prov omitted because of collinearity\n",
      "note: party_age omitted because of collinearity\n",
      "note: work_age omitted because of collinearity\n",
      "\n",
      "      Source |       SS           df       MS      Number of obs   =       271\n",
      "-------------+----------------------------------   F(26, 244)      =      9.34\n",
      "       Model |  44.0387056        26  1.69379637   Prob > F        =    0.0000\n",
      "    Residual |  44.2520118       244  .181360704   R-squared       =    0.4988\n",
      "-------------+----------------------------------   Adj R-squared   =    0.4454\n",
      "       Total |  88.2907174       270  .327002657   Root MSE        =    .42586\n",
      "\n",
      "-------------------------------------------------------------------------------\n",
      "bdidx_avgdi~y |      Coef.   Std. Err.      t    P>|t|     [95% Conf. Interval]\n",
      "--------------+----------------------------------------------------------------\n",
      " case_on_date |          0  (omitted)\n",
      "      gdp2018 |  -8.27e-09   2.30e-09    -3.59   0.000    -1.28e-08   -3.74e-09\n",
      " case_per_10k |   1.408815   .3075187     4.58   0.000     .8030854    2.014545\n",
      "   second_ind |          0  (omitted)\n",
      "    third_ind |   .0143002   .0058947     2.43   0.016     .0026892    .0259112\n",
      "  sub_prov_ct |   .1850405    .183969     1.01   0.315    -.1773296    .5474105\n",
      "    age_feb20 |   .0067865   .0174626     0.39   0.698    -.0276102    .0411831\n",
      "       tenure |   .0100584   .0198336     0.51   0.613    -.0290085    .0491252\n",
      "prov_leader~k |   .0005456   .0009937     0.55   0.583    -.0014117    .0025028\n",
      "   yiji_jan23 |          0  (omitted)\n",
      "   yiji_jan24 |   .5524646   .2207023     2.50   0.013     .1177398    .9871895\n",
      "   yiji_jan25 |   .8929964   .2170021     4.12   0.000     .4655599    1.320433\n",
      "   yiji_jan26 |   .8106038   .3656846     2.22   0.028     .0903024    1.530905\n",
      "num_hospita~l |  -.0015086   .0004408    -3.42   0.001    -.0023769   -.0006403\n",
      "num_doctors~l |   .0000441   8.04e-06     5.49   0.000     .0000283    .0000599\n",
      "num_firm_to~l |   .0000498   .0000346     1.44   0.152    -.0000184    .0001179\n",
      "pct_of_non_~m |  -.0107895   .0048158    -2.24   0.026    -.0202753   -.0013037\n",
      "primary_emp~l |    .008934   .0051267     1.74   0.083    -.0011642    .0190322\n",
      "secondary_e~l |   .0044049   .0027924     1.58   0.116    -.0010954    .0099051\n",
      "tertiary_em~l |          0  (omitted)\n",
      "is_STEM_major |  -.0335871   .0685761    -0.49   0.625    -.1686638    .1014895\n",
      "        is_BA |          0  (omitted)\n",
      "        is_MA |   .0199073   .0760635     0.26   0.794    -.1299176    .1697322\n",
      "       is_PhD |  -.0140285   .0892344    -0.16   0.875    -.1897966    .1617396\n",
      "    is_female |   .0340573   .1546702     0.22   0.826    -.2706018    .3387165\n",
      "rule_in_nat~v |   .0002276   .0575397     0.00   0.997    -.1131104    .1135656\n",
      "    party_age |  -.0099977   .0088202    -1.13   0.258    -.0273712    .0073758\n",
      "     work_age |   .0029312    .010447     0.28   0.779    -.0176466    .0235091\n",
      " case_on_date |   .0005937   .0008136     0.73   0.466    -.0010089    .0021963\n",
      "      gdp2018 |          0  (omitted)\n",
      " case_per_10k |          0  (omitted)\n",
      "   second_ind |   .0092355   .0059685     1.55   0.123    -.0025207    .0209918\n",
      "    third_ind |          0  (omitted)\n",
      "  sub_prov_ct |          0  (omitted)\n",
      "    age_feb20 |          0  (omitted)\n",
      "       tenure |          0  (omitted)\n",
      "prov_leader~k |          0  (omitted)\n",
      "   yiji_jan23 |   .2012788    .233725     0.86   0.390    -.2590974     .661655\n",
      "   yiji_jan24 |          0  (omitted)\n",
      "   yiji_jan25 |          0  (omitted)\n",
      "   yiji_jan26 |          0  (omitted)\n",
      "num_hospita~l |          0  (omitted)\n",
      "num_doctors~l |          0  (omitted)\n",
      "num_firm_to~l |          0  (omitted)\n",
      "pct_of_non_~m |          0  (omitted)\n",
      "primary_emp~l |          0  (omitted)\n",
      "secondary_e~l |          0  (omitted)\n",
      "tertiary_em~l |          0  (omitted)\n",
      "is_STEM_major |          0  (omitted)\n",
      "        is_BA |          0  (omitted)\n",
      "        is_MA |          0  (omitted)\n",
      "       is_PhD |          0  (omitted)\n",
      "    is_female |          0  (omitted)\n",
      "rule_in_nat~v |          0  (omitted)\n",
      "    party_age |          0  (omitted)\n",
      "     work_age |          0  (omitted)\n",
      "        _cons |  -.7609319   .9135744    -0.83   0.406     -2.56043    1.038567\n",
      "-------------------------------------------------------------------------------\n"
     ]
    }
   ],
   "source": [
    "reg bdidx_avgdiff_holiday case_on_date gdp2018 case_per_10k second_ind third_ind sub_prov_ct age_feb20 tenure prov_leader_rank yiji_jan23 yiji_jan24 yiji_jan25 yiji_jan26 num_hospital_total num_doctors_total num_firm_total pct_of_non_domestic_firm primary_emp_share_total secondary_emp_share_total tertiary_emp_share_total is_STEM_major is_BA is_MA is_PhD is_female rule_in_native_prov party_age work_age case_on_date gdp2018 case_per_10k second_ind third_ind sub_prov_ct age_feb20 tenure prov_leader_rank yiji_jan23 yiji_jan24 yiji_jan25 yiji_jan26 num_hospital_total num_doctors_total num_firm_total pct_of_non_domestic_firm primary_emp_share_total secondary_emp_share_total tertiary_emp_share_total is_STEM_major is_BA is_MA is_PhD is_female rule_in_native_prov party_age work_age "
   ]
  },
  {
   "cell_type": "markdown",
   "metadata": {},
   "source": [
    "# 变量分组输入"
   ]
  },
  {
   "cell_type": "markdown",
   "metadata": {},
   "source": [
    "dep: bdidx_avgdiff_holiday\n",
    "COVID: case_on_date case_per_10k\n",
    "cs_basic: age_feb20 tenure is_female\n",
    "cs_edu: is_STEM_major is_BA is_MA is_PhD\n",
    "ECON1: gdp2018 second_ind third_ind\n",
    "ECON2: pct_of_non_domestic_firm secondary_emp_share_total tertiary_emp_share_total\n",
    "医疗信息：num_hospital_total num_doctors_total"
   ]
  },
  {
   "cell_type": "markdown",
   "metadata": {},
   "source": [
    "### COVID + cs_basic"
   ]
  },
  {
   "cell_type": "code",
   "execution_count": 28,
   "metadata": {},
   "outputs": [
    {
     "name": "stdout",
     "output_type": "stream",
     "text": [
      "\n",
      "      Source |       SS           df       MS      Number of obs   =       279\n",
      "-------------+----------------------------------   F(5, 273)       =      7.78\n",
      "       Model |   6.7254054         5  1.34508108   Prob > F        =    0.0000\n",
      "    Residual |  47.1742362       273    .1727994   R-squared       =    0.1248\n",
      "-------------+----------------------------------   Adj R-squared   =    0.1087\n",
      "       Total |  53.8996416       278  .193883603   Root MSE        =    .41569\n",
      "\n",
      "------------------------------------------------------------------------------\n",
      "locked_on_~e |      Coef.   Std. Err.      t    P>|t|     [95% Conf. Interval]\n",
      "-------------+----------------------------------------------------------------\n",
      "case_on_date |    .002238   .0005592     4.00   0.000     .0011371    .0033388\n",
      "case_per_10k |  -.1043639   .2495607    -0.42   0.676     -.595672    .3869442\n",
      "   age_feb20 |    .030629   .0101328     3.02   0.003     .0106807    .0505773\n",
      "      tenure |  -.0296117   .0171603    -1.73   0.086     -.063395    .0041715\n",
      "   is_female |   .0341166    .136339     0.25   0.803    -.2342929    .3025261\n",
      "       _cons |  -1.447824     .54881    -2.64   0.009    -2.528262   -.3673863\n",
      "------------------------------------------------------------------------------\n"
     ]
    }
   ],
   "source": [
    "* COVID + cs_basic\n",
    "reg locked_on_date case_on_date case_per_10k age_feb20 tenure is_female"
   ]
  },
  {
   "cell_type": "code",
   "execution_count": 29,
   "metadata": {},
   "outputs": [
    {
     "name": "stdout",
     "output_type": "stream",
     "text": [
      "\n",
      "      Source |       SS           df       MS      Number of obs   =       279\n",
      "-------------+----------------------------------   F(5, 273)       =      9.59\n",
      "       Model |  13.5545857         5  2.71091713   Prob > F        =    0.0000\n",
      "    Residual |  77.2033051       273  .282795989   R-squared       =    0.1493\n",
      "-------------+----------------------------------   Adj R-squared   =    0.1338\n",
      "       Total |  90.7578907       278  .326467233   Root MSE        =    .53179\n",
      "\n",
      "------------------------------------------------------------------------------\n",
      "bdidx_avgd~y |      Coef.   Std. Err.      t    P>|t|     [95% Conf. Interval]\n",
      "-------------+----------------------------------------------------------------\n",
      "case_on_date |   .0022695   .0007153     3.17   0.002     .0008612    .0036778\n",
      "case_per_10k |   .6759851    .319258     2.12   0.035     .0474647    1.304506\n",
      "   age_feb20 |   .0183633   .0129626     1.42   0.158    -.0071561    .0438828\n",
      "      tenure |  -.0212894   .0219528    -0.97   0.333    -.0645076    .0219288\n",
      "   is_female |   .0294649   .1744158     0.17   0.866    -.3139059    .3728358\n",
      "       _cons |   .5988671   .7020815     0.85   0.394    -.7833149    1.981049\n",
      "------------------------------------------------------------------------------\n"
     ]
    }
   ],
   "source": [
    "* COVID + cs_basic\n",
    "reg bdidx_avgdiff_holiday case_on_date case_per_10k age_feb20 tenure is_female"
   ]
  },
  {
   "cell_type": "code",
   "execution_count": 31,
   "metadata": {},
   "outputs": [
    {
     "name": "stdout",
     "output_type": "stream",
     "text": [
      "\n",
      "      Source |       SS           df       MS      Number of obs   =       279\n",
      "-------------+----------------------------------   F(5, 273)       =      6.21\n",
      "       Model |  8.62554297         5  1.72510859   Prob > F        =    0.0000\n",
      "    Residual |   75.820443       273   .27773056   R-squared       =    0.1021\n",
      "-------------+----------------------------------   Adj R-squared   =    0.0857\n",
      "       Total |  84.4459859       278  .303762539   Root MSE        =      .527\n",
      "\n",
      "------------------------------------------------------------------------------\n",
      "bdidx_avgd~e |      Coef.   Std. Err.      t    P>|t|     [95% Conf. Interval]\n",
      "-------------+----------------------------------------------------------------\n",
      "case_on_date |   .0022253   .0007089     3.14   0.002     .0008297    .0036209\n",
      "case_per_10k |   .3502342   .3163858     1.11   0.269    -.2726318    .9731002\n",
      "   age_feb20 |   .0093975    .012846     0.73   0.465    -.0158923    .0346874\n",
      "      tenure |   .0174604   .0217553     0.80   0.423     -.025369    .0602898\n",
      "   is_female |   .0976019   .1728466     0.56   0.573    -.2426798    .4378836\n",
      "       _cons |   1.096017   .6957653     1.58   0.116    -.2737307    2.465764\n",
      "------------------------------------------------------------------------------\n"
     ]
    }
   ],
   "source": [
    "* COVID + cs_basic\n",
    "reg bdidx_avgdiff_date case_on_date case_per_10k age_feb20 tenure is_female"
   ]
  },
  {
   "cell_type": "markdown",
   "metadata": {},
   "source": [
    "### COVID + cs_basic"
   ]
  },
  {
   "cell_type": "code",
   "execution_count": null,
   "metadata": {},
   "outputs": [],
   "source": [
    "re"
   ]
  },
  {
   "cell_type": "code",
   "execution_count": null,
   "metadata": {},
   "outputs": [],
   "source": []
  },
  {
   "cell_type": "code",
   "execution_count": null,
   "metadata": {},
   "outputs": [],
   "source": []
  },
  {
   "cell_type": "code",
   "execution_count": null,
   "metadata": {},
   "outputs": [],
   "source": []
  },
  {
   "cell_type": "markdown",
   "metadata": {},
   "source": [
    "# Baseline + 别的变量"
   ]
  },
  {
   "cell_type": "code",
   "execution_count": null,
   "metadata": {},
   "outputs": [],
   "source": [
    "reg locked_on_date gdp2018 case_on_date"
   ]
  },
  {
   "cell_type": "markdown",
   "metadata": {},
   "source": [
    "用locked_on_date就比actual policy connotation更突显age"
   ]
  },
  {
   "cell_type": "code",
   "execution_count": 57,
   "metadata": {},
   "outputs": [
    {
     "name": "stdout",
     "output_type": "stream",
     "text": [
      "(15 missing values generated)\n"
     ]
    }
   ],
   "source": [
    "gen ln_case = ln(case_on_date)q"
   ]
  },
  {
   "cell_type": "code",
   "execution_count": 5,
   "metadata": {},
   "outputs": [
    {
     "name": "stdout",
     "output_type": "stream",
     "text": [
      "\n",
      "Contains data from /Users/qitianhu/Documents/Research/Explore/COVID-19_sosc/Data\n",
      "> /2-15-22var_alldata.dta\n",
      "  obs:           279                          \n",
      " vars:            29                          30 Aug 2020 18:09\n",
      " size:        54,684                          \n",
      "--------------------------------------------------------------------------------\n",
      "              storage   display    value\n",
      "variable name   type    format     label      variable label\n",
      "--------------------------------------------------------------------------------\n",
      "index           long    %12.0g                \n",
      "locked_on_date  long    %12.0g                \n",
      "bd_feb15avgdi~i double  %10.0g                \n",
      "bd_feb15avgdi~e double  %10.0g                \n",
      "bd_feb29avgdi~i double  %10.0g                \n",
      "bd_feb29avgdi~e double  %10.0g                \n",
      "popHR18_all     double  %10.0g                \n",
      "case_on_date    double  %10.0g                \n",
      "gdp2018         double  %10.0g                \n",
      "case_per_10k    double  %10.0g                \n",
      "second_ind      double  %10.0g                \n",
      "third_ind       double  %10.0g                \n",
      "age_feb20       long    %12.0g                \n",
      "tenure          long    %12.0g                \n",
      "prov_leader_r~k double  %10.0g                \n",
      "num_hospital_~l double  %10.0g                \n",
      "num_doctors_t~l double  %10.0g                \n",
      "num_firm_total  double  %10.0g                \n",
      "pct_of_non_do~m double  %10.0g                \n",
      "secondary_emp~l double  %10.0g                \n",
      "tertiary_emp_~l double  %10.0g                \n",
      "is_STEM_major   double  %10.0g                \n",
      "is_BA           long    %12.0g                \n",
      "is_MA           long    %12.0g                \n",
      "is_PhD          long    %12.0g                \n",
      "is_female       long    %12.0g                \n",
      "rule_in_nativ~v long    %12.0g                \n",
      "party_age       double  %10.0g                \n",
      "work_age        double  %10.0g                \n",
      "--------------------------------------------------------------------------------\n",
      "Sorted by: \n"
     ]
    }
   ],
   "source": [
    "desc"
   ]
  },
  {
   "cell_type": "code",
   "execution_count": 16,
   "metadata": {},
   "outputs": [],
   "source": [
    "gen gdp_percap = gdp2018 / popHR18_all"
   ]
  },
  {
   "cell_type": "code",
   "execution_count": 18,
   "metadata": {},
   "outputs": [
    {
     "name": "stdout",
     "output_type": "stream",
     "text": [
      "\n",
      "Linear regression                               Number of obs     =        279\n",
      "                                                F(6, 272)         =      10.10\n",
      "                                                Prob > F          =     0.0000\n",
      "                                                R-squared         =     0.1343\n",
      "                                                Root MSE          =     .41417\n",
      "\n",
      "-------------------------------------------------------------------------------\n",
      "              |               Robust\n",
      "locked_on_d~e |      Coef.   Std. Err.      t    P>|t|     [95% Conf. Interval]\n",
      "--------------+----------------------------------------------------------------\n",
      " case_on_date |   .0017165   .0004478     3.83   0.000     .0008349    .0025982\n",
      "   gdp_percap |   1.81e-07   6.68e-07     0.27   0.787    -1.14e-06    1.50e-06\n",
      "        is_MA |   .0688393   .0505988     1.36   0.175    -.0307758    .1684543\n",
      "pct_of_non_~m |   .0071902   .0038475     1.87   0.063    -.0003843    .0147648\n",
      "   second_ind |   .0110985   .0031952     3.47   0.001      .004808     .017389\n",
      "    third_ind |   .0112129   .0035752     3.14   0.002     .0041744    .0182514\n",
      "        _cons |  -.9485253    .288917    -3.28   0.001    -1.517323   -.3797275\n",
      "-------------------------------------------------------------------------------\n"
     ]
    }
   ],
   "source": [
    "reg locked_on_date case_on_date gdp2018 age_feb20 pct_of_non_domestic_firm second_ind third_ind , robust\n"
   ]
  },
  {
   "cell_type": "code",
   "execution_count": 72,
   "metadata": {},
   "outputs": [
    {
     "name": "stdout",
     "output_type": "stream",
     "text": [
      "dir : seeout\n"
     ]
    }
   ],
   "source": [
    "outreg2 using out, $optreg replace"
   ]
  },
  {
   "cell_type": "code",
   "execution_count": 56,
   "metadata": {},
   "outputs": [
    {
     "name": "stdout",
     "output_type": "stream",
     "text": [
      "\n",
      "      Source |       SS           df       MS      Number of obs   =       279\n",
      "-------------+----------------------------------   F(5, 273)       =      6.42\n",
      "       Model |  14.7643577         5  2.95287153   Prob > F        =    0.0000\n",
      "    Residual |  125.497054       273   .45969617   R-squared       =    0.1053\n",
      "-------------+----------------------------------   Adj R-squared   =    0.0889\n",
      "       Total |  140.261412       278  .504537454   Root MSE        =    .67801\n",
      "\n",
      "-------------------------------------------------------------------------------\n",
      "bd_feb15avg~i |      Coef.   Std. Err.      t    P>|t|     [95% Conf. Interval]\n",
      "--------------+----------------------------------------------------------------\n",
      " case_on_date |   .0032731   .0008995     3.64   0.000     .0015023    .0050439\n",
      "      gdp2018 |   1.51e-09   2.32e-09     0.65   0.516    -3.07e-09    6.09e-09\n",
      "    age_feb20 |   .0141453   .0156386     0.90   0.367    -.0166423    .0449328\n",
      "pct_of_non_~m |  -.0147844   .0058837    -2.51   0.013    -.0263676   -.0032012\n",
      "       is_PhD |  -.1114632   .0984758    -1.13   0.259    -.3053316    .0824052\n",
      "        _cons |   3.886149   .8643489     4.50   0.000     2.184512    5.587785\n",
      "-------------------------------------------------------------------------------\n"
     ]
    }
   ],
   "source": [
    "reg bd_feb15avgdif_holi case_on_date gdp2018 age_feb20 pct_of_non_domestic_firm second_ind third_ind is_PhD\n",
    "\n",
    "\n",
    "* case_per_10k second_ind third_ind sub_prov_ct age_feb20 tenure prov_leader_rank yiji_jan23 yiji_jan24 yiji_jan25 yiji_jan26 num_hospital_total num_doctors_total num_firm_total pct_of_non_domestic_firm primary_emp_share_total secondary_emp_share_total tertiary_emp_share_total is_STEM_major is_BA is_MA is_PhD is_female rule_in_native_prov party_age work_age case_on_date gdp2018 case_per_10k second_ind third_ind sub_prov_ct age_feb20 tenure prov_leader_rank yiji_jan23 yiji_jan24 yiji_jan25 yiji_jan26 num_hospital_total num_doctors_total num_firm_total pct_of_non_domestic_firm primary_emp_share_total secondary_emp_share_total tertiary_emp_share_total is_STEM_major is_BA is_MA is_PhD is_female rule_in_native_prov party_age work_age \n"
   ]
  },
  {
   "cell_type": "code",
   "execution_count": null,
   "metadata": {},
   "outputs": [],
   "source": []
  }
 ],
 "metadata": {
  "kernelspec": {
   "display_name": "Stata",
   "language": "stata",
   "name": "stata"
  },
  "language_info": {
   "codemirror_mode": "stata",
   "file_extension": ".do",
   "mimetype": "text/x-stata",
   "name": "stata",
   "version": "15.1"
  }
 },
 "nbformat": 4,
 "nbformat_minor": 4
}
