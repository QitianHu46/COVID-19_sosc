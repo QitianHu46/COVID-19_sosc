{
 "cells": [
  {
   "cell_type": "code",
   "execution_count": 16,
   "metadata": {},
   "outputs": [
    {
     "name": "stdout",
     "output_type": "stream",
     "text": [
      ". use \"/Users/qitianhu/Documents/Research/Explore/COVID-19_sosc/Data/每日确�\n",
      "> ��_市委书记信息_副省级_GDP_pop_产业结构_V1.dta\"\n"
     ]
    }
   ],
   "source": [
    "use \"/Users/qitianhu/Documents/Research/Explore/COVID-19_sosc/Data/每日确诊_市委书记信息_副省级_GDP_pop_产业结构_V1.dta\""
   ]
  },
  {
   "cell_type": "code",
   "execution_count": 18,
   "metadata": {},
   "outputs": [],
   "source": [
    "use \"/Users/qitianhu/Documents/Research/Explore/COVID-19_sosc/Data/data_2_29.dta\""
   ]
  },
  {
   "cell_type": "code",
   "execution_count": null,
   "metadata": {},
   "outputs": [],
   "source": []
  },
  {
   "cell_type": "code",
   "execution_count": 19,
   "metadata": {},
   "outputs": [
    {
     "name": "stdout",
     "output_type": "stream",
     "text": [
      "variable primary_ind not found\n"
     ]
    },
    {
     "name": "stderr",
     "output_type": "stream",
     "text": [
      "r(111);\n"
     ]
    },
    {
     "name": "stdout",
     "output_type": "stream",
     "text": [
      "\n"
     ]
    }
   ],
   "source": [
    "reg gdp2018 primary_ind"
   ]
  },
  {
   "cell_type": "code",
   "execution_count": null,
   "metadata": {},
   "outputs": [],
   "source": [
    "locked_on_date ~ case_on_date + gdp2018 Log_popHR18_all second_ind third_ind sub_prov_ct age_feb20 tenure"
   ]
  }
 ],
 "metadata": {
  "kernelspec": {
   "display_name": "Stata",
   "language": "stata",
   "name": "stata"
  },
  "language_info": {
   "codemirror_mode": "stata",
   "file_extension": ".do",
   "mimetype": "text/x-stata",
   "name": "stata",
   "version": "15.1"
  }
 },
 "nbformat": 4,
 "nbformat_minor": 4
}
