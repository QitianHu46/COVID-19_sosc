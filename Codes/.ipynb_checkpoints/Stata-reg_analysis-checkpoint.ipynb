{
 "cells": [
  {
   "cell_type": "markdown",
   "metadata": {},
   "source": [
    "## Dep: locked_on_date"
   ]
  },
  {
   "cell_type": "code",
   "execution_count": 16,
   "metadata": {},
   "outputs": [],
   "source": [
    "use \"/Users/qitianhu/Documents/Research/Explore/COVID-19_sosc/Data/2-15_22var_alldata.dta\""
   ]
  },
  {
   "cell_type": "markdown",
   "metadata": {},
   "source": [
    "总的"
   ]
  },
  {
   "cell_type": "code",
   "execution_count": 17,
   "metadata": {
    "collapsed": true,
    "jupyter": {
     "outputs_hidden": true
    }
   },
   "outputs": [
    {
     "name": "stdout",
     "output_type": "stream",
     "text": [
      "\n",
      "Contains data from /Users/qitianhu/Documents/Research/Explore/COVID-19_sosc/Data\n",
      "> /feb_29_28var_alldata.dta\n",
      "  obs:           279                          \n",
      " vars:            33                          30 Aug 2020 01:07\n",
      " size:        58,032                          \n",
      "--------------------------------------------------------------------------------\n",
      "              storage   display    value\n",
      "variable name   type    format     label      variable label\n",
      "--------------------------------------------------------------------------------\n",
      "index           long    %12.0g                \n",
      "locked_on_date  long    %12.0g                \n",
      "bdidx_avgdiff~y double  %10.0g                \n",
      "bdidx_avgdiff~e double  %10.0g                \n",
      "popHR18_all     double  %10.0g                \n",
      "case_on_date    double  %10.0g                \n",
      "gdp2018         double  %10.0g                \n",
      "case_per_10k    double  %10.0g                \n",
      "second_ind      double  %10.0g                \n",
      "third_ind       double  %10.0g                \n",
      "sub_prov_ct     long    %12.0g                \n",
      "age_feb20       long    %12.0g                \n",
      "tenure          long    %12.0g                \n",
      "prov_leader_r~k double  %10.0g                \n",
      "yiji_jan23      long    %12.0g                \n",
      "yiji_jan24      long    %12.0g                \n",
      "yiji_jan25      long    %12.0g                \n",
      "yiji_jan26      long    %12.0g                \n",
      "num_hospital_~l double  %10.0g                \n",
      "num_doctors_t~l double  %10.0g                \n",
      "num_firm_total  double  %10.0g                \n",
      "pct_of_non_do~m double  %10.0g                \n",
      "primary_emp_s~l double  %10.0g                \n",
      "secondary_emp~l double  %10.0g                \n",
      "tertiary_emp_~l double  %10.0g                \n",
      "is_STEM_major   double  %10.0g                \n",
      "is_BA           long    %12.0g                \n",
      "is_MA           long    %12.0g                \n",
      "is_PhD          long    %12.0g                \n",
      "is_female       long    %12.0g                \n",
      "rule_in_nativ~v long    %12.0g                \n",
      "party_age       double  %10.0g                \n",
      "work_age        double  %10.0g                \n",
      "--------------------------------------------------------------------------------\n",
      "Sorted by: \n"
     ]
    }
   ],
   "source": [
    "desc"
   ]
  },
  {
   "cell_type": "markdown",
   "metadata": {},
   "source": [
    "### 减少variables"
   ]
  },
  {
   "cell_type": "code",
   "execution_count": 6,
   "metadata": {
    "collapsed": true,
    "jupyter": {
     "outputs_hidden": true
    }
   },
   "outputs": [
    {
     "name": "stdout",
     "output_type": "stream",
     "text": [
      "note: case_on_date omitted because of collinearity\n",
      "note: second_ind omitted because of collinearity\n",
      "note: yiji_jan23 omitted because of collinearity\n",
      "note: tertiary_emp_share_total omitted because of collinearity\n",
      "note: is_BA omitted because of collinearity\n",
      "note: gdp2018 omitted because of collinearity\n",
      "note: case_per_10k omitted because of collinearity\n",
      "note: third_ind omitted because of collinearity\n",
      "note: sub_prov_ct omitted because of collinearity\n",
      "note: age_feb20 omitted because of collinearity\n",
      "note: tenure omitted because of collinearity\n",
      "note: prov_leader_rank omitted because of collinearity\n",
      "note: yiji_jan24 omitted because of collinearity\n",
      "note: yiji_jan25 omitted because of collinearity\n",
      "note: yiji_jan26 omitted because of collinearity\n",
      "note: num_hospital_total omitted because of collinearity\n",
      "note: num_doctors_total omitted because of collinearity\n",
      "note: num_firm_total omitted because of collinearity\n",
      "note: pct_of_non_domestic_firm omitted because of collinearity\n",
      "note: primary_emp_share_total omitted because of collinearity\n",
      "note: secondary_emp_share_total omitted because of collinearity\n",
      "note: tertiary_emp_share_total omitted because of collinearity\n",
      "note: is_STEM_major omitted because of collinearity\n",
      "note: is_BA omitted because of collinearity\n",
      "note: is_MA omitted because of collinearity\n",
      "note: is_PhD omitted because of collinearity\n",
      "note: is_female omitted because of collinearity\n",
      "note: rule_in_native_prov omitted because of collinearity\n",
      "note: party_age omitted because of collinearity\n",
      "note: work_age omitted because of collinearity\n",
      "\n",
      "      Source |       SS           df       MS      Number of obs   =       271\n",
      "-------------+----------------------------------   F(26, 244)      =      3.46\n",
      "       Model |  14.3627583        26  .552413782   Prob > F        =    0.0000\n",
      "    Residual |   38.973035       244  .159725553   R-squared       =    0.2693\n",
      "-------------+----------------------------------   Adj R-squared   =    0.1914\n",
      "       Total |  53.3357934       270  .197539975   Root MSE        =    .39966\n",
      "\n",
      "-------------------------------------------------------------------------------\n",
      "locked_on_d~e |      Coef.   Std. Err.      t    P>|t|     [95% Conf. Interval]\n",
      "--------------+----------------------------------------------------------------\n",
      " case_on_date |          0  (omitted)\n",
      "      gdp2018 |   1.93e-09   2.16e-09     0.89   0.372    -2.33e-09    6.19e-09\n",
      " case_per_10k |  -.3501073   .2885938    -1.21   0.226    -.9185604    .2183458\n",
      "   second_ind |          0  (omitted)\n",
      "    third_ind |   .0125565   .0055319     2.27   0.024     .0016601     .023453\n",
      "  sub_prov_ct |   .0254032   .1726475     0.15   0.883    -.3146665    .3654728\n",
      "    age_feb20 |   .0024007   .0163879     0.15   0.884    -.0298791    .0346806\n",
      "       tenure |  -.0033425    .018613    -0.18   0.858    -.0400052    .0333202\n",
      "prov_leader~k |   -.000041   .0009325    -0.04   0.965    -.0018778    .0017958\n",
      "   yiji_jan23 |          0  (omitted)\n",
      "   yiji_jan24 |   .3618987   .2071202     1.75   0.082    -.0460731    .7698704\n",
      "   yiji_jan25 |   .3656495   .2036478     1.80   0.074    -.0354824    .7667814\n",
      "   yiji_jan26 |    .153134   .3431802     0.45   0.656    -.5228398    .8291078\n",
      "num_hospita~l |   -.000575   .0004137    -1.39   0.166    -.0013899    .0002399\n",
      "num_doctors~l |   3.26e-06   7.54e-06     0.43   0.667    -.0000116    .0000181\n",
      "num_firm_to~l |   5.53e-06   .0000325     0.17   0.865    -.0000584    .0000695\n",
      "pct_of_non_~m |   .0088915   .0045194     1.97   0.050    -.0000105    .0177936\n",
      "primary_emp~l |   .0057194   .0048112     1.19   0.236    -.0037573    .0151962\n",
      "secondary_e~l |  -.0010758   .0026205    -0.41   0.682    -.0062376     .004086\n",
      "tertiary_em~l |          0  (omitted)\n",
      "is_STEM_major |   .0002934   .0643559     0.00   0.996    -.1264706    .1270574\n",
      "        is_BA |          0  (omitted)\n",
      "        is_MA |   .0838097   .0713825     1.17   0.242    -.0567949    .2244143\n",
      "       is_PhD |   .0137706   .0837429     0.16   0.870    -.1511806    .1787219\n",
      "    is_female |   .0805014   .1451517     0.55   0.580    -.2054089    .3664117\n",
      "rule_in_nat~v |  -.0040964   .0539987    -0.08   0.940    -.1104595    .1022667\n",
      "    party_age |  -.0001834   .0082774    -0.02   0.982    -.0164877    .0161209\n",
      "     work_age |   .0153668   .0098041     1.57   0.118    -.0039447    .0346783\n",
      " case_on_date |   .0023187   .0007635     3.04   0.003     .0008147    .0038226\n",
      "      gdp2018 |          0  (omitted)\n",
      " case_per_10k |          0  (omitted)\n",
      "   second_ind |   .0128998   .0056012     2.30   0.022      .001867    .0239325\n",
      "    third_ind |          0  (omitted)\n",
      "  sub_prov_ct |          0  (omitted)\n",
      "    age_feb20 |          0  (omitted)\n",
      "       tenure |          0  (omitted)\n",
      "prov_leader~k |          0  (omitted)\n",
      "   yiji_jan23 |   .0336319   .2193415     0.15   0.878    -.3984125    .4656764\n",
      "   yiji_jan24 |          0  (omitted)\n",
      "   yiji_jan25 |          0  (omitted)\n",
      "   yiji_jan26 |          0  (omitted)\n",
      "num_hospita~l |          0  (omitted)\n",
      "num_doctors~l |          0  (omitted)\n",
      "num_firm_to~l |          0  (omitted)\n",
      "pct_of_non_~m |          0  (omitted)\n",
      "primary_emp~l |          0  (omitted)\n",
      "secondary_e~l |          0  (omitted)\n",
      "tertiary_em~l |          0  (omitted)\n",
      "is_STEM_major |          0  (omitted)\n",
      "        is_BA |          0  (omitted)\n",
      "        is_MA |          0  (omitted)\n",
      "       is_PhD |          0  (omitted)\n",
      "    is_female |          0  (omitted)\n",
      "rule_in_nat~v |          0  (omitted)\n",
      "    party_age |          0  (omitted)\n",
      "     work_age |          0  (omitted)\n",
      "        _cons |  -2.015307   .8573527    -2.35   0.020    -3.704063   -.3265498\n",
      "-------------------------------------------------------------------------------\n"
     ]
    }
   ],
   "source": [
    "reg locked_on_date case_on_date gdp2018 case_per_10k second_ind third_ind sub_prov_ct age_feb20 tenure prov_leader_rank yiji_jan23 yiji_jan24 yiji_jan25 yiji_jan26 num_hospital_total num_doctors_total num_firm_total pct_of_non_domestic_firm primary_emp_share_total secondary_emp_share_total tertiary_emp_share_total is_STEM_major is_BA is_MA is_PhD is_female rule_in_native_prov party_age work_age case_on_date gdp2018 case_per_10k second_ind third_ind sub_prov_ct age_feb20 tenure prov_leader_rank yiji_jan23 yiji_jan24 yiji_jan25 yiji_jan26 num_hospital_total num_doctors_total num_firm_total pct_of_non_domestic_firm primary_emp_share_total secondary_emp_share_total tertiary_emp_share_total is_STEM_major is_BA is_MA is_PhD is_female rule_in_native_prov party_age work_age \n"
   ]
  },
  {
   "cell_type": "code",
   "execution_count": 18,
   "metadata": {
    "collapsed": true,
    "jupyter": {
     "outputs_hidden": true
    }
   },
   "outputs": [
    {
     "name": "stdout",
     "output_type": "stream",
     "text": [
      "note: case_per_10k omitted because of collinearity\n",
      "note: tertiary_emp_share_total omitted because of collinearity\n",
      "note: is_PhD omitted because of collinearity\n",
      "note: case_on_date omitted because of collinearity\n",
      "note: gdp2018 omitted because of collinearity\n",
      "note: second_ind omitted because of collinearity\n",
      "note: third_ind omitted because of collinearity\n",
      "note: age_feb20 omitted because of collinearity\n",
      "note: tenure omitted because of collinearity\n",
      "note: prov_leader_rank omitted because of collinearity\n",
      "note: num_hospital_total omitted because of collinearity\n",
      "note: num_doctors_total omitted because of collinearity\n",
      "note: num_firm_total omitted because of collinearity\n",
      "note: pct_of_non_domestic_firm omitted because of collinearity\n",
      "note: primary_emp_share_total omitted because of collinearity\n",
      "note: secondary_emp_share_total omitted because of collinearity\n",
      "note: tertiary_emp_share_total omitted because of collinearity\n",
      "note: is_STEM_major omitted because of collinearity\n",
      "note: is_BA omitted because of collinearity\n",
      "note: is_MA omitted because of collinearity\n",
      "note: is_PhD omitted because of collinearity\n",
      "note: is_female omitted because of collinearity\n",
      "note: rule_in_native_prov omitted because of collinearity\n",
      "note: party_age omitted because of collinearity\n",
      "note: work_age omitted because of collinearity\n",
      "\n",
      "Linear regression                               Number of obs     =        279\n",
      "                                                F(27, 251)        =      13.04\n",
      "                                                Prob > F          =     0.0000\n",
      "                                                R-squared         =     0.5087\n",
      "                                                Root MSE          =     .42147\n",
      "\n",
      "-------------------------------------------------------------------------------\n",
      "              |               Robust\n",
      "bdidx_avgdi~y |      Coef.   Std. Err.      t    P>|t|     [95% Conf. Interval]\n",
      "--------------+----------------------------------------------------------------\n",
      " case_on_date |   .0008643   .0013946     0.62   0.536    -.0018824     .003611\n",
      "      gdp2018 |  -9.74e-09   3.33e-09    -2.92   0.004    -1.63e-08   -3.17e-09\n",
      " case_per_10k |          0  (omitted)\n",
      "  popHR18_all |   -.000214   .0002727    -0.78   0.433     -.000751    .0003231\n",
      "   second_ind |   .0081097   .0060607     1.34   0.182    -.0038266    .0200459\n",
      "    third_ind |   .0128664   .0057755     2.23   0.027     .0014918     .024241\n",
      "    age_feb20 |   .0108351   .0161366     0.67   0.503    -.0209453    .0426156\n",
      "       tenure |   .0149773   .0181375     0.83   0.410    -.0207437    .0506983\n",
      "prov_leader~k |   .0007848   .0009777     0.80   0.423    -.0011407    .0027103\n",
      "   yiji_jan23 |   .2007891   .1739311     1.15   0.249    -.1417613    .5433396\n",
      "   yiji_jan24 |   .5762015   .1599675     3.60   0.000     .2611518    .8912512\n",
      "   yiji_jan25 |   .9122664   .1622527     5.62   0.000     .5927162    1.231817\n",
      "   yiji_jan26 |   .8116872   .1696582     4.78   0.000      .477552    1.145822\n",
      "num_hospita~l |  -.0014884   .0004068    -3.66   0.000    -.0022896   -.0006872\n",
      "num_doctors~l |   .0000511   .0000109     4.69   0.000     .0000296    .0000725\n",
      "num_firm_to~l |   .0000564   .0000302     1.87   0.063    -3.03e-06    .0001159\n",
      "pct_of_non_~m |  -.0112147   .0044311    -2.53   0.012    -.0199415   -.0024878\n",
      "primary_emp~l |   .0091866   .0033772     2.72   0.007     .0025354    .0158378\n",
      "secondary_e~l |   .0046016   .0031281     1.47   0.143     -.001559    .0107622\n",
      "tertiary_em~l |          0  (omitted)\n",
      "is_STEM_major |   -.041544   .0669202    -0.62   0.535    -.1733408    .0902527\n",
      "        is_BA |   .0076911   .0909331     0.08   0.933     -.171398    .1867803\n",
      "        is_MA |   .0335421   .0711614     0.47   0.638    -.1066073    .1736916\n",
      "       is_PhD |          0  (omitted)\n",
      "    is_female |   .0493182   .1409558     0.35   0.727    -.2282887     .326925\n",
      "rule_in_nat~v |  -.0002808   .0579976    -0.00   0.996    -.1145047    .1139431\n",
      "    party_age |  -.0101249   .0099719    -1.02   0.311    -.0297641    .0095144\n",
      "     work_age |   .0009343   .0097911     0.10   0.924    -.0183488    .0202174\n",
      " case_on_date |          0  (omitted)\n",
      "      gdp2018 |          0  (omitted)\n",
      " case_per_10k |   1.334084   .4205281     3.17   0.002     .5058706    2.162297\n",
      "   second_ind |          0  (omitted)\n",
      "    third_ind |          0  (omitted)\n",
      "  sub_prov_ct |   .2015878   .1300523     1.55   0.122    -.0545451    .4577208\n",
      "    age_feb20 |          0  (omitted)\n",
      "       tenure |          0  (omitted)\n",
      "prov_leader~k |          0  (omitted)\n",
      "num_hospita~l |          0  (omitted)\n",
      "num_doctors~l |          0  (omitted)\n",
      "num_firm_to~l |          0  (omitted)\n",
      "pct_of_non_~m |          0  (omitted)\n",
      "primary_emp~l |          0  (omitted)\n",
      "secondary_e~l |          0  (omitted)\n",
      "tertiary_em~l |          0  (omitted)\n",
      "is_STEM_major |          0  (omitted)\n",
      "        is_BA |          0  (omitted)\n",
      "        is_MA |          0  (omitted)\n",
      "       is_PhD |          0  (omitted)\n",
      "    is_female |          0  (omitted)\n",
      "rule_in_nat~v |          0  (omitted)\n",
      "    party_age |          0  (omitted)\n",
      "     work_age |          0  (omitted)\n",
      "        _cons |  -.8179669   .8443348    -0.97   0.334    -2.480851    .8449169\n",
      "-------------------------------------------------------------------------------\n"
     ]
    }
   ],
   "source": [
    "* delete irrelevant stuff:  yiji_jan23 yiji_jan24 yiji_jan25 yiji_jan26 sub_prov_ct\n",
    "\n",
    "reg bdidx_avgdiff~y case_on_date gdp2018 case_per_10k popHR18_all second_ind third_ind  age_feb20 tenure prov_leader_rank yiji_jan23 yiji_jan24 yiji_jan25 yiji_jan26 num_hospital_total num_doctors_total num_firm_total pct_of_non_domestic_firm primary_emp_share_total secondary_emp_share_total tertiary_emp_share_total is_STEM_major is_BA is_MA is_PhD is_female rule_in_native_prov party_age work_age case_on_date gdp2018 case_per_10k second_ind third_ind sub_prov_ct age_feb20 tenure prov_leader_rank num_hospital_total num_doctors_total num_firm_total pct_of_non_domestic_firm primary_emp_share_total secondary_emp_share_total tertiary_emp_share_total is_STEM_major is_BA is_MA is_PhD is_female rule_in_native_prov party_age work_age, r\n"
   ]
  },
  {
   "cell_type": "code",
   "execution_count": null,
   "metadata": {},
   "outputs": [],
   "source": []
  },
  {
   "cell_type": "code",
   "execution_count": null,
   "metadata": {},
   "outputs": [],
   "source": []
  },
  {
   "cell_type": "code",
   "execution_count": null,
   "metadata": {},
   "outputs": [],
   "source": []
  },
  {
   "cell_type": "raw",
   "metadata": {},
   "source": [
    "logit locked_on_date case_on_date gdp2018 case_per_10k second_ind third_ind sub_prov_ct age_feb20 tenure prov_leader_rank yiji_jan23 yiji_jan24 yiji_jan25 yiji_jan26 num_hospital_total num_doctors_total num_firm_total pct_of_non_domestic_firm primary_emp_share_total secondary_emp_share_total tertiary_emp_share_total is_STEM_major is_BA is_MA is_PhD is_female rule_in_native_prov party_age work_age case_on_date gdp2018 case_per_10k second_ind third_ind sub_prov_ct age_feb20 tenure prov_leader_rank yiji_jan23 yiji_jan24 yiji_jan25 yiji_jan26 num_hospital_total num_doctors_total num_firm_total pct_of_non_domestic_firm primary_emp_share_total secondary_emp_share_total tertiary_emp_share_total is_STEM_major is_BA is_MA is_PhD is_female rule_in_native_prov party_age work_age "
   ]
  },
  {
   "cell_type": "code",
   "execution_count": null,
   "metadata": {},
   "outputs": [],
   "source": []
  },
  {
   "cell_type": "code",
   "execution_count": null,
   "metadata": {},
   "outputs": [],
   "source": []
  },
  {
   "cell_type": "markdown",
   "metadata": {},
   "source": [
    "## Dep: Baidu Index: Holiday"
   ]
  },
  {
   "cell_type": "code",
   "execution_count": 9,
   "metadata": {},
   "outputs": [
    {
     "name": "stdout",
     "output_type": "stream",
     "text": [
      "note: case_on_date omitted because of collinearity\n",
      "note: second_ind omitted because of collinearity\n",
      "note: yiji_jan23 omitted because of collinearity\n",
      "note: tertiary_emp_share_total omitted because of collinearity\n",
      "note: is_BA omitted because of collinearity\n",
      "note: gdp2018 omitted because of collinearity\n",
      "note: case_per_10k omitted because of collinearity\n",
      "note: third_ind omitted because of collinearity\n",
      "note: sub_prov_ct omitted because of collinearity\n",
      "note: age_feb20 omitted because of collinearity\n",
      "note: tenure omitted because of collinearity\n",
      "note: prov_leader_rank omitted because of collinearity\n",
      "note: yiji_jan24 omitted because of collinearity\n",
      "note: yiji_jan25 omitted because of collinearity\n",
      "note: yiji_jan26 omitted because of collinearity\n",
      "note: num_hospital_total omitted because of collinearity\n",
      "note: num_doctors_total omitted because of collinearity\n",
      "note: num_firm_total omitted because of collinearity\n",
      "note: pct_of_non_domestic_firm omitted because of collinearity\n",
      "note: primary_emp_share_total omitted because of collinearity\n",
      "note: secondary_emp_share_total omitted because of collinearity\n",
      "note: tertiary_emp_share_total omitted because of collinearity\n",
      "note: is_STEM_major omitted because of collinearity\n",
      "note: is_BA omitted because of collinearity\n",
      "note: is_MA omitted because of collinearity\n",
      "note: is_PhD omitted because of collinearity\n",
      "note: is_female omitted because of collinearity\n",
      "note: rule_in_native_prov omitted because of collinearity\n",
      "note: party_age omitted because of collinearity\n",
      "note: work_age omitted because of collinearity\n",
      "\n",
      "      Source |       SS           df       MS      Number of obs   =       271\n",
      "-------------+----------------------------------   F(26, 244)      =      9.34\n",
      "       Model |  44.0387056        26  1.69379637   Prob > F        =    0.0000\n",
      "    Residual |  44.2520118       244  .181360704   R-squared       =    0.4988\n",
      "-------------+----------------------------------   Adj R-squared   =    0.4454\n",
      "       Total |  88.2907174       270  .327002657   Root MSE        =    .42586\n",
      "\n",
      "-------------------------------------------------------------------------------\n",
      "bdidx_avgdi~y |      Coef.   Std. Err.      t    P>|t|     [95% Conf. Interval]\n",
      "--------------+----------------------------------------------------------------\n",
      " case_on_date |          0  (omitted)\n",
      "      gdp2018 |  -8.27e-09   2.30e-09    -3.59   0.000    -1.28e-08   -3.74e-09\n",
      " case_per_10k |   1.408815   .3075187     4.58   0.000     .8030854    2.014545\n",
      "   second_ind |          0  (omitted)\n",
      "    third_ind |   .0143002   .0058947     2.43   0.016     .0026892    .0259112\n",
      "  sub_prov_ct |   .1850405    .183969     1.01   0.315    -.1773296    .5474105\n",
      "    age_feb20 |   .0067865   .0174626     0.39   0.698    -.0276102    .0411831\n",
      "       tenure |   .0100584   .0198336     0.51   0.613    -.0290085    .0491252\n",
      "prov_leader~k |   .0005456   .0009937     0.55   0.583    -.0014117    .0025028\n",
      "   yiji_jan23 |          0  (omitted)\n",
      "   yiji_jan24 |   .5524646   .2207023     2.50   0.013     .1177398    .9871895\n",
      "   yiji_jan25 |   .8929964   .2170021     4.12   0.000     .4655599    1.320433\n",
      "   yiji_jan26 |   .8106038   .3656846     2.22   0.028     .0903024    1.530905\n",
      "num_hospita~l |  -.0015086   .0004408    -3.42   0.001    -.0023769   -.0006403\n",
      "num_doctors~l |   .0000441   8.04e-06     5.49   0.000     .0000283    .0000599\n",
      "num_firm_to~l |   .0000498   .0000346     1.44   0.152    -.0000184    .0001179\n",
      "pct_of_non_~m |  -.0107895   .0048158    -2.24   0.026    -.0202753   -.0013037\n",
      "primary_emp~l |    .008934   .0051267     1.74   0.083    -.0011642    .0190322\n",
      "secondary_e~l |   .0044049   .0027924     1.58   0.116    -.0010954    .0099051\n",
      "tertiary_em~l |          0  (omitted)\n",
      "is_STEM_major |  -.0335871   .0685761    -0.49   0.625    -.1686638    .1014895\n",
      "        is_BA |          0  (omitted)\n",
      "        is_MA |   .0199073   .0760635     0.26   0.794    -.1299176    .1697322\n",
      "       is_PhD |  -.0140285   .0892344    -0.16   0.875    -.1897966    .1617396\n",
      "    is_female |   .0340573   .1546702     0.22   0.826    -.2706018    .3387165\n",
      "rule_in_nat~v |   .0002276   .0575397     0.00   0.997    -.1131104    .1135656\n",
      "    party_age |  -.0099977   .0088202    -1.13   0.258    -.0273712    .0073758\n",
      "     work_age |   .0029312    .010447     0.28   0.779    -.0176466    .0235091\n",
      " case_on_date |   .0005937   .0008136     0.73   0.466    -.0010089    .0021963\n",
      "      gdp2018 |          0  (omitted)\n",
      " case_per_10k |          0  (omitted)\n",
      "   second_ind |   .0092355   .0059685     1.55   0.123    -.0025207    .0209918\n",
      "    third_ind |          0  (omitted)\n",
      "  sub_prov_ct |          0  (omitted)\n",
      "    age_feb20 |          0  (omitted)\n",
      "       tenure |          0  (omitted)\n",
      "prov_leader~k |          0  (omitted)\n",
      "   yiji_jan23 |   .2012788    .233725     0.86   0.390    -.2590974     .661655\n",
      "   yiji_jan24 |          0  (omitted)\n",
      "   yiji_jan25 |          0  (omitted)\n",
      "   yiji_jan26 |          0  (omitted)\n",
      "num_hospita~l |          0  (omitted)\n",
      "num_doctors~l |          0  (omitted)\n",
      "num_firm_to~l |          0  (omitted)\n",
      "pct_of_non_~m |          0  (omitted)\n",
      "primary_emp~l |          0  (omitted)\n",
      "secondary_e~l |          0  (omitted)\n",
      "tertiary_em~l |          0  (omitted)\n",
      "is_STEM_major |          0  (omitted)\n",
      "        is_BA |          0  (omitted)\n",
      "        is_MA |          0  (omitted)\n",
      "       is_PhD |          0  (omitted)\n",
      "    is_female |          0  (omitted)\n",
      "rule_in_nat~v |          0  (omitted)\n",
      "    party_age |          0  (omitted)\n",
      "     work_age |          0  (omitted)\n",
      "        _cons |  -.7609319   .9135744    -0.83   0.406     -2.56043    1.038567\n",
      "-------------------------------------------------------------------------------\n"
     ]
    }
   ],
   "source": [
    "reg bdidx_avgdiff_holiday case_on_date gdp2018 case_per_10k second_ind third_ind sub_prov_ct age_feb20 tenure prov_leader_rank yiji_jan23 yiji_jan24 yiji_jan25 yiji_jan26 num_hospital_total num_doctors_total num_firm_total pct_of_non_domestic_firm primary_emp_share_total secondary_emp_share_total tertiary_emp_share_total is_STEM_major is_BA is_MA is_PhD is_female rule_in_native_prov party_age work_age case_on_date gdp2018 case_per_10k second_ind third_ind sub_prov_ct age_feb20 tenure prov_leader_rank yiji_jan23 yiji_jan24 yiji_jan25 yiji_jan26 num_hospital_total num_doctors_total num_firm_total pct_of_non_domestic_firm primary_emp_share_total secondary_emp_share_total tertiary_emp_share_total is_STEM_major is_BA is_MA is_PhD is_female rule_in_native_prov party_age work_age "
   ]
  },
  {
   "cell_type": "code",
   "execution_count": 37,
   "metadata": {},
   "outputs": [
    {
     "name": "stdout",
     "output_type": "stream",
     "text": [
      "\n",
      "      Source |       SS           df       MS      Number of obs   =       279\n",
      "-------------+----------------------------------   F(1, 277)       =     28.17\n",
      "       Model |  4.97561032         1  4.97561032   Prob > F        =    0.0000\n",
      "    Residual |  48.9240313       277  .176621051   R-squared       =    0.0923\n",
      "-------------+----------------------------------   Adj R-squared   =    0.0890\n",
      "       Total |  53.8996416       278  .193883603   Root MSE        =    .42026\n",
      "\n",
      "------------------------------------------------------------------------------\n",
      "locked_on_~e |      Coef.   Std. Err.      t    P>|t|     [95% Conf. Interval]\n",
      "-------------+----------------------------------------------------------------\n",
      "case_on_date |   .0021925   .0004131     5.31   0.000     .0013793    .0030056\n",
      "       _cons |   .1745629   .0300377     5.81   0.000     .1154318     .233694\n",
      "------------------------------------------------------------------------------\n"
     ]
    }
   ],
   "source": [
    "reg locked_on_date case_on_date case_per_10k age_feb20  tenure"
   ]
  },
  {
   "cell_type": "markdown",
   "metadata": {},
   "source": [
    "# 变量分组输入"
   ]
  },
  {
   "cell_type": "markdown",
   "metadata": {},
   "source": [
    "dep: bdidx_avgdiff_holiday\n",
    "COVID: case_on_date case_per_10k\n",
    "cs_basic: age_feb20 tenure is_female\n",
    "cs_edu: is_STEM_major is_BA is_MA is_PhD\n",
    "ECON1: gdp2018 second_ind third_ind\n",
    "ECON2: pct_of_non_domestic_firm secondary_emp_share_total tertiary_emp_share_total\n",
    "医疗信息：num_hospital_total num_doctors_total"
   ]
  },
  {
   "cell_type": "markdown",
   "metadata": {},
   "source": [
    "### COVID + cs_basic"
   ]
  },
  {
   "cell_type": "code",
   "execution_count": 28,
   "metadata": {},
   "outputs": [
    {
     "name": "stdout",
     "output_type": "stream",
     "text": [
      "\n",
      "      Source |       SS           df       MS      Number of obs   =       279\n",
      "-------------+----------------------------------   F(5, 273)       =      7.78\n",
      "       Model |   6.7254054         5  1.34508108   Prob > F        =    0.0000\n",
      "    Residual |  47.1742362       273    .1727994   R-squared       =    0.1248\n",
      "-------------+----------------------------------   Adj R-squared   =    0.1087\n",
      "       Total |  53.8996416       278  .193883603   Root MSE        =    .41569\n",
      "\n",
      "------------------------------------------------------------------------------\n",
      "locked_on_~e |      Coef.   Std. Err.      t    P>|t|     [95% Conf. Interval]\n",
      "-------------+----------------------------------------------------------------\n",
      "case_on_date |    .002238   .0005592     4.00   0.000     .0011371    .0033388\n",
      "case_per_10k |  -.1043639   .2495607    -0.42   0.676     -.595672    .3869442\n",
      "   age_feb20 |    .030629   .0101328     3.02   0.003     .0106807    .0505773\n",
      "      tenure |  -.0296117   .0171603    -1.73   0.086     -.063395    .0041715\n",
      "   is_female |   .0341166    .136339     0.25   0.803    -.2342929    .3025261\n",
      "       _cons |  -1.447824     .54881    -2.64   0.009    -2.528262   -.3673863\n",
      "------------------------------------------------------------------------------\n"
     ]
    }
   ],
   "source": [
    "* COVID + cs_basic\n",
    "reg locked_on_date case_on_date case_per_10k age_feb20 tenure is_female"
   ]
  },
  {
   "cell_type": "code",
   "execution_count": 29,
   "metadata": {},
   "outputs": [
    {
     "name": "stdout",
     "output_type": "stream",
     "text": [
      "\n",
      "      Source |       SS           df       MS      Number of obs   =       279\n",
      "-------------+----------------------------------   F(5, 273)       =      9.59\n",
      "       Model |  13.5545857         5  2.71091713   Prob > F        =    0.0000\n",
      "    Residual |  77.2033051       273  .282795989   R-squared       =    0.1493\n",
      "-------------+----------------------------------   Adj R-squared   =    0.1338\n",
      "       Total |  90.7578907       278  .326467233   Root MSE        =    .53179\n",
      "\n",
      "------------------------------------------------------------------------------\n",
      "bdidx_avgd~y |      Coef.   Std. Err.      t    P>|t|     [95% Conf. Interval]\n",
      "-------------+----------------------------------------------------------------\n",
      "case_on_date |   .0022695   .0007153     3.17   0.002     .0008612    .0036778\n",
      "case_per_10k |   .6759851    .319258     2.12   0.035     .0474647    1.304506\n",
      "   age_feb20 |   .0183633   .0129626     1.42   0.158    -.0071561    .0438828\n",
      "      tenure |  -.0212894   .0219528    -0.97   0.333    -.0645076    .0219288\n",
      "   is_female |   .0294649   .1744158     0.17   0.866    -.3139059    .3728358\n",
      "       _cons |   .5988671   .7020815     0.85   0.394    -.7833149    1.981049\n",
      "------------------------------------------------------------------------------\n"
     ]
    }
   ],
   "source": [
    "* COVID + cs_basic\n",
    "reg bdidx_avgdiff_holiday case_on_date case_per_10k age_feb20 tenure is_female"
   ]
  },
  {
   "cell_type": "code",
   "execution_count": 31,
   "metadata": {},
   "outputs": [
    {
     "name": "stdout",
     "output_type": "stream",
     "text": [
      "\n",
      "      Source |       SS           df       MS      Number of obs   =       279\n",
      "-------------+----------------------------------   F(5, 273)       =      6.21\n",
      "       Model |  8.62554297         5  1.72510859   Prob > F        =    0.0000\n",
      "    Residual |   75.820443       273   .27773056   R-squared       =    0.1021\n",
      "-------------+----------------------------------   Adj R-squared   =    0.0857\n",
      "       Total |  84.4459859       278  .303762539   Root MSE        =      .527\n",
      "\n",
      "------------------------------------------------------------------------------\n",
      "bdidx_avgd~e |      Coef.   Std. Err.      t    P>|t|     [95% Conf. Interval]\n",
      "-------------+----------------------------------------------------------------\n",
      "case_on_date |   .0022253   .0007089     3.14   0.002     .0008297    .0036209\n",
      "case_per_10k |   .3502342   .3163858     1.11   0.269    -.2726318    .9731002\n",
      "   age_feb20 |   .0093975    .012846     0.73   0.465    -.0158923    .0346874\n",
      "      tenure |   .0174604   .0217553     0.80   0.423     -.025369    .0602898\n",
      "   is_female |   .0976019   .1728466     0.56   0.573    -.2426798    .4378836\n",
      "       _cons |   1.096017   .6957653     1.58   0.116    -.2737307    2.465764\n",
      "------------------------------------------------------------------------------\n"
     ]
    }
   ],
   "source": [
    "* COVID + cs_basic\n",
    "reg bdidx_avgdiff_date case_on_date case_per_10k age_feb20 tenure is_female"
   ]
  },
  {
   "cell_type": "markdown",
   "metadata": {},
   "source": [
    "### COVID + cs_basic"
   ]
  },
  {
   "cell_type": "code",
   "execution_count": null,
   "metadata": {},
   "outputs": [],
   "source": [
    "re"
   ]
  }
 ],
 "metadata": {
  "kernelspec": {
   "display_name": "Stata",
   "language": "stata",
   "name": "stata"
  },
  "language_info": {
   "codemirror_mode": "stata",
   "file_extension": ".do",
   "mimetype": "text/x-stata",
   "name": "stata",
   "version": "15.1"
  }
 },
 "nbformat": 4,
 "nbformat_minor": 4
}
